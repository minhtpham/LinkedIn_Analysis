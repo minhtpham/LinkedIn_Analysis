{
  "nbformat": 4,
  "nbformat_minor": 0,
  "metadata": {
    "colab": {
      "name": "Minh_Pham_LinkedIn_Analysis.ipynb",
      "provenance": [],
      "collapsed_sections": [],
      "authorship_tag": "ABX9TyPo28DWne+9MtKKmMtBJ8nt",
      "include_colab_link": true
    },
    "kernelspec": {
      "name": "python3",
      "display_name": "Python 3"
    },
    "language_info": {
      "name": "python"
    }
  },
  "cells": [
    {
      "cell_type": "markdown",
      "metadata": {
        "id": "view-in-github",
        "colab_type": "text"
      },
      "source": [
        "<a href=\"https://colab.research.google.com/github/minhtpham/LinkedIn_Analysis/blob/main/Minh_Pham_LinkedIn_Analysis.ipynb\" target=\"_parent\"><img src=\"https://colab.research.google.com/assets/colab-badge.svg\" alt=\"Open In Colab\"/></a>"
      ]
    },
    {
      "cell_type": "markdown",
      "metadata": {
        "id": "r9vB__FwFnYn"
      },
      "source": [
        "### **1.Housekeeping**"
      ]
    },
    {
      "cell_type": "code",
      "metadata": {
        "colab": {
          "base_uri": "https://localhost:8080/"
        },
        "id": "P8Mi3F7KD6Do",
        "outputId": "ec5882a4-2dae-4d93-d338-07c85f474f23"
      },
      "source": [
        "from IPython.core.display import display, HTML\n",
        "from pyvis import network as net\n",
        "import networkx as nx\n",
        "\n",
        "import plotly.express as px\n",
        "import plotly.graph_objects as go"
      ],
      "execution_count": null,
      "outputs": [
        {
          "output_type": "stream",
          "name": "stderr",
          "text": [
            "/usr/local/lib/python3.7/dist-packages/distributed/config.py:20: YAMLLoadWarning: calling yaml.load() without Loader=... is deprecated, as the default Loader is unsafe. Please read https://msg.pyyaml.org/load for full details.\n",
            "  defaults = yaml.load(f)\n"
          ]
        }
      ]
    },
    {
      "cell_type": "code",
      "metadata": {
        "colab": {
          "base_uri": "https://localhost:8080/"
        },
        "id": "HUVrSu5KQXZl",
        "outputId": "729156c6-5497-4efe-d9cf-7c73c8f7d465"
      },
      "source": [
        "pip install --upgrade plotly"
      ],
      "execution_count": null,
      "outputs": [
        {
          "output_type": "stream",
          "name": "stdout",
          "text": [
            "Requirement already satisfied: plotly in /usr/local/lib/python3.7/dist-packages (5.4.0)\n",
            "Requirement already satisfied: tenacity>=6.2.0 in /usr/local/lib/python3.7/dist-packages (from plotly) (8.0.1)\n",
            "Requirement already satisfied: six in /usr/local/lib/python3.7/dist-packages (from plotly) (1.15.0)\n"
          ]
        }
      ]
    },
    {
      "cell_type": "code",
      "metadata": {
        "id": "gNzxWEX_Q2sq"
      },
      "source": [
        "import pandas as pd\n",
        "import numpy as np \n",
        "import janitor\n",
        "import datetime"
      ],
      "execution_count": null,
      "outputs": []
    },
    {
      "cell_type": "code",
      "metadata": {
        "id": "h5lc-MiVckyx"
      },
      "source": [
        "!pip3 install -U datapane\n",
        "!pip install pyjanitor pyvis --quiet"
      ],
      "execution_count": null,
      "outputs": []
    },
    {
      "cell_type": "code",
      "metadata": {
        "id": "iYYQE-ibdePb"
      },
      "source": [
        "import datapane as dp"
      ],
      "execution_count": null,
      "outputs": []
    },
    {
      "cell_type": "markdown",
      "metadata": {
        "id": "us6vY8nRF_If"
      },
      "source": [
        "##### Load Data"
      ]
    },
    {
      "cell_type": "code",
      "metadata": {
        "id": "jIoV71uwGATQ"
      },
      "source": [
        "github_url = 'https://raw.githubusercontent.com/minhtpham/LinkedIn_Analysis/main/data/Connections.csv'\n",
        "\n",
        "network = pd.read_csv(github_url)"
      ],
      "execution_count": null,
      "outputs": []
    },
    {
      "cell_type": "markdown",
      "metadata": {
        "id": "LnehKBmvJ0pI"
      },
      "source": [
        "##### Clean Data"
      ]
    },
    {
      "cell_type": "code",
      "metadata": {
        "id": "mQM1ILrFHpsq"
      },
      "source": [
        "# Drop Null\n",
        "network = network.dropna(subset = ['Company','Position'])\n",
        "\n",
        "def convert(date):\n",
        "    return datetime.datetime.strptime(date, \"%d-%b-%y\").strftime(\"%Y-%m-%d\")\n",
        "\n",
        "network[\"Connected On\"] = network[\"Connected On\"].apply(convert)"
      ],
      "execution_count": null,
      "outputs": []
    },
    {
      "cell_type": "markdown",
      "metadata": {
        "id": "6VcvOML_MHYN"
      },
      "source": [
        "### **2. Exploratory Data Science**"
      ]
    },
    {
      "cell_type": "markdown",
      "metadata": {
        "id": "-PmX5x8WMMVz"
      },
      "source": [
        "##### **Connection Timeline**"
      ]
    },
    {
      "cell_type": "code",
      "metadata": {
        "colab": {
          "base_uri": "https://localhost:8080/",
          "height": 542
        },
        "id": "WqSbKlNeMQ-2",
        "outputId": "535979a8-a8d3-4066-954d-6b016e132161"
      },
      "source": [
        "connection_timeline = px.line(\n",
        "    network.groupby(by = 'Connected On').count().reset_index(),\n",
        "    x = \"Connected On\",\n",
        "    y = \"First Name\",\n",
        "    labels = {\"First Name\":\"Number\"},\n",
        "    title = 'My Connection Timelime'\n",
        ")\n",
        "connection_timeline.show()"
      ],
      "execution_count": null,
      "outputs": [
        {
          "output_type": "display_data",
          "data": {
            "text/html": [
              "<html>\n",
              "<head><meta charset=\"utf-8\" /></head>\n",
              "<body>\n",
              "    <div>            <script src=\"https://cdnjs.cloudflare.com/ajax/libs/mathjax/2.7.5/MathJax.js?config=TeX-AMS-MML_SVG\"></script><script type=\"text/javascript\">if (window.MathJax) {MathJax.Hub.Config({SVG: {font: \"STIX-Web\"}});}</script>                <script type=\"text/javascript\">window.PlotlyConfig = {MathJaxConfig: 'local'};</script>\n",
              "        <script src=\"https://cdn.plot.ly/plotly-2.6.3.min.js\"></script>                <div id=\"6aab2daa-7cd7-4e13-adfb-ba6a1ac6d136\" class=\"plotly-graph-div\" style=\"height:525px; width:100%;\"></div>            <script type=\"text/javascript\">                                    window.PLOTLYENV=window.PLOTLYENV || {};                                    if (document.getElementById(\"6aab2daa-7cd7-4e13-adfb-ba6a1ac6d136\")) {                    Plotly.newPlot(                        \"6aab2daa-7cd7-4e13-adfb-ba6a1ac6d136\",                        [{\"hovertemplate\":\"Connected On=%{x}<br>Number=%{y}<extra></extra>\",\"legendgroup\":\"\",\"line\":{\"color\":\"#636efa\",\"dash\":\"solid\"},\"marker\":{\"symbol\":\"circle\"},\"mode\":\"lines\",\"name\":\"\",\"orientation\":\"v\",\"showlegend\":false,\"x\":[\"2015-07-21\",\"2015-08-06\",\"2016-10-09\",\"2016-10-15\",\"2016-10-16\",\"2016-10-22\",\"2016-10-24\",\"2016-12-03\",\"2017-09-08\",\"2017-09-09\",\"2017-09-10\",\"2017-09-12\",\"2017-09-14\",\"2017-09-16\",\"2017-09-19\",\"2017-09-24\",\"2017-09-28\",\"2017-10-06\",\"2017-10-07\",\"2017-10-08\",\"2017-10-09\",\"2017-10-10\",\"2017-10-11\",\"2017-10-12\",\"2017-10-13\",\"2017-10-14\",\"2017-10-16\",\"2017-10-17\",\"2017-10-19\",\"2017-10-20\",\"2017-10-24\",\"2017-10-26\",\"2017-10-27\",\"2017-10-28\",\"2017-10-29\",\"2017-10-30\",\"2017-11-03\",\"2017-11-05\",\"2017-11-06\",\"2017-11-09\",\"2017-11-12\",\"2017-11-17\",\"2017-11-18\",\"2017-11-20\",\"2017-12-03\",\"2017-12-04\",\"2017-12-06\",\"2017-12-07\",\"2017-12-08\",\"2017-12-09\",\"2017-12-10\",\"2017-12-14\",\"2017-12-18\",\"2017-12-22\",\"2017-12-23\",\"2017-12-30\",\"2018-01-01\",\"2018-01-04\",\"2018-01-05\",\"2018-01-07\",\"2018-01-08\",\"2018-01-09\",\"2018-01-17\",\"2018-01-19\",\"2018-01-23\",\"2018-01-29\",\"2018-01-30\",\"2018-02-01\",\"2018-02-02\",\"2018-02-03\",\"2018-02-09\",\"2018-02-19\",\"2018-02-21\",\"2018-02-27\",\"2018-02-28\",\"2018-03-05\",\"2018-03-20\",\"2018-03-22\",\"2018-03-28\",\"2018-03-30\",\"2018-03-31\",\"2018-04-03\",\"2018-04-06\",\"2018-04-08\",\"2018-04-14\",\"2018-04-16\",\"2018-04-17\",\"2018-04-19\",\"2018-04-20\",\"2018-04-25\",\"2018-05-03\",\"2018-05-06\",\"2018-05-08\",\"2018-05-09\",\"2018-05-10\",\"2018-05-16\",\"2018-05-17\",\"2018-05-18\",\"2018-05-22\",\"2018-05-29\",\"2018-05-30\",\"2018-06-15\",\"2018-06-23\",\"2018-06-26\",\"2018-07-03\",\"2018-07-14\",\"2018-07-16\",\"2018-07-24\",\"2018-08-08\",\"2018-08-16\",\"2018-08-29\",\"2018-09-03\",\"2018-09-11\",\"2018-09-12\",\"2018-09-14\",\"2018-09-19\",\"2018-09-21\",\"2018-09-22\",\"2018-09-25\",\"2018-09-26\",\"2018-09-28\",\"2018-09-30\",\"2018-10-04\",\"2018-10-05\",\"2018-10-06\",\"2018-10-07\",\"2018-10-09\",\"2018-10-11\",\"2018-10-15\",\"2018-10-17\",\"2018-10-18\",\"2018-10-19\",\"2018-10-22\",\"2018-10-23\",\"2018-10-24\",\"2018-10-25\",\"2018-10-26\",\"2018-10-31\",\"2018-11-03\",\"2018-11-04\",\"2018-11-07\",\"2018-11-12\",\"2018-11-13\",\"2018-11-14\",\"2018-11-15\",\"2018-11-20\",\"2018-11-23\",\"2018-11-27\",\"2018-11-29\",\"2018-12-01\",\"2018-12-09\",\"2018-12-25\",\"2018-12-29\",\"2019-01-02\",\"2019-01-07\",\"2019-01-21\",\"2019-01-28\",\"2019-01-31\",\"2019-02-01\",\"2019-02-02\",\"2019-02-05\",\"2019-02-06\",\"2019-02-07\",\"2019-02-08\",\"2019-02-11\",\"2019-02-12\",\"2019-02-13\",\"2019-02-16\",\"2019-02-17\",\"2019-02-18\",\"2019-02-19\",\"2019-02-20\",\"2019-02-22\",\"2019-02-24\",\"2019-02-25\",\"2019-02-26\",\"2019-02-27\",\"2019-02-28\",\"2019-03-15\",\"2019-03-16\",\"2019-03-17\",\"2019-03-19\",\"2019-03-20\",\"2019-03-23\",\"2019-03-24\",\"2019-03-25\",\"2019-03-28\",\"2019-03-29\",\"2019-03-30\",\"2019-04-02\",\"2019-04-04\",\"2019-04-11\",\"2019-04-17\",\"2019-04-23\",\"2019-04-25\",\"2019-04-26\",\"2019-04-28\",\"2019-04-29\",\"2019-05-01\",\"2019-05-02\",\"2019-05-07\",\"2019-05-13\",\"2019-05-14\",\"2019-05-20\",\"2019-05-23\",\"2019-05-24\",\"2019-05-27\",\"2019-05-31\",\"2019-06-01\",\"2019-06-03\",\"2019-06-04\",\"2019-06-05\",\"2019-06-06\",\"2019-06-09\",\"2019-06-10\",\"2019-06-11\",\"2019-06-12\",\"2019-06-15\",\"2019-06-24\",\"2019-06-25\",\"2019-07-01\",\"2019-07-02\",\"2019-07-03\",\"2019-07-05\",\"2019-07-06\",\"2019-07-07\",\"2019-07-09\",\"2019-07-10\",\"2019-07-11\",\"2019-07-12\",\"2019-07-14\",\"2019-07-15\",\"2019-07-16\",\"2019-07-17\",\"2019-07-18\",\"2019-07-19\",\"2019-07-21\",\"2019-07-22\",\"2019-07-24\",\"2019-07-25\",\"2019-07-27\",\"2019-07-28\",\"2019-07-29\",\"2019-07-30\",\"2019-07-31\",\"2019-08-04\",\"2019-08-05\",\"2019-08-08\",\"2019-08-09\",\"2019-08-10\",\"2019-08-14\",\"2019-08-18\",\"2019-08-23\",\"2019-08-27\",\"2019-08-31\",\"2019-09-02\",\"2019-09-03\",\"2019-09-04\",\"2019-09-05\",\"2019-09-08\",\"2019-09-11\",\"2019-09-12\",\"2019-09-13\",\"2019-09-14\",\"2019-09-16\",\"2019-09-18\",\"2019-09-20\",\"2019-09-24\",\"2019-09-26\",\"2019-09-27\",\"2019-10-01\",\"2019-10-02\",\"2019-10-03\",\"2019-10-05\",\"2019-10-08\",\"2019-10-09\",\"2019-10-10\",\"2019-10-11\",\"2019-10-14\",\"2019-10-23\",\"2019-10-25\",\"2019-10-28\",\"2019-10-29\",\"2019-10-30\",\"2019-10-31\",\"2019-11-05\",\"2019-11-07\",\"2019-11-08\",\"2019-11-09\",\"2019-11-13\",\"2019-11-14\",\"2019-11-15\",\"2019-11-16\",\"2019-11-17\",\"2019-11-18\",\"2019-11-21\",\"2019-11-30\",\"2019-12-03\",\"2019-12-12\",\"2019-12-16\",\"2019-12-19\",\"2020-01-01\",\"2020-01-08\",\"2020-01-16\",\"2020-01-17\",\"2020-01-23\",\"2020-01-24\",\"2020-01-26\",\"2020-01-27\",\"2020-01-28\",\"2020-01-30\",\"2020-02-03\",\"2020-02-05\",\"2020-02-07\",\"2020-02-10\",\"2020-02-11\",\"2020-02-12\",\"2020-02-13\",\"2020-02-14\",\"2020-02-17\",\"2020-02-18\",\"2020-02-19\",\"2020-02-21\",\"2020-02-23\",\"2020-02-26\",\"2020-02-29\",\"2020-03-01\",\"2020-03-02\",\"2020-03-03\",\"2020-03-06\",\"2020-03-09\",\"2020-03-10\",\"2020-03-11\",\"2020-03-12\",\"2020-03-16\",\"2020-03-17\",\"2020-03-18\",\"2020-03-23\",\"2020-03-24\",\"2020-03-25\",\"2020-03-26\",\"2020-03-27\",\"2020-03-28\",\"2020-03-29\",\"2020-03-30\",\"2020-03-31\",\"2020-04-04\",\"2020-04-05\",\"2020-04-06\",\"2020-04-08\",\"2020-04-09\",\"2020-04-12\",\"2020-04-13\",\"2020-04-14\",\"2020-04-15\",\"2020-04-16\",\"2020-04-17\",\"2020-04-18\",\"2020-04-19\",\"2020-04-20\",\"2020-04-21\",\"2020-04-24\",\"2020-04-27\",\"2020-04-28\",\"2020-04-29\",\"2020-04-30\",\"2020-05-02\",\"2020-05-05\",\"2020-05-06\",\"2020-05-07\",\"2020-05-08\",\"2020-05-09\",\"2020-05-10\",\"2020-05-11\",\"2020-05-12\",\"2020-05-13\",\"2020-05-14\",\"2020-05-15\",\"2020-05-16\",\"2020-05-17\",\"2020-05-18\",\"2020-05-19\",\"2020-05-20\",\"2020-05-21\",\"2020-05-23\",\"2020-05-24\",\"2020-05-25\",\"2020-05-26\",\"2020-05-27\",\"2020-05-28\",\"2020-05-29\",\"2020-05-30\",\"2020-05-31\",\"2020-06-01\",\"2020-06-03\",\"2020-06-04\",\"2020-06-06\",\"2020-06-08\",\"2020-06-09\",\"2020-06-10\",\"2020-06-11\",\"2020-06-12\",\"2020-06-13\",\"2020-06-16\",\"2020-06-17\",\"2020-06-19\",\"2020-06-20\",\"2020-06-21\",\"2020-06-22\",\"2020-06-23\",\"2020-06-24\",\"2020-06-25\",\"2020-06-26\",\"2020-06-27\",\"2020-06-28\",\"2020-06-30\",\"2020-07-01\",\"2020-07-02\",\"2020-07-06\",\"2020-07-07\",\"2020-07-08\",\"2020-07-09\",\"2020-07-11\",\"2020-07-12\",\"2020-07-13\",\"2020-07-14\",\"2020-07-16\",\"2020-07-17\",\"2020-07-22\",\"2020-07-23\",\"2020-07-24\",\"2020-07-25\",\"2020-07-26\",\"2020-07-27\",\"2020-07-28\",\"2020-07-30\",\"2020-07-31\",\"2020-08-01\",\"2020-08-02\",\"2020-08-03\",\"2020-08-04\",\"2020-08-06\",\"2020-08-08\",\"2020-08-09\",\"2020-08-11\",\"2020-08-12\",\"2020-08-13\",\"2020-08-14\",\"2020-08-15\",\"2020-08-16\",\"2020-08-17\",\"2020-08-18\",\"2020-08-19\",\"2020-08-25\",\"2020-08-26\",\"2020-08-27\",\"2020-08-28\",\"2020-08-29\",\"2020-08-30\",\"2020-08-31\",\"2020-09-01\",\"2020-09-02\",\"2020-09-04\",\"2020-09-06\",\"2020-09-08\",\"2020-09-10\",\"2020-09-11\",\"2020-09-12\",\"2020-09-14\",\"2020-09-15\",\"2020-09-16\",\"2020-09-17\",\"2020-09-19\",\"2020-09-21\",\"2020-09-22\",\"2020-09-23\",\"2020-09-24\",\"2020-10-02\",\"2020-10-04\",\"2020-10-05\",\"2020-10-06\",\"2020-10-07\",\"2020-10-08\",\"2020-10-11\",\"2020-10-12\",\"2020-10-13\",\"2020-10-14\",\"2020-10-15\",\"2020-10-17\",\"2020-10-18\",\"2020-10-20\",\"2020-10-21\",\"2020-10-22\",\"2020-10-25\",\"2020-10-26\",\"2020-10-27\",\"2020-10-29\",\"2020-10-30\",\"2020-10-31\",\"2020-11-05\",\"2020-11-06\",\"2020-11-08\",\"2020-11-11\",\"2020-11-12\",\"2020-11-13\",\"2020-11-15\",\"2020-11-16\",\"2020-11-17\",\"2020-11-23\",\"2020-11-29\",\"2020-12-21\",\"2020-12-26\",\"2021-01-07\",\"2021-01-11\",\"2021-01-13\",\"2021-01-16\",\"2021-01-20\",\"2021-01-21\",\"2021-01-28\",\"2021-01-29\",\"2021-01-30\",\"2021-01-31\",\"2021-02-01\",\"2021-02-04\",\"2021-02-05\",\"2021-02-09\",\"2021-02-10\",\"2021-02-11\",\"2021-02-12\",\"2021-02-15\",\"2021-02-18\",\"2021-02-19\",\"2021-02-21\",\"2021-02-25\",\"2021-03-01\",\"2021-03-03\",\"2021-03-07\",\"2021-03-08\",\"2021-03-10\",\"2021-03-12\",\"2021-03-13\",\"2021-03-14\",\"2021-03-15\",\"2021-03-16\",\"2021-03-17\",\"2021-03-18\",\"2021-03-19\",\"2021-03-20\",\"2021-03-21\",\"2021-03-22\",\"2021-03-23\",\"2021-03-24\",\"2021-03-25\",\"2021-03-26\",\"2021-03-28\",\"2021-03-29\",\"2021-03-30\",\"2021-03-31\",\"2021-04-01\",\"2021-04-02\",\"2021-04-03\",\"2021-04-04\",\"2021-04-05\",\"2021-04-06\",\"2021-04-08\",\"2021-04-10\",\"2021-04-11\",\"2021-04-12\",\"2021-04-13\",\"2021-04-14\",\"2021-04-15\",\"2021-04-16\",\"2021-04-17\",\"2021-04-19\",\"2021-04-20\",\"2021-04-21\",\"2021-04-22\",\"2021-04-23\",\"2021-04-24\",\"2021-04-25\",\"2021-04-26\",\"2021-04-27\",\"2021-04-28\",\"2021-04-30\",\"2021-05-02\",\"2021-05-04\",\"2021-05-05\",\"2021-05-10\",\"2021-05-11\",\"2021-05-12\",\"2021-05-15\",\"2021-05-16\",\"2021-05-17\",\"2021-05-19\",\"2021-05-20\",\"2021-05-21\",\"2021-05-22\",\"2021-05-24\",\"2021-05-25\",\"2021-05-26\",\"2021-05-27\",\"2021-05-30\",\"2021-05-31\",\"2021-06-01\",\"2021-06-02\",\"2021-06-03\",\"2021-06-04\",\"2021-06-07\",\"2021-06-08\",\"2021-06-09\",\"2021-06-10\",\"2021-06-11\",\"2021-06-13\",\"2021-06-14\",\"2021-06-15\",\"2021-06-16\",\"2021-06-17\",\"2021-06-18\",\"2021-06-19\",\"2021-06-21\",\"2021-06-22\",\"2021-06-23\",\"2021-06-26\",\"2021-06-27\",\"2021-06-29\",\"2021-07-01\",\"2021-07-04\",\"2021-07-08\",\"2021-07-09\",\"2021-07-10\",\"2021-07-11\",\"2021-07-13\",\"2021-07-14\",\"2021-07-15\",\"2021-07-17\",\"2021-07-19\",\"2021-07-21\",\"2021-07-22\",\"2021-07-25\",\"2021-07-27\",\"2021-07-28\",\"2021-07-29\",\"2021-07-30\",\"2021-07-31\",\"2021-08-01\",\"2021-08-02\",\"2021-08-03\",\"2021-08-04\",\"2021-08-05\",\"2021-08-06\",\"2021-08-08\",\"2021-08-10\",\"2021-08-12\",\"2021-08-16\",\"2021-08-19\",\"2021-08-21\",\"2021-08-22\",\"2021-08-24\",\"2021-08-26\",\"2021-08-27\",\"2021-08-28\",\"2021-08-30\",\"2021-08-31\",\"2021-09-01\",\"2021-09-02\",\"2021-09-03\",\"2021-09-05\",\"2021-09-06\",\"2021-09-07\",\"2021-09-09\",\"2021-09-10\",\"2021-09-11\",\"2021-09-14\",\"2021-09-15\",\"2021-09-16\",\"2021-09-17\",\"2021-09-18\",\"2021-09-19\",\"2021-09-20\",\"2021-09-21\",\"2021-09-22\",\"2021-09-23\",\"2021-09-24\",\"2021-09-25\",\"2021-09-26\",\"2021-09-27\",\"2021-09-28\",\"2021-09-30\",\"2021-10-01\",\"2021-10-03\",\"2021-10-04\",\"2021-10-06\",\"2021-10-07\",\"2021-10-11\",\"2021-10-12\",\"2021-10-13\",\"2021-10-15\",\"2021-10-16\",\"2021-10-18\",\"2021-10-19\",\"2021-10-20\",\"2021-10-21\",\"2021-10-22\",\"2021-10-23\",\"2021-10-24\",\"2021-10-28\",\"2021-10-29\",\"2021-10-31\",\"2021-11-01\",\"2021-11-02\",\"2021-11-03\",\"2021-11-04\",\"2021-11-08\",\"2021-11-09\",\"2021-11-10\",\"2021-11-11\",\"2021-11-12\",\"2021-11-13\",\"2021-11-14\",\"2021-11-15\",\"2021-11-16\",\"2021-11-17\",\"2021-11-18\"],\"xaxis\":\"x\",\"y\":[4,1,1,2,1,1,1,1,3,1,1,2,2,1,1,1,2,33,3,5,3,16,6,5,2,3,2,1,4,2,2,1,2,1,2,1,2,4,3,1,1,1,2,1,1,1,1,1,2,1,1,1,1,1,1,1,1,1,1,1,1,1,1,1,2,2,1,2,3,1,1,6,3,3,1,1,1,1,1,3,1,1,1,1,1,1,2,1,2,1,1,1,1,2,2,2,1,2,1,1,1,1,1,1,3,1,2,1,6,1,5,1,2,4,2,1,1,1,2,4,1,1,3,2,1,1,1,1,1,1,3,1,1,2,2,2,1,1,1,1,1,1,1,1,1,1,1,1,2,1,1,1,2,1,1,2,1,1,1,2,1,2,5,2,3,1,1,2,1,1,1,3,1,2,3,1,1,1,2,1,2,1,1,3,3,4,1,1,1,1,2,1,2,2,1,1,1,2,1,1,3,1,1,1,1,1,1,10,2,3,1,6,5,1,3,1,2,3,1,1,1,1,2,4,4,1,12,19,10,2,1,2,6,5,1,1,1,4,3,1,1,2,1,3,1,1,1,1,1,3,2,1,4,4,1,3,3,1,1,1,2,1,1,1,1,2,4,1,1,1,3,2,3,1,1,1,2,1,2,1,1,2,3,1,1,4,1,2,2,1,8,2,1,2,1,1,1,1,1,1,1,2,4,3,1,2,3,1,1,1,1,1,3,1,1,4,4,4,3,1,2,1,2,3,1,2,1,1,2,2,1,2,10,3,2,6,3,1,1,2,2,3,1,2,2,1,1,1,1,2,4,1,2,18,1,1,3,1,1,2,2,7,2,2,3,3,1,2,2,3,2,1,2,4,2,5,2,2,1,2,1,4,3,1,2,2,6,6,8,21,31,11,4,5,2,4,1,3,2,2,2,3,1,5,1,8,2,3,3,2,3,3,4,2,1,1,6,4,2,4,3,3,2,1,1,4,4,2,2,1,1,1,2,4,1,3,1,3,1,2,1,1,2,1,1,1,1,1,1,1,1,2,1,2,1,1,3,2,1,1,6,1,2,2,3,1,1,2,2,2,2,3,1,1,1,1,1,1,3,3,1,3,2,12,9,2,1,3,1,1,2,1,5,2,1,2,2,1,1,3,1,1,1,2,1,1,2,1,1,1,2,1,1,1,1,3,1,1,4,2,1,1,1,6,1,2,4,4,5,1,1,1,2,1,1,1,1,1,1,26,9,9,8,1,5,2,3,3,3,4,1,1,1,2,1,2,1,2,2,1,1,2,2,1,8,12,4,2,2,1,1,2,6,8,1,4,4,2,1,1,1,1,1,2,1,1,1,1,1,1,1,1,2,4,2,4,2,5,2,2,1,3,4,2,1,3,1,1,4,3,1,5,1,5,2,2,4,3,2,1,1,2,1,2,2,1,1,3,1,1,1,2,2,3,1,1,3,3,3,1,1,2,1,3,1,1,3,1,2,1,1,3,4,1,1,2,1,1,1,1,1,2,6,7,18,3,1,3,6,1,1,1,1,1,2,1,1,5,1,2,1,1,3,2,1,1,1,2,4,1,1,2,1,4,1,1,2,2,1,2,3,5,1,3,1,3,4,2,2,1,4,4,3,4,21,15,7,14,2,8,4,4,2],\"yaxis\":\"y\",\"type\":\"scatter\"}],                        {\"template\":{\"data\":{\"bar\":[{\"error_x\":{\"color\":\"#2a3f5f\"},\"error_y\":{\"color\":\"#2a3f5f\"},\"marker\":{\"line\":{\"color\":\"#E5ECF6\",\"width\":0.5},\"pattern\":{\"fillmode\":\"overlay\",\"size\":10,\"solidity\":0.2}},\"type\":\"bar\"}],\"barpolar\":[{\"marker\":{\"line\":{\"color\":\"#E5ECF6\",\"width\":0.5},\"pattern\":{\"fillmode\":\"overlay\",\"size\":10,\"solidity\":0.2}},\"type\":\"barpolar\"}],\"carpet\":[{\"aaxis\":{\"endlinecolor\":\"#2a3f5f\",\"gridcolor\":\"white\",\"linecolor\":\"white\",\"minorgridcolor\":\"white\",\"startlinecolor\":\"#2a3f5f\"},\"baxis\":{\"endlinecolor\":\"#2a3f5f\",\"gridcolor\":\"white\",\"linecolor\":\"white\",\"minorgridcolor\":\"white\",\"startlinecolor\":\"#2a3f5f\"},\"type\":\"carpet\"}],\"choropleth\":[{\"colorbar\":{\"outlinewidth\":0,\"ticks\":\"\"},\"type\":\"choropleth\"}],\"contour\":[{\"colorbar\":{\"outlinewidth\":0,\"ticks\":\"\"},\"colorscale\":[[0.0,\"#0d0887\"],[0.1111111111111111,\"#46039f\"],[0.2222222222222222,\"#7201a8\"],[0.3333333333333333,\"#9c179e\"],[0.4444444444444444,\"#bd3786\"],[0.5555555555555556,\"#d8576b\"],[0.6666666666666666,\"#ed7953\"],[0.7777777777777778,\"#fb9f3a\"],[0.8888888888888888,\"#fdca26\"],[1.0,\"#f0f921\"]],\"type\":\"contour\"}],\"contourcarpet\":[{\"colorbar\":{\"outlinewidth\":0,\"ticks\":\"\"},\"type\":\"contourcarpet\"}],\"heatmap\":[{\"colorbar\":{\"outlinewidth\":0,\"ticks\":\"\"},\"colorscale\":[[0.0,\"#0d0887\"],[0.1111111111111111,\"#46039f\"],[0.2222222222222222,\"#7201a8\"],[0.3333333333333333,\"#9c179e\"],[0.4444444444444444,\"#bd3786\"],[0.5555555555555556,\"#d8576b\"],[0.6666666666666666,\"#ed7953\"],[0.7777777777777778,\"#fb9f3a\"],[0.8888888888888888,\"#fdca26\"],[1.0,\"#f0f921\"]],\"type\":\"heatmap\"}],\"heatmapgl\":[{\"colorbar\":{\"outlinewidth\":0,\"ticks\":\"\"},\"colorscale\":[[0.0,\"#0d0887\"],[0.1111111111111111,\"#46039f\"],[0.2222222222222222,\"#7201a8\"],[0.3333333333333333,\"#9c179e\"],[0.4444444444444444,\"#bd3786\"],[0.5555555555555556,\"#d8576b\"],[0.6666666666666666,\"#ed7953\"],[0.7777777777777778,\"#fb9f3a\"],[0.8888888888888888,\"#fdca26\"],[1.0,\"#f0f921\"]],\"type\":\"heatmapgl\"}],\"histogram\":[{\"marker\":{\"pattern\":{\"fillmode\":\"overlay\",\"size\":10,\"solidity\":0.2}},\"type\":\"histogram\"}],\"histogram2d\":[{\"colorbar\":{\"outlinewidth\":0,\"ticks\":\"\"},\"colorscale\":[[0.0,\"#0d0887\"],[0.1111111111111111,\"#46039f\"],[0.2222222222222222,\"#7201a8\"],[0.3333333333333333,\"#9c179e\"],[0.4444444444444444,\"#bd3786\"],[0.5555555555555556,\"#d8576b\"],[0.6666666666666666,\"#ed7953\"],[0.7777777777777778,\"#fb9f3a\"],[0.8888888888888888,\"#fdca26\"],[1.0,\"#f0f921\"]],\"type\":\"histogram2d\"}],\"histogram2dcontour\":[{\"colorbar\":{\"outlinewidth\":0,\"ticks\":\"\"},\"colorscale\":[[0.0,\"#0d0887\"],[0.1111111111111111,\"#46039f\"],[0.2222222222222222,\"#7201a8\"],[0.3333333333333333,\"#9c179e\"],[0.4444444444444444,\"#bd3786\"],[0.5555555555555556,\"#d8576b\"],[0.6666666666666666,\"#ed7953\"],[0.7777777777777778,\"#fb9f3a\"],[0.8888888888888888,\"#fdca26\"],[1.0,\"#f0f921\"]],\"type\":\"histogram2dcontour\"}],\"mesh3d\":[{\"colorbar\":{\"outlinewidth\":0,\"ticks\":\"\"},\"type\":\"mesh3d\"}],\"parcoords\":[{\"line\":{\"colorbar\":{\"outlinewidth\":0,\"ticks\":\"\"}},\"type\":\"parcoords\"}],\"pie\":[{\"automargin\":true,\"type\":\"pie\"}],\"scatter\":[{\"marker\":{\"colorbar\":{\"outlinewidth\":0,\"ticks\":\"\"}},\"type\":\"scatter\"}],\"scatter3d\":[{\"line\":{\"colorbar\":{\"outlinewidth\":0,\"ticks\":\"\"}},\"marker\":{\"colorbar\":{\"outlinewidth\":0,\"ticks\":\"\"}},\"type\":\"scatter3d\"}],\"scattercarpet\":[{\"marker\":{\"colorbar\":{\"outlinewidth\":0,\"ticks\":\"\"}},\"type\":\"scattercarpet\"}],\"scattergeo\":[{\"marker\":{\"colorbar\":{\"outlinewidth\":0,\"ticks\":\"\"}},\"type\":\"scattergeo\"}],\"scattergl\":[{\"marker\":{\"colorbar\":{\"outlinewidth\":0,\"ticks\":\"\"}},\"type\":\"scattergl\"}],\"scattermapbox\":[{\"marker\":{\"colorbar\":{\"outlinewidth\":0,\"ticks\":\"\"}},\"type\":\"scattermapbox\"}],\"scatterpolar\":[{\"marker\":{\"colorbar\":{\"outlinewidth\":0,\"ticks\":\"\"}},\"type\":\"scatterpolar\"}],\"scatterpolargl\":[{\"marker\":{\"colorbar\":{\"outlinewidth\":0,\"ticks\":\"\"}},\"type\":\"scatterpolargl\"}],\"scatterternary\":[{\"marker\":{\"colorbar\":{\"outlinewidth\":0,\"ticks\":\"\"}},\"type\":\"scatterternary\"}],\"surface\":[{\"colorbar\":{\"outlinewidth\":0,\"ticks\":\"\"},\"colorscale\":[[0.0,\"#0d0887\"],[0.1111111111111111,\"#46039f\"],[0.2222222222222222,\"#7201a8\"],[0.3333333333333333,\"#9c179e\"],[0.4444444444444444,\"#bd3786\"],[0.5555555555555556,\"#d8576b\"],[0.6666666666666666,\"#ed7953\"],[0.7777777777777778,\"#fb9f3a\"],[0.8888888888888888,\"#fdca26\"],[1.0,\"#f0f921\"]],\"type\":\"surface\"}],\"table\":[{\"cells\":{\"fill\":{\"color\":\"#EBF0F8\"},\"line\":{\"color\":\"white\"}},\"header\":{\"fill\":{\"color\":\"#C8D4E3\"},\"line\":{\"color\":\"white\"}},\"type\":\"table\"}]},\"layout\":{\"annotationdefaults\":{\"arrowcolor\":\"#2a3f5f\",\"arrowhead\":0,\"arrowwidth\":1},\"autotypenumbers\":\"strict\",\"coloraxis\":{\"colorbar\":{\"outlinewidth\":0,\"ticks\":\"\"}},\"colorscale\":{\"diverging\":[[0,\"#8e0152\"],[0.1,\"#c51b7d\"],[0.2,\"#de77ae\"],[0.3,\"#f1b6da\"],[0.4,\"#fde0ef\"],[0.5,\"#f7f7f7\"],[0.6,\"#e6f5d0\"],[0.7,\"#b8e186\"],[0.8,\"#7fbc41\"],[0.9,\"#4d9221\"],[1,\"#276419\"]],\"sequential\":[[0.0,\"#0d0887\"],[0.1111111111111111,\"#46039f\"],[0.2222222222222222,\"#7201a8\"],[0.3333333333333333,\"#9c179e\"],[0.4444444444444444,\"#bd3786\"],[0.5555555555555556,\"#d8576b\"],[0.6666666666666666,\"#ed7953\"],[0.7777777777777778,\"#fb9f3a\"],[0.8888888888888888,\"#fdca26\"],[1.0,\"#f0f921\"]],\"sequentialminus\":[[0.0,\"#0d0887\"],[0.1111111111111111,\"#46039f\"],[0.2222222222222222,\"#7201a8\"],[0.3333333333333333,\"#9c179e\"],[0.4444444444444444,\"#bd3786\"],[0.5555555555555556,\"#d8576b\"],[0.6666666666666666,\"#ed7953\"],[0.7777777777777778,\"#fb9f3a\"],[0.8888888888888888,\"#fdca26\"],[1.0,\"#f0f921\"]]},\"colorway\":[\"#636efa\",\"#EF553B\",\"#00cc96\",\"#ab63fa\",\"#FFA15A\",\"#19d3f3\",\"#FF6692\",\"#B6E880\",\"#FF97FF\",\"#FECB52\"],\"font\":{\"color\":\"#2a3f5f\"},\"geo\":{\"bgcolor\":\"white\",\"lakecolor\":\"white\",\"landcolor\":\"#E5ECF6\",\"showlakes\":true,\"showland\":true,\"subunitcolor\":\"white\"},\"hoverlabel\":{\"align\":\"left\"},\"hovermode\":\"closest\",\"mapbox\":{\"style\":\"light\"},\"paper_bgcolor\":\"white\",\"plot_bgcolor\":\"#E5ECF6\",\"polar\":{\"angularaxis\":{\"gridcolor\":\"white\",\"linecolor\":\"white\",\"ticks\":\"\"},\"bgcolor\":\"#E5ECF6\",\"radialaxis\":{\"gridcolor\":\"white\",\"linecolor\":\"white\",\"ticks\":\"\"}},\"scene\":{\"xaxis\":{\"backgroundcolor\":\"#E5ECF6\",\"gridcolor\":\"white\",\"gridwidth\":2,\"linecolor\":\"white\",\"showbackground\":true,\"ticks\":\"\",\"zerolinecolor\":\"white\"},\"yaxis\":{\"backgroundcolor\":\"#E5ECF6\",\"gridcolor\":\"white\",\"gridwidth\":2,\"linecolor\":\"white\",\"showbackground\":true,\"ticks\":\"\",\"zerolinecolor\":\"white\"},\"zaxis\":{\"backgroundcolor\":\"#E5ECF6\",\"gridcolor\":\"white\",\"gridwidth\":2,\"linecolor\":\"white\",\"showbackground\":true,\"ticks\":\"\",\"zerolinecolor\":\"white\"}},\"shapedefaults\":{\"line\":{\"color\":\"#2a3f5f\"}},\"ternary\":{\"aaxis\":{\"gridcolor\":\"white\",\"linecolor\":\"white\",\"ticks\":\"\"},\"baxis\":{\"gridcolor\":\"white\",\"linecolor\":\"white\",\"ticks\":\"\"},\"bgcolor\":\"#E5ECF6\",\"caxis\":{\"gridcolor\":\"white\",\"linecolor\":\"white\",\"ticks\":\"\"}},\"title\":{\"x\":0.05},\"xaxis\":{\"automargin\":true,\"gridcolor\":\"white\",\"linecolor\":\"white\",\"ticks\":\"\",\"title\":{\"standoff\":15},\"zerolinecolor\":\"white\",\"zerolinewidth\":2},\"yaxis\":{\"automargin\":true,\"gridcolor\":\"white\",\"linecolor\":\"white\",\"ticks\":\"\",\"title\":{\"standoff\":15},\"zerolinecolor\":\"white\",\"zerolinewidth\":2}}},\"xaxis\":{\"anchor\":\"y\",\"domain\":[0.0,1.0],\"title\":{\"text\":\"Connected On\"}},\"yaxis\":{\"anchor\":\"x\",\"domain\":[0.0,1.0],\"title\":{\"text\":\"Number\"}},\"legend\":{\"tracegroupgap\":0},\"title\":{\"text\":\"My Connection Timelime\"}},                        {\"responsive\": true}                    ).then(function(){\n",
              "                            \n",
              "var gd = document.getElementById('6aab2daa-7cd7-4e13-adfb-ba6a1ac6d136');\n",
              "var x = new MutationObserver(function (mutations, observer) {{\n",
              "        var display = window.getComputedStyle(gd).display;\n",
              "        if (!display || display === 'none') {{\n",
              "            console.log([gd, 'removed!']);\n",
              "            Plotly.purge(gd);\n",
              "            observer.disconnect();\n",
              "        }}\n",
              "}});\n",
              "\n",
              "// Listen for the removal of the full notebook cells\n",
              "var notebookContainer = gd.closest('#notebook-container');\n",
              "if (notebookContainer) {{\n",
              "    x.observe(notebookContainer, {childList: true});\n",
              "}}\n",
              "\n",
              "// Listen for the clearing of the current output cell\n",
              "var outputEl = gd.closest('.output');\n",
              "if (outputEl) {{\n",
              "    x.observe(outputEl, {childList: true});\n",
              "}}\n",
              "\n",
              "                        })                };                            </script>        </div>\n",
              "</body>\n",
              "</html>"
            ]
          },
          "metadata": {}
        }
      ]
    },
    {
      "cell_type": "markdown",
      "metadata": {
        "id": "KPYuxGd0OAdL"
      },
      "source": [
        "I can see that I got motivated to connect and network with people on LinkedIn in phases. The rest of the time I'm recovering from networking :D"
      ]
    },
    {
      "cell_type": "markdown",
      "metadata": {
        "id": "ANWgZO85OJ6y"
      },
      "source": [
        "##### **Companies**"
      ]
    },
    {
      "cell_type": "code",
      "metadata": {
        "id": "6KA5S555Pwui"
      },
      "source": [
        "company = network.groupby(by='Company').count().reset_index().sort_values(by='First Name', ascending=False).reset_index(drop=True)"
      ],
      "execution_count": null,
      "outputs": []
    },
    {
      "cell_type": "code",
      "metadata": {
        "colab": {
          "base_uri": "https://localhost:8080/",
          "height": 265
        },
        "id": "5XZig0KlObhI",
        "outputId": "e29d2be3-1e6e-44b2-a970-849847d43d1a"
      },
      "source": [
        "network['Company'].value_counts().head(20).plot(kind=\"barh\").invert_yaxis();"
      ],
      "execution_count": null,
      "outputs": [
        {
          "output_type": "display_data",
          "data": {
            "image/png": "[encoded data removed]",
            "text/plain": [
              "<Figure size 432x288 with 1 Axes>"
            ]
          },
          "metadata": {
            "needs_background": "light"
          }
        }
      ]
    },
    {
      "cell_type": "markdown",
      "metadata": {
        "id": "dx3jXt15O0MG"
      },
      "source": [
        "Lots of my connections are still at CWRU. Duke Fuqua School of Business is close!"
      ]
    },
    {
      "cell_type": "code",
      "metadata": {
        "colab": {
          "base_uri": "https://localhost:8080/",
          "height": 542
        },
        "id": "zdReS1JCPCmb",
        "outputId": "d1df9b8f-0e5d-4895-ec56-14395d185d7e"
      },
      "source": [
        "connection_treemap = px.treemap(\n",
        "    company[:100], \n",
        "    path = ['Company', 'Position'],\n",
        "    values = 'First Name',\n",
        "    labels = {'First Name':'Number'}\n",
        ")\n",
        "connection_treemap"
      ],
      "execution_count": null,
      "outputs": [
        {
          "output_type": "display_data",
          "data": {
            "text/html": [
              "<html>\n",
              "<head><meta charset=\"utf-8\" /></head>\n",
              "<body>\n",
              "    <div>            <script src=\"https://cdnjs.cloudflare.com/ajax/libs/mathjax/2.7.5/MathJax.js?config=TeX-AMS-MML_SVG\"></script><script type=\"text/javascript\">if (window.MathJax) {MathJax.Hub.Config({SVG: {font: \"STIX-Web\"}});}</script>                <script type=\"text/javascript\">window.PlotlyConfig = {MathJaxConfig: 'local'};</script>\n",
              "        <script src=\"https://cdn.plot.ly/plotly-2.6.3.min.js\"></script>                <div id=\"caa4f062-cde1-4413-a6c4-3d0e3c9f699e\" class=\"plotly-graph-div\" style=\"height:525px; width:100%;\"></div>            <script type=\"text/javascript\">                                    window.PLOTLYENV=window.PLOTLYENV || {};                                    if (document.getElementById(\"caa4f062-cde1-4413-a6c4-3d0e3c9f699e\")) {                    Plotly.newPlot(                        \"caa4f062-cde1-4413-a6c4-3d0e3c9f699e\",                        [{\"branchvalues\":\"total\",\"domain\":{\"x\":[0.0,1.0],\"y\":[0.0,1.0]},\"hovertemplate\":\"labels=%{label}<br>Number=%{value}<br>parent=%{parent}<br>id=%{id}<extra></extra>\",\"ids\":[\"Bendix Commercial Vehicle Systems LLC/2\",\"BlackRock/2\",\"Bloomberg LP/2\",\"Blue Cross Blue Shield Association/2\",\"Boston Scientific/2\",\"ByteDance/2\",\"Carnegie Mellon University/2\",\"Cisco/2\",\"Citi/2\",\"Coinbase/2\",\"College Now Greater Cleveland/2\",\"De Nora Tech, Inc./2\",\"Deliverr Inc./2\",\"Goldstar Publishing LLC/2\",\"HubSpot/2\",\"Intel Corporation/2\",\"J.P. Morgan/2\",\"Periods for Peace/2\",\"Pratt & Whitney/2\",\"PwC Mainland China and Hong Kong/2\",\"Qbridge/2\",\"Southwest Research Institute/2\",\"Swagelok/2\",\"TYLOK/2\",\"Teach For America/2\",\"The Home Depot/2\",\"The Johns Hopkins University Applied Physics Laboratory/2\",\"The Johns Hopkins University School of Medicine/2\",\"Thermo Fisher Scientific/2\",\"Touchstone Partners/2\",\"Tufts University/2\",\"U.S. Department of Justice/2\",\"U.S. Department of Veterans Affairs/2\",\"Unilever/2\",\"University of Michigan/2\",\"University of North Carolina at Chapel Hill/2\",\"University of Washington/2\",\"University of Wisconsin-Madison/2\",\"Vanguard/2\",\"Booz Allen Hamilton/3\",\"Dell Technologies/3\",\"DiDi/3\",\"GE Aviation/3\",\"GE Healthcare/3\",\"General Motors/3\",\"IQVIA/3\",\"Invacare Corporation/3\",\"KeyBank/3\",\"MIM Software Inc./3\",\"My Consulting Offer/3\",\"OMD USA/3\",\"PNC/3\",\"Sherwin-Williams/3\",\"Stanford University School of Medicine/3\",\"Tesla/3\",\"The Goodyear Tire & Rubber Company/3\",\"Capital One/4\",\"Case School of Engineering at Case Western Reserve University/4\",\"Credit Suisse/4\",\"Eaton/4\",\"HSBC/4\",\"Infosys/4\",\"MUM Industries/4\",\"Procter & Gamble/4\",\"Progressive Insurance/4\",\"Rockwell Automation/4\",\"Twitter/4\",\"Vietnam Tech Society/4\",\"Wonsulting/4\",\"Bain & Company/5\",\"Goldman Sachs/5\",\"Self-employed/5\",\"ZS/5\",\"Case Western Reserve University School of Medicine/6\",\"INSIGHT2PROFIT/6\",\"Massachusetts Institute of Technology/6\",\"Meta/6\",\"TikTok/6\",\"Apple/7\",\"Duke University/7\",\"Epic/7\",\"JPMorgan Chase & Co./7\",\"Salesforce/7\",\"Uber/7\",\"MUM Industries Inc./9\",\"Deloitte Consulting/10\",\"PwC/10\",\"Amazon Web Services (AWS)/11\",\"Google/13\",\"Accenture/14\",\"Boston Consulting Group (BCG)/14\",\"Duke Interdisciplinary Social Innovators (DISI)/14\",\"EY/14\",\"Cleveland Clinic/15\",\"Deloitte/17\",\"McKinsey & Company/19\",\"Microsoft/25\",\"Duke University - The Fuqua School of Business/33\",\"Amazon/36\",\"Case Western Reserve University/84\",\"Accenture\",\"Amazon\",\"Amazon Web Services (AWS)\",\"Apple\",\"Bain & Company\",\"Bendix Commercial Vehicle Systems LLC\",\"BlackRock\",\"Bloomberg LP\",\"Blue Cross Blue Shield Association\",\"Booz Allen Hamilton\",\"Boston Consulting Group (BCG)\",\"Boston Scientific\",\"ByteDance\",\"Capital One\",\"Carnegie Mellon University\",\"Case School of Engineering at Case Western Reserve University\",\"Case Western Reserve University\",\"Case Western Reserve University School of Medicine\",\"Cisco\",\"Citi\",\"Cleveland Clinic\",\"Coinbase\",\"College Now Greater Cleveland\",\"Credit Suisse\",\"De Nora Tech, Inc.\",\"Deliverr Inc.\",\"Dell Technologies\",\"Deloitte\",\"Deloitte Consulting\",\"DiDi\",\"Duke Interdisciplinary Social Innovators (DISI)\",\"Duke University\",\"Duke University - The Fuqua School of Business\",\"EY\",\"Eaton\",\"Epic\",\"GE Aviation\",\"GE Healthcare\",\"General Motors\",\"Goldman Sachs\",\"Goldstar Publishing LLC\",\"Google\",\"HSBC\",\"HubSpot\",\"INSIGHT2PROFIT\",\"IQVIA\",\"Infosys\",\"Intel Corporation\",\"Invacare Corporation\",\"J.P. Morgan\",\"JPMorgan Chase & Co.\",\"KeyBank\",\"MIM Software Inc.\",\"MUM Industries\",\"MUM Industries Inc.\",\"Massachusetts Institute of Technology\",\"McKinsey & Company\",\"Meta\",\"Microsoft\",\"My Consulting Offer\",\"OMD USA\",\"PNC\",\"Periods for Peace\",\"Pratt & Whitney\",\"Procter & Gamble\",\"Progressive Insurance\",\"PwC\",\"PwC Mainland China and Hong Kong\",\"Qbridge\",\"Rockwell Automation\",\"Salesforce\",\"Self-employed\",\"Sherwin-Williams\",\"Southwest Research Institute\",\"Stanford University School of Medicine\",\"Swagelok\",\"TYLOK\",\"Teach For America\",\"Tesla\",\"The Goodyear Tire & Rubber Company\",\"The Home Depot\",\"The Johns Hopkins University Applied Physics Laboratory\",\"The Johns Hopkins University School of Medicine\",\"Thermo Fisher Scientific\",\"TikTok\",\"Touchstone Partners\",\"Tufts University\",\"Twitter\",\"U.S. Department of Justice\",\"U.S. Department of Veterans Affairs\",\"Uber\",\"Unilever\",\"University of Michigan\",\"University of North Carolina at Chapel Hill\",\"University of Washington\",\"University of Wisconsin-Madison\",\"Vanguard\",\"Vietnam Tech Society\",\"Wonsulting\",\"ZS\"],\"labels\":[\"2\",\"2\",\"2\",\"2\",\"2\",\"2\",\"2\",\"2\",\"2\",\"2\",\"2\",\"2\",\"2\",\"2\",\"2\",\"2\",\"2\",\"2\",\"2\",\"2\",\"2\",\"2\",\"2\",\"2\",\"2\",\"2\",\"2\",\"2\",\"2\",\"2\",\"2\",\"2\",\"2\",\"2\",\"2\",\"2\",\"2\",\"2\",\"2\",\"3\",\"3\",\"3\",\"3\",\"3\",\"3\",\"3\",\"3\",\"3\",\"3\",\"3\",\"3\",\"3\",\"3\",\"3\",\"3\",\"3\",\"4\",\"4\",\"4\",\"4\",\"4\",\"4\",\"4\",\"4\",\"4\",\"4\",\"4\",\"4\",\"4\",\"5\",\"5\",\"5\",\"5\",\"6\",\"6\",\"6\",\"6\",\"6\",\"7\",\"7\",\"7\",\"7\",\"7\",\"7\",\"9\",\"10\",\"10\",\"11\",\"13\",\"14\",\"14\",\"14\",\"14\",\"15\",\"17\",\"19\",\"25\",\"33\",\"36\",\"84\",\"Accenture\",\"Amazon\",\"Amazon Web Services (AWS)\",\"Apple\",\"Bain & Company\",\"Bendix Commercial Vehicle Systems LLC\",\"BlackRock\",\"Bloomberg LP\",\"Blue Cross Blue Shield Association\",\"Booz Allen Hamilton\",\"Boston Consulting Group (BCG)\",\"Boston Scientific\",\"ByteDance\",\"Capital One\",\"Carnegie Mellon University\",\"Case School of Engineering at Case Western Reserve University\",\"Case Western Reserve University\",\"Case Western Reserve University School of Medicine\",\"Cisco\",\"Citi\",\"Cleveland Clinic\",\"Coinbase\",\"College Now Greater Cleveland\",\"Credit Suisse\",\"De Nora Tech, Inc.\",\"Deliverr Inc.\",\"Dell Technologies\",\"Deloitte\",\"Deloitte Consulting\",\"DiDi\",\"Duke Interdisciplinary Social Innovators (DISI)\",\"Duke University\",\"Duke University - The Fuqua School of Business\",\"EY\",\"Eaton\",\"Epic\",\"GE Aviation\",\"GE Healthcare\",\"General Motors\",\"Goldman Sachs\",\"Goldstar Publishing LLC\",\"Google\",\"HSBC\",\"HubSpot\",\"INSIGHT2PROFIT\",\"IQVIA\",\"Infosys\",\"Intel Corporation\",\"Invacare Corporation\",\"J.P. Morgan\",\"JPMorgan Chase & Co.\",\"KeyBank\",\"MIM Software Inc.\",\"MUM Industries\",\"MUM Industries Inc.\",\"Massachusetts Institute of Technology\",\"McKinsey & Company\",\"Meta\",\"Microsoft\",\"My Consulting Offer\",\"OMD USA\",\"PNC\",\"Periods for Peace\",\"Pratt & Whitney\",\"Procter & Gamble\",\"Progressive Insurance\",\"PwC\",\"PwC Mainland China and Hong Kong\",\"Qbridge\",\"Rockwell Automation\",\"Salesforce\",\"Self-employed\",\"Sherwin-Williams\",\"Southwest Research Institute\",\"Stanford University School of Medicine\",\"Swagelok\",\"TYLOK\",\"Teach For America\",\"Tesla\",\"The Goodyear Tire & Rubber Company\",\"The Home Depot\",\"The Johns Hopkins University Applied Physics Laboratory\",\"The Johns Hopkins University School of Medicine\",\"Thermo Fisher Scientific\",\"TikTok\",\"Touchstone Partners\",\"Tufts University\",\"Twitter\",\"U.S. Department of Justice\",\"U.S. Department of Veterans Affairs\",\"Uber\",\"Unilever\",\"University of Michigan\",\"University of North Carolina at Chapel Hill\",\"University of Washington\",\"University of Wisconsin-Madison\",\"Vanguard\",\"Vietnam Tech Society\",\"Wonsulting\",\"ZS\"],\"name\":\"\",\"parents\":[\"Bendix Commercial Vehicle Systems LLC\",\"BlackRock\",\"Bloomberg LP\",\"Blue Cross Blue Shield Association\",\"Boston Scientific\",\"ByteDance\",\"Carnegie Mellon University\",\"Cisco\",\"Citi\",\"Coinbase\",\"College Now Greater Cleveland\",\"De Nora Tech, Inc.\",\"Deliverr Inc.\",\"Goldstar Publishing LLC\",\"HubSpot\",\"Intel Corporation\",\"J.P. Morgan\",\"Periods for Peace\",\"Pratt & Whitney\",\"PwC Mainland China and Hong Kong\",\"Qbridge\",\"Southwest Research Institute\",\"Swagelok\",\"TYLOK\",\"Teach For America\",\"The Home Depot\",\"The Johns Hopkins University Applied Physics Laboratory\",\"The Johns Hopkins University School of Medicine\",\"Thermo Fisher Scientific\",\"Touchstone Partners\",\"Tufts University\",\"U.S. Department of Justice\",\"U.S. Department of Veterans Affairs\",\"Unilever\",\"University of Michigan\",\"University of North Carolina at Chapel Hill\",\"University of Washington\",\"University of Wisconsin-Madison\",\"Vanguard\",\"Booz Allen Hamilton\",\"Dell Technologies\",\"DiDi\",\"GE Aviation\",\"GE Healthcare\",\"General Motors\",\"IQVIA\",\"Invacare Corporation\",\"KeyBank\",\"MIM Software Inc.\",\"My Consulting Offer\",\"OMD USA\",\"PNC\",\"Sherwin-Williams\",\"Stanford University School of Medicine\",\"Tesla\",\"The Goodyear Tire & Rubber Company\",\"Capital One\",\"Case School of Engineering at Case Western Reserve University\",\"Credit Suisse\",\"Eaton\",\"HSBC\",\"Infosys\",\"MUM Industries\",\"Procter & Gamble\",\"Progressive Insurance\",\"Rockwell Automation\",\"Twitter\",\"Vietnam Tech Society\",\"Wonsulting\",\"Bain & Company\",\"Goldman Sachs\",\"Self-employed\",\"ZS\",\"Case Western Reserve University School of Medicine\",\"INSIGHT2PROFIT\",\"Massachusetts Institute of Technology\",\"Meta\",\"TikTok\",\"Apple\",\"Duke University\",\"Epic\",\"JPMorgan Chase & Co.\",\"Salesforce\",\"Uber\",\"MUM Industries Inc.\",\"Deloitte Consulting\",\"PwC\",\"Amazon Web Services (AWS)\",\"Google\",\"Accenture\",\"Boston Consulting Group (BCG)\",\"Duke Interdisciplinary Social Innovators (DISI)\",\"EY\",\"Cleveland Clinic\",\"Deloitte\",\"McKinsey & Company\",\"Microsoft\",\"Duke University - The Fuqua School of Business\",\"Amazon\",\"Case Western Reserve University\",\"\",\"\",\"\",\"\",\"\",\"\",\"\",\"\",\"\",\"\",\"\",\"\",\"\",\"\",\"\",\"\",\"\",\"\",\"\",\"\",\"\",\"\",\"\",\"\",\"\",\"\",\"\",\"\",\"\",\"\",\"\",\"\",\"\",\"\",\"\",\"\",\"\",\"\",\"\",\"\",\"\",\"\",\"\",\"\",\"\",\"\",\"\",\"\",\"\",\"\",\"\",\"\",\"\",\"\",\"\",\"\",\"\",\"\",\"\",\"\",\"\",\"\",\"\",\"\",\"\",\"\",\"\",\"\",\"\",\"\",\"\",\"\",\"\",\"\",\"\",\"\",\"\",\"\",\"\",\"\",\"\",\"\",\"\",\"\",\"\",\"\",\"\",\"\",\"\",\"\",\"\",\"\",\"\",\"\",\"\",\"\",\"\",\"\",\"\",\"\"],\"values\":[2,2,2,2,2,2,2,2,2,2,2,2,2,2,2,2,2,2,2,2,2,2,2,2,2,2,2,2,2,2,2,2,2,2,2,2,2,2,2,3,3,3,3,3,3,3,3,3,3,3,3,3,3,3,3,3,4,4,4,4,4,4,4,4,4,4,4,4,4,5,5,5,5,6,6,6,6,6,7,7,7,7,7,7,9,10,10,11,13,14,14,14,14,15,17,19,25,33,36,84,14,36,11,7,5,2,2,2,2,3,14,2,2,4,2,4,84,6,2,2,15,2,2,4,2,2,3,17,10,3,14,7,33,14,4,7,3,3,3,5,2,13,4,2,6,3,4,2,3,2,7,3,3,4,9,6,19,6,25,3,3,3,2,2,4,4,10,2,2,4,7,5,3,2,3,2,2,2,3,3,2,2,2,2,6,2,2,4,2,2,7,2,2,2,2,2,2,4,4,5],\"type\":\"treemap\"}],                        {\"template\":{\"data\":{\"bar\":[{\"error_x\":{\"color\":\"#2a3f5f\"},\"error_y\":{\"color\":\"#2a3f5f\"},\"marker\":{\"line\":{\"color\":\"#E5ECF6\",\"width\":0.5},\"pattern\":{\"fillmode\":\"overlay\",\"size\":10,\"solidity\":0.2}},\"type\":\"bar\"}],\"barpolar\":[{\"marker\":{\"line\":{\"color\":\"#E5ECF6\",\"width\":0.5},\"pattern\":{\"fillmode\":\"overlay\",\"size\":10,\"solidity\":0.2}},\"type\":\"barpolar\"}],\"carpet\":[{\"aaxis\":{\"endlinecolor\":\"#2a3f5f\",\"gridcolor\":\"white\",\"linecolor\":\"white\",\"minorgridcolor\":\"white\",\"startlinecolor\":\"#2a3f5f\"},\"baxis\":{\"endlinecolor\":\"#2a3f5f\",\"gridcolor\":\"white\",\"linecolor\":\"white\",\"minorgridcolor\":\"white\",\"startlinecolor\":\"#2a3f5f\"},\"type\":\"carpet\"}],\"choropleth\":[{\"colorbar\":{\"outlinewidth\":0,\"ticks\":\"\"},\"type\":\"choropleth\"}],\"contour\":[{\"colorbar\":{\"outlinewidth\":0,\"ticks\":\"\"},\"colorscale\":[[0.0,\"#0d0887\"],[0.1111111111111111,\"#46039f\"],[0.2222222222222222,\"#7201a8\"],[0.3333333333333333,\"#9c179e\"],[0.4444444444444444,\"#bd3786\"],[0.5555555555555556,\"#d8576b\"],[0.6666666666666666,\"#ed7953\"],[0.7777777777777778,\"#fb9f3a\"],[0.8888888888888888,\"#fdca26\"],[1.0,\"#f0f921\"]],\"type\":\"contour\"}],\"contourcarpet\":[{\"colorbar\":{\"outlinewidth\":0,\"ticks\":\"\"},\"type\":\"contourcarpet\"}],\"heatmap\":[{\"colorbar\":{\"outlinewidth\":0,\"ticks\":\"\"},\"colorscale\":[[0.0,\"#0d0887\"],[0.1111111111111111,\"#46039f\"],[0.2222222222222222,\"#7201a8\"],[0.3333333333333333,\"#9c179e\"],[0.4444444444444444,\"#bd3786\"],[0.5555555555555556,\"#d8576b\"],[0.6666666666666666,\"#ed7953\"],[0.7777777777777778,\"#fb9f3a\"],[0.8888888888888888,\"#fdca26\"],[1.0,\"#f0f921\"]],\"type\":\"heatmap\"}],\"heatmapgl\":[{\"colorbar\":{\"outlinewidth\":0,\"ticks\":\"\"},\"colorscale\":[[0.0,\"#0d0887\"],[0.1111111111111111,\"#46039f\"],[0.2222222222222222,\"#7201a8\"],[0.3333333333333333,\"#9c179e\"],[0.4444444444444444,\"#bd3786\"],[0.5555555555555556,\"#d8576b\"],[0.6666666666666666,\"#ed7953\"],[0.7777777777777778,\"#fb9f3a\"],[0.8888888888888888,\"#fdca26\"],[1.0,\"#f0f921\"]],\"type\":\"heatmapgl\"}],\"histogram\":[{\"marker\":{\"pattern\":{\"fillmode\":\"overlay\",\"size\":10,\"solidity\":0.2}},\"type\":\"histogram\"}],\"histogram2d\":[{\"colorbar\":{\"outlinewidth\":0,\"ticks\":\"\"},\"colorscale\":[[0.0,\"#0d0887\"],[0.1111111111111111,\"#46039f\"],[0.2222222222222222,\"#7201a8\"],[0.3333333333333333,\"#9c179e\"],[0.4444444444444444,\"#bd3786\"],[0.5555555555555556,\"#d8576b\"],[0.6666666666666666,\"#ed7953\"],[0.7777777777777778,\"#fb9f3a\"],[0.8888888888888888,\"#fdca26\"],[1.0,\"#f0f921\"]],\"type\":\"histogram2d\"}],\"histogram2dcontour\":[{\"colorbar\":{\"outlinewidth\":0,\"ticks\":\"\"},\"colorscale\":[[0.0,\"#0d0887\"],[0.1111111111111111,\"#46039f\"],[0.2222222222222222,\"#7201a8\"],[0.3333333333333333,\"#9c179e\"],[0.4444444444444444,\"#bd3786\"],[0.5555555555555556,\"#d8576b\"],[0.6666666666666666,\"#ed7953\"],[0.7777777777777778,\"#fb9f3a\"],[0.8888888888888888,\"#fdca26\"],[1.0,\"#f0f921\"]],\"type\":\"histogram2dcontour\"}],\"mesh3d\":[{\"colorbar\":{\"outlinewidth\":0,\"ticks\":\"\"},\"type\":\"mesh3d\"}],\"parcoords\":[{\"line\":{\"colorbar\":{\"outlinewidth\":0,\"ticks\":\"\"}},\"type\":\"parcoords\"}],\"pie\":[{\"automargin\":true,\"type\":\"pie\"}],\"scatter\":[{\"marker\":{\"colorbar\":{\"outlinewidth\":0,\"ticks\":\"\"}},\"type\":\"scatter\"}],\"scatter3d\":[{\"line\":{\"colorbar\":{\"outlinewidth\":0,\"ticks\":\"\"}},\"marker\":{\"colorbar\":{\"outlinewidth\":0,\"ticks\":\"\"}},\"type\":\"scatter3d\"}],\"scattercarpet\":[{\"marker\":{\"colorbar\":{\"outlinewidth\":0,\"ticks\":\"\"}},\"type\":\"scattercarpet\"}],\"scattergeo\":[{\"marker\":{\"colorbar\":{\"outlinewidth\":0,\"ticks\":\"\"}},\"type\":\"scattergeo\"}],\"scattergl\":[{\"marker\":{\"colorbar\":{\"outlinewidth\":0,\"ticks\":\"\"}},\"type\":\"scattergl\"}],\"scattermapbox\":[{\"marker\":{\"colorbar\":{\"outlinewidth\":0,\"ticks\":\"\"}},\"type\":\"scattermapbox\"}],\"scatterpolar\":[{\"marker\":{\"colorbar\":{\"outlinewidth\":0,\"ticks\":\"\"}},\"type\":\"scatterpolar\"}],\"scatterpolargl\":[{\"marker\":{\"colorbar\":{\"outlinewidth\":0,\"ticks\":\"\"}},\"type\":\"scatterpolargl\"}],\"scatterternary\":[{\"marker\":{\"colorbar\":{\"outlinewidth\":0,\"ticks\":\"\"}},\"type\":\"scatterternary\"}],\"surface\":[{\"colorbar\":{\"outlinewidth\":0,\"ticks\":\"\"},\"colorscale\":[[0.0,\"#0d0887\"],[0.1111111111111111,\"#46039f\"],[0.2222222222222222,\"#7201a8\"],[0.3333333333333333,\"#9c179e\"],[0.4444444444444444,\"#bd3786\"],[0.5555555555555556,\"#d8576b\"],[0.6666666666666666,\"#ed7953\"],[0.7777777777777778,\"#fb9f3a\"],[0.8888888888888888,\"#fdca26\"],[1.0,\"#f0f921\"]],\"type\":\"surface\"}],\"table\":[{\"cells\":{\"fill\":{\"color\":\"#EBF0F8\"},\"line\":{\"color\":\"white\"}},\"header\":{\"fill\":{\"color\":\"#C8D4E3\"},\"line\":{\"color\":\"white\"}},\"type\":\"table\"}]},\"layout\":{\"annotationdefaults\":{\"arrowcolor\":\"#2a3f5f\",\"arrowhead\":0,\"arrowwidth\":1},\"autotypenumbers\":\"strict\",\"coloraxis\":{\"colorbar\":{\"outlinewidth\":0,\"ticks\":\"\"}},\"colorscale\":{\"diverging\":[[0,\"#8e0152\"],[0.1,\"#c51b7d\"],[0.2,\"#de77ae\"],[0.3,\"#f1b6da\"],[0.4,\"#fde0ef\"],[0.5,\"#f7f7f7\"],[0.6,\"#e6f5d0\"],[0.7,\"#b8e186\"],[0.8,\"#7fbc41\"],[0.9,\"#4d9221\"],[1,\"#276419\"]],\"sequential\":[[0.0,\"#0d0887\"],[0.1111111111111111,\"#46039f\"],[0.2222222222222222,\"#7201a8\"],[0.3333333333333333,\"#9c179e\"],[0.4444444444444444,\"#bd3786\"],[0.5555555555555556,\"#d8576b\"],[0.6666666666666666,\"#ed7953\"],[0.7777777777777778,\"#fb9f3a\"],[0.8888888888888888,\"#fdca26\"],[1.0,\"#f0f921\"]],\"sequentialminus\":[[0.0,\"#0d0887\"],[0.1111111111111111,\"#46039f\"],[0.2222222222222222,\"#7201a8\"],[0.3333333333333333,\"#9c179e\"],[0.4444444444444444,\"#bd3786\"],[0.5555555555555556,\"#d8576b\"],[0.6666666666666666,\"#ed7953\"],[0.7777777777777778,\"#fb9f3a\"],[0.8888888888888888,\"#fdca26\"],[1.0,\"#f0f921\"]]},\"colorway\":[\"#636efa\",\"#EF553B\",\"#00cc96\",\"#ab63fa\",\"#FFA15A\",\"#19d3f3\",\"#FF6692\",\"#B6E880\",\"#FF97FF\",\"#FECB52\"],\"font\":{\"color\":\"#2a3f5f\"},\"geo\":{\"bgcolor\":\"white\",\"lakecolor\":\"white\",\"landcolor\":\"#E5ECF6\",\"showlakes\":true,\"showland\":true,\"subunitcolor\":\"white\"},\"hoverlabel\":{\"align\":\"left\"},\"hovermode\":\"closest\",\"mapbox\":{\"style\":\"light\"},\"paper_bgcolor\":\"white\",\"plot_bgcolor\":\"#E5ECF6\",\"polar\":{\"angularaxis\":{\"gridcolor\":\"white\",\"linecolor\":\"white\",\"ticks\":\"\"},\"bgcolor\":\"#E5ECF6\",\"radialaxis\":{\"gridcolor\":\"white\",\"linecolor\":\"white\",\"ticks\":\"\"}},\"scene\":{\"xaxis\":{\"backgroundcolor\":\"#E5ECF6\",\"gridcolor\":\"white\",\"gridwidth\":2,\"linecolor\":\"white\",\"showbackground\":true,\"ticks\":\"\",\"zerolinecolor\":\"white\"},\"yaxis\":{\"backgroundcolor\":\"#E5ECF6\",\"gridcolor\":\"white\",\"gridwidth\":2,\"linecolor\":\"white\",\"showbackground\":true,\"ticks\":\"\",\"zerolinecolor\":\"white\"},\"zaxis\":{\"backgroundcolor\":\"#E5ECF6\",\"gridcolor\":\"white\",\"gridwidth\":2,\"linecolor\":\"white\",\"showbackground\":true,\"ticks\":\"\",\"zerolinecolor\":\"white\"}},\"shapedefaults\":{\"line\":{\"color\":\"#2a3f5f\"}},\"ternary\":{\"aaxis\":{\"gridcolor\":\"white\",\"linecolor\":\"white\",\"ticks\":\"\"},\"baxis\":{\"gridcolor\":\"white\",\"linecolor\":\"white\",\"ticks\":\"\"},\"bgcolor\":\"#E5ECF6\",\"caxis\":{\"gridcolor\":\"white\",\"linecolor\":\"white\",\"ticks\":\"\"}},\"title\":{\"x\":0.05},\"xaxis\":{\"automargin\":true,\"gridcolor\":\"white\",\"linecolor\":\"white\",\"ticks\":\"\",\"title\":{\"standoff\":15},\"zerolinecolor\":\"white\",\"zerolinewidth\":2},\"yaxis\":{\"automargin\":true,\"gridcolor\":\"white\",\"linecolor\":\"white\",\"ticks\":\"\",\"title\":{\"standoff\":15},\"zerolinecolor\":\"white\",\"zerolinewidth\":2}}},\"legend\":{\"tracegroupgap\":0},\"margin\":{\"t\":60}},                        {\"responsive\": true}                    ).then(function(){\n",
              "                            \n",
              "var gd = document.getElementById('caa4f062-cde1-4413-a6c4-3d0e3c9f699e');\n",
              "var x = new MutationObserver(function (mutations, observer) {{\n",
              "        var display = window.getComputedStyle(gd).display;\n",
              "        if (!display || display === 'none') {{\n",
              "            console.log([gd, 'removed!']);\n",
              "            Plotly.purge(gd);\n",
              "            observer.disconnect();\n",
              "        }}\n",
              "}});\n",
              "\n",
              "// Listen for the removal of the full notebook cells\n",
              "var notebookContainer = gd.closest('#notebook-container');\n",
              "if (notebookContainer) {{\n",
              "    x.observe(notebookContainer, {childList: true});\n",
              "}}\n",
              "\n",
              "// Listen for the clearing of the current output cell\n",
              "var outputEl = gd.closest('.output');\n",
              "if (outputEl) {{\n",
              "    x.observe(outputEl, {childList: true});\n",
              "}}\n",
              "\n",
              "                        })                };                            </script>        </div>\n",
              "</body>\n",
              "</html>"
            ]
          },
          "metadata": {}
        }
      ]
    },
    {
      "cell_type": "markdown",
      "metadata": {
        "id": "_9r5rje7RpDt"
      },
      "source": [
        "##### **Position**"
      ]
    },
    {
      "cell_type": "code",
      "metadata": {
        "colab": {
          "base_uri": "https://localhost:8080/"
        },
        "id": "QOe4pVdzTIxI",
        "outputId": "f731c63d-0e3b-407b-d0a1-088571019e2e"
      },
      "source": [
        "network['Position'].value_counts()[network['Position'].value_counts()/len(network) * 100 > 0.5]"
      ],
      "execution_count": null,
      "outputs": [
        {
          "output_type": "execute_result",
          "data": {
            "text/plain": [
              "Software Engineer              42\n",
              "Research Assistant             41\n",
              "Business Analyst               18\n",
              "Founder                        18\n",
              "Graduate Research Assistant    16\n",
              "Product Manager                16\n",
              "Consultant                     16\n",
              "Associate                      14\n",
              "MBA Candidate                  13\n",
              "Project Manager                13\n",
              "Software Engineer Intern       13\n",
              "Teaching Assistant             12\n",
              "Co-Founder                     10\n",
              "Analyst                        10\n",
              "Associate Product Manager       9\n",
              "Data Analyst                    9\n",
              "Name: Position, dtype: int64"
            ]
          },
          "metadata": {},
          "execution_count": 12
        }
      ]
    },
    {
      "cell_type": "code",
      "metadata": {
        "colab": {
          "base_uri": "https://localhost:8080/",
          "height": 542
        },
        "id": "-LAnLrqsRrlq",
        "outputId": "d8c563ab-8fd9-4f15-a8d7-235b212282b4"
      },
      "source": [
        "position_bar = px.bar(\n",
        "    network.groupby(by = 'Position').count().sort_values(by = 'First Name', ascending = False)[:20].reset_index(),\n",
        "    x = 'Position',\n",
        "    y = 'First Name',\n",
        "    labels = {'First Name' : 'Number'},\n",
        "    title = 'Top 20 Positions'\n",
        ")\n",
        "position_bar"
      ],
      "execution_count": null,
      "outputs": [
        {
          "output_type": "display_data",
          "data": {
            "text/html": [
              "<html>\n",
              "<head><meta charset=\"utf-8\" /></head>\n",
              "<body>\n",
              "    <div>            <script src=\"https://cdnjs.cloudflare.com/ajax/libs/mathjax/2.7.5/MathJax.js?config=TeX-AMS-MML_SVG\"></script><script type=\"text/javascript\">if (window.MathJax) {MathJax.Hub.Config({SVG: {font: \"STIX-Web\"}});}</script>                <script type=\"text/javascript\">window.PlotlyConfig = {MathJaxConfig: 'local'};</script>\n",
              "        <script src=\"https://cdn.plot.ly/plotly-2.6.3.min.js\"></script>                <div id=\"99882b20-e85f-4703-9e99-6f1cb2e2b62e\" class=\"plotly-graph-div\" style=\"height:525px; width:100%;\"></div>            <script type=\"text/javascript\">                                    window.PLOTLYENV=window.PLOTLYENV || {};                                    if (document.getElementById(\"99882b20-e85f-4703-9e99-6f1cb2e2b62e\")) {                    Plotly.newPlot(                        \"99882b20-e85f-4703-9e99-6f1cb2e2b62e\",                        [{\"alignmentgroup\":\"True\",\"hovertemplate\":\"Position=%{x}<br>Number=%{y}<extra></extra>\",\"legendgroup\":\"\",\"marker\":{\"color\":\"#636efa\",\"pattern\":{\"shape\":\"\"}},\"name\":\"\",\"offsetgroup\":\"\",\"orientation\":\"v\",\"showlegend\":false,\"textposition\":\"auto\",\"x\":[\"Software Engineer\",\"Research Assistant\",\"Founder\",\"Business Analyst\",\"Consultant\",\"Product Manager\",\"Graduate Research Assistant\",\"Associate\",\"Project Manager\",\"MBA Candidate\",\"Software Engineer Intern\",\"Teaching Assistant\",\"Analyst\",\"Co-Founder\",\"Data Analyst\",\"Associate Product Manager\",\"Senior Product Manager\",\"Investment Banking Analyst\",\"Mechanical Engineer\",\"Summer Intern\"],\"xaxis\":\"x\",\"y\":[42,41,18,18,16,16,16,14,13,13,13,12,10,10,9,9,8,8,8,7],\"yaxis\":\"y\",\"type\":\"bar\"}],                        {\"template\":{\"data\":{\"bar\":[{\"error_x\":{\"color\":\"#2a3f5f\"},\"error_y\":{\"color\":\"#2a3f5f\"},\"marker\":{\"line\":{\"color\":\"#E5ECF6\",\"width\":0.5},\"pattern\":{\"fillmode\":\"overlay\",\"size\":10,\"solidity\":0.2}},\"type\":\"bar\"}],\"barpolar\":[{\"marker\":{\"line\":{\"color\":\"#E5ECF6\",\"width\":0.5},\"pattern\":{\"fillmode\":\"overlay\",\"size\":10,\"solidity\":0.2}},\"type\":\"barpolar\"}],\"carpet\":[{\"aaxis\":{\"endlinecolor\":\"#2a3f5f\",\"gridcolor\":\"white\",\"linecolor\":\"white\",\"minorgridcolor\":\"white\",\"startlinecolor\":\"#2a3f5f\"},\"baxis\":{\"endlinecolor\":\"#2a3f5f\",\"gridcolor\":\"white\",\"linecolor\":\"white\",\"minorgridcolor\":\"white\",\"startlinecolor\":\"#2a3f5f\"},\"type\":\"carpet\"}],\"choropleth\":[{\"colorbar\":{\"outlinewidth\":0,\"ticks\":\"\"},\"type\":\"choropleth\"}],\"contour\":[{\"colorbar\":{\"outlinewidth\":0,\"ticks\":\"\"},\"colorscale\":[[0.0,\"#0d0887\"],[0.1111111111111111,\"#46039f\"],[0.2222222222222222,\"#7201a8\"],[0.3333333333333333,\"#9c179e\"],[0.4444444444444444,\"#bd3786\"],[0.5555555555555556,\"#d8576b\"],[0.6666666666666666,\"#ed7953\"],[0.7777777777777778,\"#fb9f3a\"],[0.8888888888888888,\"#fdca26\"],[1.0,\"#f0f921\"]],\"type\":\"contour\"}],\"contourcarpet\":[{\"colorbar\":{\"outlinewidth\":0,\"ticks\":\"\"},\"type\":\"contourcarpet\"}],\"heatmap\":[{\"colorbar\":{\"outlinewidth\":0,\"ticks\":\"\"},\"colorscale\":[[0.0,\"#0d0887\"],[0.1111111111111111,\"#46039f\"],[0.2222222222222222,\"#7201a8\"],[0.3333333333333333,\"#9c179e\"],[0.4444444444444444,\"#bd3786\"],[0.5555555555555556,\"#d8576b\"],[0.6666666666666666,\"#ed7953\"],[0.7777777777777778,\"#fb9f3a\"],[0.8888888888888888,\"#fdca26\"],[1.0,\"#f0f921\"]],\"type\":\"heatmap\"}],\"heatmapgl\":[{\"colorbar\":{\"outlinewidth\":0,\"ticks\":\"\"},\"colorscale\":[[0.0,\"#0d0887\"],[0.1111111111111111,\"#46039f\"],[0.2222222222222222,\"#7201a8\"],[0.3333333333333333,\"#9c179e\"],[0.4444444444444444,\"#bd3786\"],[0.5555555555555556,\"#d8576b\"],[0.6666666666666666,\"#ed7953\"],[0.7777777777777778,\"#fb9f3a\"],[0.8888888888888888,\"#fdca26\"],[1.0,\"#f0f921\"]],\"type\":\"heatmapgl\"}],\"histogram\":[{\"marker\":{\"pattern\":{\"fillmode\":\"overlay\",\"size\":10,\"solidity\":0.2}},\"type\":\"histogram\"}],\"histogram2d\":[{\"colorbar\":{\"outlinewidth\":0,\"ticks\":\"\"},\"colorscale\":[[0.0,\"#0d0887\"],[0.1111111111111111,\"#46039f\"],[0.2222222222222222,\"#7201a8\"],[0.3333333333333333,\"#9c179e\"],[0.4444444444444444,\"#bd3786\"],[0.5555555555555556,\"#d8576b\"],[0.6666666666666666,\"#ed7953\"],[0.7777777777777778,\"#fb9f3a\"],[0.8888888888888888,\"#fdca26\"],[1.0,\"#f0f921\"]],\"type\":\"histogram2d\"}],\"histogram2dcontour\":[{\"colorbar\":{\"outlinewidth\":0,\"ticks\":\"\"},\"colorscale\":[[0.0,\"#0d0887\"],[0.1111111111111111,\"#46039f\"],[0.2222222222222222,\"#7201a8\"],[0.3333333333333333,\"#9c179e\"],[0.4444444444444444,\"#bd3786\"],[0.5555555555555556,\"#d8576b\"],[0.6666666666666666,\"#ed7953\"],[0.7777777777777778,\"#fb9f3a\"],[0.8888888888888888,\"#fdca26\"],[1.0,\"#f0f921\"]],\"type\":\"histogram2dcontour\"}],\"mesh3d\":[{\"colorbar\":{\"outlinewidth\":0,\"ticks\":\"\"},\"type\":\"mesh3d\"}],\"parcoords\":[{\"line\":{\"colorbar\":{\"outlinewidth\":0,\"ticks\":\"\"}},\"type\":\"parcoords\"}],\"pie\":[{\"automargin\":true,\"type\":\"pie\"}],\"scatter\":[{\"marker\":{\"colorbar\":{\"outlinewidth\":0,\"ticks\":\"\"}},\"type\":\"scatter\"}],\"scatter3d\":[{\"line\":{\"colorbar\":{\"outlinewidth\":0,\"ticks\":\"\"}},\"marker\":{\"colorbar\":{\"outlinewidth\":0,\"ticks\":\"\"}},\"type\":\"scatter3d\"}],\"scattercarpet\":[{\"marker\":{\"colorbar\":{\"outlinewidth\":0,\"ticks\":\"\"}},\"type\":\"scattercarpet\"}],\"scattergeo\":[{\"marker\":{\"colorbar\":{\"outlinewidth\":0,\"ticks\":\"\"}},\"type\":\"scattergeo\"}],\"scattergl\":[{\"marker\":{\"colorbar\":{\"outlinewidth\":0,\"ticks\":\"\"}},\"type\":\"scattergl\"}],\"scattermapbox\":[{\"marker\":{\"colorbar\":{\"outlinewidth\":0,\"ticks\":\"\"}},\"type\":\"scattermapbox\"}],\"scatterpolar\":[{\"marker\":{\"colorbar\":{\"outlinewidth\":0,\"ticks\":\"\"}},\"type\":\"scatterpolar\"}],\"scatterpolargl\":[{\"marker\":{\"colorbar\":{\"outlinewidth\":0,\"ticks\":\"\"}},\"type\":\"scatterpolargl\"}],\"scatterternary\":[{\"marker\":{\"colorbar\":{\"outlinewidth\":0,\"ticks\":\"\"}},\"type\":\"scatterternary\"}],\"surface\":[{\"colorbar\":{\"outlinewidth\":0,\"ticks\":\"\"},\"colorscale\":[[0.0,\"#0d0887\"],[0.1111111111111111,\"#46039f\"],[0.2222222222222222,\"#7201a8\"],[0.3333333333333333,\"#9c179e\"],[0.4444444444444444,\"#bd3786\"],[0.5555555555555556,\"#d8576b\"],[0.6666666666666666,\"#ed7953\"],[0.7777777777777778,\"#fb9f3a\"],[0.8888888888888888,\"#fdca26\"],[1.0,\"#f0f921\"]],\"type\":\"surface\"}],\"table\":[{\"cells\":{\"fill\":{\"color\":\"#EBF0F8\"},\"line\":{\"color\":\"white\"}},\"header\":{\"fill\":{\"color\":\"#C8D4E3\"},\"line\":{\"color\":\"white\"}},\"type\":\"table\"}]},\"layout\":{\"annotationdefaults\":{\"arrowcolor\":\"#2a3f5f\",\"arrowhead\":0,\"arrowwidth\":1},\"autotypenumbers\":\"strict\",\"coloraxis\":{\"colorbar\":{\"outlinewidth\":0,\"ticks\":\"\"}},\"colorscale\":{\"diverging\":[[0,\"#8e0152\"],[0.1,\"#c51b7d\"],[0.2,\"#de77ae\"],[0.3,\"#f1b6da\"],[0.4,\"#fde0ef\"],[0.5,\"#f7f7f7\"],[0.6,\"#e6f5d0\"],[0.7,\"#b8e186\"],[0.8,\"#7fbc41\"],[0.9,\"#4d9221\"],[1,\"#276419\"]],\"sequential\":[[0.0,\"#0d0887\"],[0.1111111111111111,\"#46039f\"],[0.2222222222222222,\"#7201a8\"],[0.3333333333333333,\"#9c179e\"],[0.4444444444444444,\"#bd3786\"],[0.5555555555555556,\"#d8576b\"],[0.6666666666666666,\"#ed7953\"],[0.7777777777777778,\"#fb9f3a\"],[0.8888888888888888,\"#fdca26\"],[1.0,\"#f0f921\"]],\"sequentialminus\":[[0.0,\"#0d0887\"],[0.1111111111111111,\"#46039f\"],[0.2222222222222222,\"#7201a8\"],[0.3333333333333333,\"#9c179e\"],[0.4444444444444444,\"#bd3786\"],[0.5555555555555556,\"#d8576b\"],[0.6666666666666666,\"#ed7953\"],[0.7777777777777778,\"#fb9f3a\"],[0.8888888888888888,\"#fdca26\"],[1.0,\"#f0f921\"]]},\"colorway\":[\"#636efa\",\"#EF553B\",\"#00cc96\",\"#ab63fa\",\"#FFA15A\",\"#19d3f3\",\"#FF6692\",\"#B6E880\",\"#FF97FF\",\"#FECB52\"],\"font\":{\"color\":\"#2a3f5f\"},\"geo\":{\"bgcolor\":\"white\",\"lakecolor\":\"white\",\"landcolor\":\"#E5ECF6\",\"showlakes\":true,\"showland\":true,\"subunitcolor\":\"white\"},\"hoverlabel\":{\"align\":\"left\"},\"hovermode\":\"closest\",\"mapbox\":{\"style\":\"light\"},\"paper_bgcolor\":\"white\",\"plot_bgcolor\":\"#E5ECF6\",\"polar\":{\"angularaxis\":{\"gridcolor\":\"white\",\"linecolor\":\"white\",\"ticks\":\"\"},\"bgcolor\":\"#E5ECF6\",\"radialaxis\":{\"gridcolor\":\"white\",\"linecolor\":\"white\",\"ticks\":\"\"}},\"scene\":{\"xaxis\":{\"backgroundcolor\":\"#E5ECF6\",\"gridcolor\":\"white\",\"gridwidth\":2,\"linecolor\":\"white\",\"showbackground\":true,\"ticks\":\"\",\"zerolinecolor\":\"white\"},\"yaxis\":{\"backgroundcolor\":\"#E5ECF6\",\"gridcolor\":\"white\",\"gridwidth\":2,\"linecolor\":\"white\",\"showbackground\":true,\"ticks\":\"\",\"zerolinecolor\":\"white\"},\"zaxis\":{\"backgroundcolor\":\"#E5ECF6\",\"gridcolor\":\"white\",\"gridwidth\":2,\"linecolor\":\"white\",\"showbackground\":true,\"ticks\":\"\",\"zerolinecolor\":\"white\"}},\"shapedefaults\":{\"line\":{\"color\":\"#2a3f5f\"}},\"ternary\":{\"aaxis\":{\"gridcolor\":\"white\",\"linecolor\":\"white\",\"ticks\":\"\"},\"baxis\":{\"gridcolor\":\"white\",\"linecolor\":\"white\",\"ticks\":\"\"},\"bgcolor\":\"#E5ECF6\",\"caxis\":{\"gridcolor\":\"white\",\"linecolor\":\"white\",\"ticks\":\"\"}},\"title\":{\"x\":0.05},\"xaxis\":{\"automargin\":true,\"gridcolor\":\"white\",\"linecolor\":\"white\",\"ticks\":\"\",\"title\":{\"standoff\":15},\"zerolinecolor\":\"white\",\"zerolinewidth\":2},\"yaxis\":{\"automargin\":true,\"gridcolor\":\"white\",\"linecolor\":\"white\",\"ticks\":\"\",\"title\":{\"standoff\":15},\"zerolinecolor\":\"white\",\"zerolinewidth\":2}}},\"xaxis\":{\"anchor\":\"y\",\"domain\":[0.0,1.0],\"title\":{\"text\":\"Position\"}},\"yaxis\":{\"anchor\":\"x\",\"domain\":[0.0,1.0],\"title\":{\"text\":\"Number\"}},\"legend\":{\"tracegroupgap\":0},\"title\":{\"text\":\"Top 20 Positions\"},\"barmode\":\"relative\"},                        {\"responsive\": true}                    ).then(function(){\n",
              "                            \n",
              "var gd = document.getElementById('99882b20-e85f-4703-9e99-6f1cb2e2b62e');\n",
              "var x = new MutationObserver(function (mutations, observer) {{\n",
              "        var display = window.getComputedStyle(gd).display;\n",
              "        if (!display || display === 'none') {{\n",
              "            console.log([gd, 'removed!']);\n",
              "            Plotly.purge(gd);\n",
              "            observer.disconnect();\n",
              "        }}\n",
              "}});\n",
              "\n",
              "// Listen for the removal of the full notebook cells\n",
              "var notebookContainer = gd.closest('#notebook-container');\n",
              "if (notebookContainer) {{\n",
              "    x.observe(notebookContainer, {childList: true});\n",
              "}}\n",
              "\n",
              "// Listen for the clearing of the current output cell\n",
              "var outputEl = gd.closest('.output');\n",
              "if (outputEl) {{\n",
              "    x.observe(outputEl, {childList: true});\n",
              "}}\n",
              "\n",
              "                        })                };                            </script>        </div>\n",
              "</body>\n",
              "</html>"
            ]
          },
          "metadata": {}
        }
      ]
    },
    {
      "cell_type": "markdown",
      "metadata": {
        "id": "y-5w8khQJEjW"
      },
      "source": [
        "##### **Create Company and Position Dataframe for Visualization**"
      ]
    },
    {
      "cell_type": "code",
      "metadata": {
        "colab": {
          "base_uri": "https://localhost:8080/"
        },
        "id": "zgFAp527JKvt",
        "outputId": "cbb0296c-7a9a-49f9-d6e7-e99049ed0994"
      },
      "source": [
        "company = network['Company'].value_counts().reset_index()\n",
        "company.columns = ['company', 'count']\n",
        "company = company.sort_values(by = 'count', ascending = False)\n",
        "company_viz = company.loc[company['count'] >= 3]  # Only includes the companies that I know more than 3 people\n",
        "company_viz = company_viz.drop(labels = 0, axis = 0) # Delete the 1st column (Case Western Reserve University) because I only want companies\n",
        "print(company_viz.shape)"
      ],
      "execution_count": null,
      "outputs": [
        {
          "output_type": "stream",
          "name": "stdout",
          "text": [
            "(60, 2)\n"
          ]
        }
      ]
    },
    {
      "cell_type": "code",
      "metadata": {
        "colab": {
          "base_uri": "https://localhost:8080/"
        },
        "id": "SQEuwHOKJ1ts",
        "outputId": "8ebac7e0-042e-4a53-92bc-d13e875dc35e"
      },
      "source": [
        "position = network['Position'].value_counts().reset_index()\n",
        "position.columns = ['position', 'count']\n",
        "position = position.sort_values(by = 'count', ascending = False)\n",
        "position_viz = position.loc[position['count'] >= 3]\n",
        "print(position_viz.shape)"
      ],
      "execution_count": null,
      "outputs": [
        {
          "output_type": "stream",
          "name": "stdout",
          "text": [
            "(77, 2)\n"
          ]
        }
      ]
    },
    {
      "cell_type": "markdown",
      "metadata": {
        "id": "G0xTwgV7K5nb"
      },
      "source": [
        "### **3. Visualize my Network**"
      ]
    },
    {
      "cell_type": "markdown",
      "metadata": {
        "id": "Nfk1fdsaLMO1"
      },
      "source": [
        "##### **Learn how to make a network**"
      ]
    },
    {
      "cell_type": "code",
      "metadata": {
        "colab": {
          "base_uri": "https://localhost:8080/",
          "height": 538
        },
        "id": "4-JgdK8VLTMQ",
        "outputId": "ebfe8be3-85dc-4593-deda-1f373ed54759"
      },
      "source": [
        "g = nx.Graph()\n",
        "g.add_node(0, label = 'Minh Pham')\n",
        "g.add_node(1, label = 'Case Western Reserve University', size = 25, title = 'Undergraduate')\n",
        "g.add_node(2, label = 'Duke University, Fuqua School of Business', size = 10, title = 'Grad School')\n",
        "g.add_node(3, label = 'Mater Dei High School', size = 5, title = 'High School')\n",
        "g.add_edge(0,1)\n",
        "g.add_edge(0,2)\n",
        "g.add_edge(0,3)\n",
        "\n",
        "network_school = net.Network(notebook = True)\n",
        "network_school.from_nx(g)\n",
        "network_school.show('nodes.html')\n",
        "display(HTML('nodes.html'))"
      ],
      "execution_count": null,
      "outputs": [
        {
          "output_type": "display_data",
          "data": {
            "text/html": [
              "<html>\n",
              "<head>\n",
              "<link rel=\"stylesheet\" href=\"https://cdnjs.cloudflare.com/ajax/libs/vis/4.16.1/vis.css\" type=\"text/css\" />\n",
              "<script type=\"text/javascript\" src=\"https://cdnjs.cloudflare.com/ajax/libs/vis/4.16.1/vis-network.min.js\"> </script>\n",
              "<center>\n",
              "<h1></h1>\n",
              "</center>\n",
              "\n",
              "<!-- <link rel=\"stylesheet\" href=\"../node_modules/vis/dist/vis.min.css\" type=\"text/css\" />\n",
              "<script type=\"text/javascript\" src=\"../node_modules/vis/dist/vis.js\"> </script>-->\n",
              "\n",
              "<style type=\"text/css\">\n",
              "\n",
              "        #mynetwork {\n",
              "            width: 500px;\n",
              "            height: 500px;\n",
              "            background-color: #ffffff;\n",
              "            border: 1px solid lightgray;\n",
              "            position: relative;\n",
              "            float: left;\n",
              "        }\n",
              "\n",
              "        \n",
              "\n",
              "        \n",
              "\n",
              "        \n",
              "</style>\n",
              "\n",
              "</head>\n",
              "\n",
              "<body>\n",
              "<div id = \"mynetwork\"></div>\n",
              "\n",
              "\n",
              "<script type=\"text/javascript\">\n",
              "\n",
              "    // initialize global variables.\n",
              "    var edges;\n",
              "    var nodes;\n",
              "    var network; \n",
              "    var container;\n",
              "    var options, data;\n",
              "\n",
              "    \n",
              "    // This method is responsible for drawing the graph, returns the drawn network\n",
              "    function drawGraph() {\n",
              "        var container = document.getElementById('mynetwork');\n",
              "        \n",
              "        \n",
              "\n",
              "        // parsing and collecting nodes and edges from the python\n",
              "        nodes = new vis.DataSet([{\"id\": 0, \"label\": \"Minh Pham\", \"shape\": \"dot\", \"size\": 10}, {\"id\": 1, \"label\": \"Case Western Reserve University\", \"shape\": \"dot\", \"size\": 25, \"title\": \"Undergraduate\"}, {\"id\": 2, \"label\": \"Duke University, Fuqua School of Business\", \"shape\": \"dot\", \"size\": 10, \"title\": \"Grad School\"}, {\"id\": 3, \"label\": \"Mater Dei High School\", \"shape\": \"dot\", \"size\": 5, \"title\": \"High School\"}]);\n",
              "        edges = new vis.DataSet([{\"from\": 0, \"to\": 1, \"weight\": 1}, {\"from\": 0, \"to\": 2, \"weight\": 1}, {\"from\": 0, \"to\": 3, \"weight\": 1}]);\n",
              "\n",
              "        // adding nodes and edges to the graph\n",
              "        data = {nodes: nodes, edges: edges};\n",
              "\n",
              "        var options = {\n",
              "    \"configure\": {\n",
              "        \"enabled\": false\n",
              "    },\n",
              "    \"edges\": {\n",
              "        \"color\": {\n",
              "            \"inherit\": true\n",
              "        },\n",
              "        \"smooth\": {\n",
              "            \"enabled\": false,\n",
              "            \"type\": \"continuous\"\n",
              "        }\n",
              "    },\n",
              "    \"interaction\": {\n",
              "        \"dragNodes\": true,\n",
              "        \"hideEdgesOnDrag\": false,\n",
              "        \"hideNodesOnDrag\": false\n",
              "    },\n",
              "    \"physics\": {\n",
              "        \"enabled\": true,\n",
              "        \"stabilization\": {\n",
              "            \"enabled\": true,\n",
              "            \"fit\": true,\n",
              "            \"iterations\": 1000,\n",
              "            \"onlyDynamicEdges\": false,\n",
              "            \"updateInterval\": 50\n",
              "        }\n",
              "    }\n",
              "};\n",
              "        \n",
              "        \n",
              "\n",
              "        \n",
              "\n",
              "        network = new vis.Network(container, data, options);\n",
              "\t \n",
              "        \n",
              "\n",
              "\n",
              "        \n",
              "\n",
              "        return network;\n",
              "\n",
              "    }\n",
              "\n",
              "    drawGraph();\n",
              "\n",
              "</script>\n",
              "</body>\n",
              "</html>"
            ],
            "text/plain": [
              "<IPython.core.display.HTML object>"
            ]
          },
          "metadata": {}
        }
      ]
    },
    {
      "cell_type": "markdown",
      "metadata": {
        "id": "BKrkB1-jPAC4"
      },
      "source": [
        "##### **Visualize Company Network**"
      ]
    },
    {
      "cell_type": "code",
      "metadata": {
        "colab": {
          "base_uri": "https://localhost:8080/",
          "height": 738
        },
        "id": "on6T9E29PGAz",
        "outputId": "8df72f5f-c8e4-4a61-bbf4-0f6d5298c7a6"
      },
      "source": [
        "g = nx.Graph()\n",
        "g.add_node('Minh Pham')\n",
        "\n",
        "for _, row in company_viz.iterrows():\n",
        "\n",
        "  company = row['company']\n",
        "  count = row['count']\n",
        "\n",
        "  title = f\"<b>{company}</b> – {count}\"\n",
        "  positions = set([x for x in network[company == network['Company']]['Position']])\n",
        "  positions = ''.join('<li>{}</li>'.format(x) for x in positions)\n",
        "\n",
        "  position_list = f\"<ul>{positions}</ul>\"\n",
        "  hover_info = title + position_list\n",
        "\n",
        "  g.add_node(company, size=count*2, title=hover_info, color='#01009a') # Duke Blue color!\n",
        "  g.add_edge('Minh Pham', company, color='grey')\n",
        "\n",
        "company_network = net.Network(height='700px', width='1000px', bgcolor=\"white\", font_color='black')\n",
        "company_network.from_nx(g)\n",
        "company_network.hrepulsion()\n",
        "company_network.show('company_graph.html')\n",
        "display(HTML('company_graph.html'))"
      ],
      "execution_count": null,
      "outputs": [
        {
          "output_type": "display_data",
          "data": {
            "text/html": [
              "<html>\n",
              "<head>\n",
              "<link rel=\"stylesheet\" href=\"https://cdnjs.cloudflare.com/ajax/libs/vis/4.16.1/vis.css\" type=\"text/css\" />\n",
              "<script type=\"text/javascript\" src=\"https://cdnjs.cloudflare.com/ajax/libs/vis/4.16.1/vis-network.min.js\"> </script>\n",
              "<center>\n",
              "<h1></h1>\n",
              "</center>\n",
              "\n",
              "<!-- <link rel=\"stylesheet\" href=\"../node_modules/vis/dist/vis.min.css\" type=\"text/css\" />\n",
              "<script type=\"text/javascript\" src=\"../node_modules/vis/dist/vis.js\"> </script>-->\n",
              "\n",
              "<style type=\"text/css\">\n",
              "\n",
              "        #mynetwork {\n",
              "            width: 1000px;\n",
              "            height: 700px;\n",
              "            background-color: white;\n",
              "            border: 1px solid lightgray;\n",
              "            position: relative;\n",
              "            float: left;\n",
              "        }\n",
              "\n",
              "        \n",
              "\n",
              "        \n",
              "\n",
              "        \n",
              "</style>\n",
              "\n",
              "</head>\n",
              "\n",
              "<body>\n",
              "<div id = \"mynetwork\"></div>\n",
              "\n",
              "\n",
              "<script type=\"text/javascript\">\n",
              "\n",
              "    // initialize global variables.\n",
              "    var edges;\n",
              "    var nodes;\n",
              "    var network; \n",
              "    var container;\n",
              "    var options, data;\n",
              "\n",
              "    \n",
              "    // This method is responsible for drawing the graph, returns the drawn network\n",
              "    function drawGraph() {\n",
              "        var container = document.getElementById('mynetwork');\n",
              "        \n",
              "        \n",
              "\n",
              "        // parsing and collecting nodes and edges from the python\n",
              "        nodes = new vis.DataSet([{\"font\": {\"color\": \"black\"}, \"id\": \"Minh Pham\", \"label\": \"Minh Pham\", \"shape\": \"dot\", \"size\": 10}, {\"color\": \"#01009a\", \"font\": {\"color\": \"black\"}, \"id\": \"Amazon\", \"label\": \"Amazon\", \"shape\": \"dot\", \"size\": 72, \"title\": \"\\u003cb\\u003eAmazon\\u003c/b\\u003e \\u2013 36\\u003cul\\u003e\\u003cli\\u003eArea Manager\\u003c/li\\u003e\\u003cli\\u003eRecruiter II\\u003c/li\\u003e\\u003cli\\u003ePathway Operations Manager Intern\\u003c/li\\u003e\\u003cli\\u003eSenior Product Manager\\u003c/li\\u003e\\u003cli\\u003eArea Manager I, Operations\\u003c/li\\u003e\\u003cli\\u003eSr. Vendor Manager, Retail Leadership Development Program\\u003c/li\\u003e\\u003cli\\u003eProduct Manager\\u003c/li\\u003e\\u003cli\\u003eProgram Manager II\\u003c/li\\u003e\\u003cli\\u003eSoftware Development Engineer - I\\u003c/li\\u003e\\u003cli\\u003eSoftware Engineer\\u003c/li\\u003e\\u003cli\\u003eProgram Manager- EU Engineering Services PMO\\u003c/li\\u003e\\u003cli\\u003eSr. Business Development Manager\\u003c/li\\u003e\\u003cli\\u003eData Engineer II\\u003c/li\\u003e\\u003cli\\u003eBrand Specialist, Team Canada Consumer Electronics \\u003c/li\\u003e\\u003cli\\u003eIncoming Data Scientist\\u003c/li\\u003e\\u003cli\\u003eOnline Amazon Shop Tax Preparer and Organizer \\u003c/li\\u003e\\u003cli\\u003eBusiness Analyst\\u003c/li\\u003e\\u003cli\\u003eFinancial Analyst\\u003c/li\\u003e\\u003cli\\u003eSoftware Development Engineer\\u003c/li\\u003e\\u003cli\\u003eProduct Leader\\u003c/li\\u003e\\u003cli\\u003eSoftware Development Engineer-1\\u003c/li\\u003e\\u003cli\\u003eSr. Program Manager, Finance Operations - Global Retail\\u003c/li\\u003e\\u003cli\\u003eMedical Laboratory Assistant II\\u003c/li\\u003e\\u003cli\\u003eMarketing Specialist\\u003c/li\\u003e\\u003cli\\u003eFinance Leadership Development Program\\u003c/li\\u003e\\u003cli\\u003eHead of Sales - Strategic Account Services\\u003c/li\\u003e\\u003cli\\u003eSenior Technical Product Manager\\u003c/li\\u003e\\u003cli\\u003eMedical Laboratory Technician\\u003c/li\\u003e\\u003c/ul\\u003e\"}, {\"color\": \"#01009a\", \"font\": {\"color\": \"black\"}, \"id\": \"Duke University - The Fuqua School of Business\", \"label\": \"Duke University - The Fuqua School of Business\", \"shape\": \"dot\", \"size\": 66, \"title\": \"\\u003cb\\u003eDuke University - The Fuqua School of Business\\u003c/b\\u003e \\u2013 33\\u003cul\\u003e\\u003cli\\u003eProject Manager | Capstone Project - Financial Data Analysis \\u0026 Forecast\\u003c/li\\u003e\\u003cli\\u003eRe-imagining Business Fellow, EDGE\\u003c/li\\u003e\\u003cli\\u003eAdmissions Ambassador\\u003c/li\\u003e\\u003cli\\u003eMBA Candidate | Class of 2023\\u003c/li\\u003e\\u003cli\\u003eDuke University MBA Candidate, Class of 2023\\u003c/li\\u003e\\u003cli\\u003eAssistant Dean, Master of Quantitative Management (MQM)\\u003c/li\\u003e\\u003cli\\u003eMBA Candidate at Duke University - The Fuqua School of Business, Class of 2023\\u003c/li\\u003e\\u003cli\\u003eProgram Director, Analytics Careers\\u003c/li\\u003e\\u003cli\\u003eRe-Imagining Business Fellow - Center for Energy, Development, and the Global Environment (EDGE)\\u003c/li\\u003e\\u003cli\\u003eIntelligence Analyst Marketing Fellow\\u003c/li\\u003e\\u003cli\\u003eGraduate Student\\u003c/li\\u003e\\u003cli\\u003eAssociate Director Of Admissions\\u003c/li\\u003e\\u003cli\\u003eResearch Assistant\\u003c/li\\u003e\\u003cli\\u003eMBA Consultant\\u003c/li\\u003e\\u003cli\\u003eMBA Candidate\\u003c/li\\u003e\\u003cli\\u003eSector Director for Technology\\u003c/li\\u003e\\u003cli\\u003eStudent Co-pilot\\u003c/li\\u003e\\u003c/ul\\u003e\"}, {\"color\": \"#01009a\", \"font\": {\"color\": \"black\"}, \"id\": \"Microsoft\", \"label\": \"Microsoft\", \"shape\": \"dot\", \"size\": 50, \"title\": \"\\u003cb\\u003eMicrosoft\\u003c/b\\u003e \\u2013 25\\u003cul\\u003e\\u003cli\\u003eSoftware Engineer\\u003c/li\\u003e\\u003cli\\u003eProgram Manager\\u003c/li\\u003e\\u003cli\\u003eSenior Program Manager\\u003c/li\\u003e\\u003cli\\u003eData Analyst II\\u003c/li\\u003e\\u003cli\\u003eBusiness Development Manager\\u003c/li\\u003e\\u003cli\\u003eSenior Product Manager\\u003c/li\\u003e\\u003cli\\u003eTalent Sourcer at Microsoft\\u003c/li\\u003e\\u003cli\\u003eSenior Business Planner\\u003c/li\\u003e\\u003cli\\u003eBusiness Analytics Specialist\\u003c/li\\u003e\\u003cli\\u003eDesigner, Microsoft Teams CMD\\u003c/li\\u003e\\u003cli\\u003eSoftware Engineer 2\\u003c/li\\u003e\\u003cli\\u003eSoftware Engineer II | Azure Intelligence Platform\\u003c/li\\u003e\\u003cli\\u003eSoftware Quality Assurance Engineer\\u003c/li\\u003e\\u003cli\\u003eProduct Manager\\u003c/li\\u003e\\u003c/ul\\u003e\"}, {\"color\": \"#01009a\", \"font\": {\"color\": \"black\"}, \"id\": \"McKinsey \\u0026 Company\", \"label\": \"McKinsey \\u0026 Company\", \"shape\": \"dot\", \"size\": 38, \"title\": \"\\u003cb\\u003eMcKinsey \\u0026 Company\\u003c/b\\u003e \\u2013 19\\u003cul\\u003e\\u003cli\\u003eSenior Digital Analyst\\u003c/li\\u003e\\u003cli\\u003eAnalyst\\u003c/li\\u003e\\u003cli\\u003eSpecialist Consultant\\u003c/li\\u003e\\u003cli\\u003eAssociate Partner\\u003c/li\\u003e\\u003cli\\u003eSenior Product Manager\\u003c/li\\u003e\\u003cli\\u003eEngagement Manager\\u003c/li\\u003e\\u003cli\\u003eBusiness Analyst\\u003c/li\\u003e\\u003cli\\u003eStrategy Consultant\\u003c/li\\u003e\\u003cli\\u003eSenior Analyst\\u003c/li\\u003e\\u003cli\\u003eManaging Partner, Vietnam\\u003c/li\\u003e\\u003cli\\u003eGeneralist Consulting Talent Acquisition\\u003c/li\\u003e\\u003cli\\u003eAssociate\\u003c/li\\u003e\\u003cli\\u003eTech Recruiter, Digital \\u0026 Analytics\\u003c/li\\u003e\\u003cli\\u003eSoftware Engineer\\u003c/li\\u003e\\u003cli\\u003eJunior Analytics Analyst\\u003c/li\\u003e\\u003c/ul\\u003e\"}, {\"color\": \"#01009a\", \"font\": {\"color\": \"black\"}, \"id\": \"Deloitte\", \"label\": \"Deloitte\", \"shape\": \"dot\", \"size\": 34, \"title\": \"\\u003cb\\u003eDeloitte\\u003c/b\\u003e \\u2013 17\\u003cul\\u003e\\u003cli\\u003eRisk and Financial Advisory Analyst\\u003c/li\\u003e\\u003cli\\u003eApplication and Program Analyst \\u003c/li\\u003e\\u003cli\\u003eAnalyst\\u003c/li\\u003e\\u003cli\\u003eSenior Consultant\\u003c/li\\u003e\\u003cli\\u003eAudit Intern\\u003c/li\\u003e\\u003cli\\u003eSupply Chain Analyst\\u003c/li\\u003e\\u003cli\\u003eInternational Tax Consultant | Quantitative Consulting Services\\u003c/li\\u003e\\u003cli\\u003eAudit \\u0026 Assurance Analytics Specialist Asst.\\u003c/li\\u003e\\u003cli\\u003eConsultant\\u003c/li\\u003e\\u003cli\\u003eRisk and Advisory Intern in Business Intelligence\\u003c/li\\u003e\\u003cli\\u003eSummer intern Audit \\u0026 Assurance\\u003c/li\\u003e\\u003cli\\u003eAdvisory Senior Consultant\\u003c/li\\u003e\\u003cli\\u003eConsulting Analyst\\u003c/li\\u003e\\u003cli\\u003eTax Intern\\u003c/li\\u003e\\u003cli\\u003eAudit \\u0026 Assurance Senior Assistant\\u003c/li\\u003e\\u003cli\\u003eLead Software Engineer\\u003c/li\\u003e\\u003cli\\u003eIncoming Business Technology Analyst\\u003c/li\\u003e\\u003c/ul\\u003e\"}, {\"color\": \"#01009a\", \"font\": {\"color\": \"black\"}, \"id\": \"Cleveland Clinic\", \"label\": \"Cleveland Clinic\", \"shape\": \"dot\", \"size\": 30, \"title\": \"\\u003cb\\u003eCleveland Clinic\\u003c/b\\u003e \\u2013 15\\u003cul\\u003e\\u003cli\\u003ePatient Care Nursing Assistant\\u003c/li\\u003e\\u003cli\\u003eRegistered Nurse\\u003c/li\\u003e\\u003cli\\u003eQuantitative Researcher\\u003c/li\\u003e\\u003cli\\u003eResearch Student\\u003c/li\\u003e\\u003cli\\u003eResearch Assistant- Department of Immunology \\u003c/li\\u003e\\u003cli\\u003ePatient Care Nursing Assisstant \\u003c/li\\u003e\\u003cli\\u003eCardiovascular Intensive Care Nurse\\u003c/li\\u003e\\u003cli\\u003eVisiting Researcher\\u003c/li\\u003e\\u003cli\\u003eJunior Researcher\\u003c/li\\u003e\\u003cli\\u003eClinical Research Coordinator\\u003c/li\\u003e\\u003cli\\u003eResearch Assistant\\u003c/li\\u003e\\u003cli\\u003eEmergency Department Registered Nurse\\u003c/li\\u003e\\u003cli\\u003ePrototyping Assistant\\u003c/li\\u003e\\u003cli\\u003eClinical Technician\\u003c/li\\u003e\\u003cli\\u003eMedical Biller\\u003c/li\\u003e\\u003c/ul\\u003e\"}, {\"color\": \"#01009a\", \"font\": {\"color\": \"black\"}, \"id\": \"Accenture\", \"label\": \"Accenture\", \"shape\": \"dot\", \"size\": 28, \"title\": \"\\u003cb\\u003eAccenture\\u003c/b\\u003e \\u2013 14\\u003cul\\u003e\\u003cli\\u003eBusiness Process Development Consulting Specialist\\u003c/li\\u003e\\u003cli\\u003eTechnology Consulting Manager\\u003c/li\\u003e\\u003cli\\u003eAnalyst\\u003c/li\\u003e\\u003cli\\u003eAssociate Software Engineer - Analytics\\u003c/li\\u003e\\u003cli\\u003eWorkday Financials Technology Consulting Senior Analyst\\u003c/li\\u003e\\u003cli\\u003eIndustry Solutions \\u0026 Services Associate Manager\\u003c/li\\u003e\\u003cli\\u003eStrategy Senior Analyst\\u003c/li\\u003e\\u003cli\\u003eConsulting Analyst\\u003c/li\\u003e\\u003cli\\u003eSenior Strategy Consultant\\u003c/li\\u003e\\u003cli\\u003eTechnology Analyst\\u003c/li\\u003e\\u003cli\\u003eStrategy Consultant\\u003c/li\\u003e\\u003cli\\u003eAnalyst - Strategy \\u0026 Consulting\\u003c/li\\u003e\\u003cli\\u003eManagement Consultant\\u003c/li\\u003e\\u003c/ul\\u003e\"}, {\"color\": \"#01009a\", \"font\": {\"color\": \"black\"}, \"id\": \"Duke Interdisciplinary Social Innovators (DISI)\", \"label\": \"Duke Interdisciplinary Social Innovators (DISI)\", \"shape\": \"dot\", \"size\": 28, \"title\": \"\\u003cb\\u003eDuke Interdisciplinary Social Innovators (DISI)\\u003c/b\\u003e \\u2013 14\\u003cul\\u003e\\u003cli\\u003eProject Innovator\\u003c/li\\u003e\\u003cli\\u003ePro Bono Consultant\\u003c/li\\u003e\\u003cli\\u003eCo-Executive Director of Operations\\u003c/li\\u003e\\u003cli\\u003eSocial Impact Consultant\\u003c/li\\u003e\\u003cli\\u003eExecutive Director of Partner Outreach\\u003c/li\\u003e\\u003cli\\u003eManagement Consultant\\u003c/li\\u003e\\u003cli\\u003eProject Manager\\u003c/li\\u003e\\u003cli\\u003eExecutive Director Of Operations\\u003c/li\\u003e\\u003c/ul\\u003e\"}, {\"color\": \"#01009a\", \"font\": {\"color\": \"black\"}, \"id\": \"EY\", \"label\": \"EY\", \"shape\": \"dot\", \"size\": 28, \"title\": \"\\u003cb\\u003eEY\\u003c/b\\u003e \\u2013 14\\u003cul\\u003e\\u003cli\\u003eAnalyst\\u003c/li\\u003e\\u003cli\\u003eFSO Assurance Staff\\u003c/li\\u003e\\u003cli\\u003eSenior Consultant\\u003c/li\\u003e\\u003cli\\u003eStaff - Business Consultant\\u003c/li\\u003e\\u003cli\\u003eAssurance Associate\\u003c/li\\u003e\\u003cli\\u003eTechnology Risk Consultant\\u003c/li\\u003e\\u003cli\\u003eAssurance Staff\\u003c/li\\u003e\\u003cli\\u003eTechnology Consultant\\u003c/li\\u003e\\u003cli\\u003eCore Assurance Intern\\u003c/li\\u003e\\u003cli\\u003eassurance staff\\u003c/li\\u003e\\u003cli\\u003eStaff Consultant\\u003c/li\\u003e\\u003cli\\u003eAssurance Intern\\u003c/li\\u003e\\u003cli\\u003eBusiness Consultant\\u003c/li\\u003e\\u003c/ul\\u003e\"}, {\"color\": \"#01009a\", \"font\": {\"color\": \"black\"}, \"id\": \"Boston Consulting Group (BCG)\", \"label\": \"Boston Consulting Group (BCG)\", \"shape\": \"dot\", \"size\": 28, \"title\": \"\\u003cb\\u003eBoston Consulting Group (BCG)\\u003c/b\\u003e \\u2013 14\\u003cul\\u003e\\u003cli\\u003ePrincipal\\u003c/li\\u003e\\u003cli\\u003eStrategy Consultant Program\\u003c/li\\u003e\\u003cli\\u003eProject Leader\\u003c/li\\u003e\\u003cli\\u003eConsultant\\u003c/li\\u003e\\u003cli\\u003eBusiness Analyst\\u003c/li\\u003e\\u003cli\\u003eCase Team Assistant\\u003c/li\\u003e\\u003cli\\u003eIncoming Senior Knowledge Analyst | Technology Advantage IoT\\u003c/li\\u003e\\u003cli\\u003eMarketing, Sales \\u0026 Pricing Practice Leader - North America\\u003c/li\\u003e\\u003cli\\u003eAssociate\\u003c/li\\u003e\\u003c/ul\\u003e\"}, {\"color\": \"#01009a\", \"font\": {\"color\": \"black\"}, \"id\": \"Google\", \"label\": \"Google\", \"shape\": \"dot\", \"size\": 26, \"title\": \"\\u003cb\\u003eGoogle\\u003c/b\\u003e \\u2013 13\\u003cul\\u003e\\u003cli\\u003eAccount Strategist\\u003c/li\\u003e\\u003cli\\u003eStrategy \\u0026 Operations, Global Acquisitions\\u003c/li\\u003e\\u003cli\\u003eSenior Software Engineer\\u003c/li\\u003e\\u003cli\\u003e20% UX Analyst, Youtube Data Insights \\u003c/li\\u003e\\u003cli\\u003eContent Analyst\\u003c/li\\u003e\\u003cli\\u003eProduct Management, Google Cloud\\u003c/li\\u003e\\u003cli\\u003eSoftware Engineer\\u003c/li\\u003e\\u003cli\\u003eEnterprise lead - Google Cloud\\u003c/li\\u003e\\u003cli\\u003eProduct Manager\\u003c/li\\u003e\\u003c/ul\\u003e\"}, {\"color\": \"#01009a\", \"font\": {\"color\": \"black\"}, \"id\": \"Amazon Web Services (AWS)\", \"label\": \"Amazon Web Services (AWS)\", \"shape\": \"dot\", \"size\": 22, \"title\": \"\\u003cb\\u003eAmazon Web Services (AWS)\\u003c/b\\u003e \\u2013 11\\u003cul\\u003e\\u003cli\\u003eTechnical Program Manager\\u003c/li\\u003e\\u003cli\\u003eSales Operations Analyst\\u003c/li\\u003e\\u003cli\\u003eSoftware Engineer Intern\\u003c/li\\u003e\\u003cli\\u003eSenior Financial Analyst, FLDP\\u003c/li\\u003e\\u003cli\\u003eSoftware Development Engineer\\u003c/li\\u003e\\u003cli\\u003eSenior Software Engineer\\u003c/li\\u003e\\u003cli\\u003eSoftware Engineer Internship\\u003c/li\\u003e\\u003cli\\u003ePrincipal, Enterprise Sales\\u003c/li\\u003e\\u003cli\\u003eSoftware Engineer\\u003c/li\\u003e\\u003c/ul\\u003e\"}, {\"color\": \"#01009a\", \"font\": {\"color\": \"black\"}, \"id\": \"Deloitte Consulting\", \"label\": \"Deloitte Consulting\", \"shape\": \"dot\", \"size\": 20, \"title\": \"\\u003cb\\u003eDeloitte Consulting\\u003c/b\\u003e \\u2013 10\\u003cul\\u003e\\u003cli\\u003eBusiness Technology Analyst\\u003c/li\\u003e\\u003cli\\u003eAnalyst\\u003c/li\\u003e\\u003cli\\u003eConsultant\\u003c/li\\u003e\\u003cli\\u003eBusiness Analyst\\u003c/li\\u003e\\u003cli\\u003eStrategy Consultant\\u003c/li\\u003e\\u003cli\\u003eBusiness Analyst - Strategy \\u0026 Operations\\u003c/li\\u003e\\u003c/ul\\u003e\"}, {\"color\": \"#01009a\", \"font\": {\"color\": \"black\"}, \"id\": \"PwC\", \"label\": \"PwC\", \"shape\": \"dot\", \"size\": 20, \"title\": \"\\u003cb\\u003ePwC\\u003c/b\\u003e \\u2013 10\\u003cul\\u003e\\u003cli\\u003eCyber, Risk \\u0026 Regulatory Associate\\u003c/li\\u003e\\u003cli\\u003eExperienced Management Consulting Associate\\u003c/li\\u003e\\u003cli\\u003eAssurance Associate\\u003c/li\\u003e\\u003cli\\u003eInternational Tax Associate\\u003c/li\\u003e\\u003cli\\u003eIntern/Trainee Assurance\\u003c/li\\u003e\\u003cli\\u003eData Analyst\\u003c/li\\u003e\\u003cli\\u003eDirector: One Firm Risk Organization\\u003c/li\\u003e\\u003cli\\u003eManagement Consulting Associate - Tech, Media, Telecom (TMT) Vertical \\u0026 Customer Experience\\u003c/li\\u003e\\u003cli\\u003eAssociate\\u003c/li\\u003e\\u003cli\\u003eRIsk Assurance and Transparency Intern\\u003c/li\\u003e\\u003c/ul\\u003e\"}, {\"color\": \"#01009a\", \"font\": {\"color\": \"black\"}, \"id\": \"MUM Industries Inc.\", \"label\": \"MUM Industries Inc.\", \"shape\": \"dot\", \"size\": 18, \"title\": \"\\u003cb\\u003eMUM Industries Inc.\\u003c/b\\u003e \\u2013 9\\u003cul\\u003e\\u003cli\\u003eMechanical Engineer\\u003c/li\\u003e\\u003cli\\u003eEngineering Manager\\u003c/li\\u003e\\u003cli\\u003eDirector Of Operations\\u003c/li\\u003e\\u003cli\\u003eDirector of Finance\\u003c/li\\u003e\\u003cli\\u003ePurchasing Agent\\u003c/li\\u003e\\u003cli\\u003eCorporate Director Of Human Resources\\u003c/li\\u003e\\u003cli\\u003eQuality Manager\\u003c/li\\u003e\\u003c/ul\\u003e\"}, {\"color\": \"#01009a\", \"font\": {\"color\": \"black\"}, \"id\": \"Duke University\", \"label\": \"Duke University\", \"shape\": \"dot\", \"size\": 14, \"title\": \"\\u003cb\\u003eDuke University\\u003c/b\\u003e \\u2013 7\\u003cul\\u003e\\u003cli\\u003eTeaching Assistant\\u003c/li\\u003e\\u003cli\\u003eExecutive Board Member-MEMPC Liaison\\u003c/li\\u003e\\u003cli\\u003eAssistant Director Of Admissions\\u003c/li\\u003e\\u003cli\\u003ePhD Candidate in Neurobiology\\u003c/li\\u003e\\u003cli\\u003eResearch Associate\\u003c/li\\u003e\\u003cli\\u003eMBA Candidate\\u003c/li\\u003e\\u003cli\\u003eGraduate Student\\u003c/li\\u003e\\u003c/ul\\u003e\"}, {\"color\": \"#01009a\", \"font\": {\"color\": \"black\"}, \"id\": \"Uber\", \"label\": \"Uber\", \"shape\": \"dot\", \"size\": 14, \"title\": \"\\u003cb\\u003eUber\\u003c/b\\u003e \\u2013 7\\u003cul\\u003e\\u003cli\\u003eManager, M\\u0026A Finance and Integration\\u003c/li\\u003e\\u003cli\\u003eAssociate Product Manager\\u003c/li\\u003e\\u003cli\\u003eSenior Product Manager\\u003c/li\\u003e\\u003c/ul\\u003e\"}, {\"color\": \"#01009a\", \"font\": {\"color\": \"black\"}, \"id\": \"Salesforce\", \"label\": \"Salesforce\", \"shape\": \"dot\", \"size\": 14, \"title\": \"\\u003cb\\u003eSalesforce\\u003c/b\\u003e \\u2013 7\\u003cul\\u003e\\u003cli\\u003eVice President Of Product Management\\u003c/li\\u003e\\u003cli\\u003eSenior Technical Recruiter\\u003c/li\\u003e\\u003cli\\u003eAccount Executive\\u003c/li\\u003e\\u003cli\\u003eSenior Engineering Manager\\u003c/li\\u003e\\u003cli\\u003eRelease Manager\\u003c/li\\u003e\\u003cli\\u003eAMTS Software Engineer\\u003c/li\\u003e\\u003cli\\u003eSoftware Engineer\\u003c/li\\u003e\\u003c/ul\\u003e\"}, {\"color\": \"#01009a\", \"font\": {\"color\": \"black\"}, \"id\": \"Apple\", \"label\": \"Apple\", \"shape\": \"dot\", \"size\": 14, \"title\": \"\\u003cb\\u003eApple\\u003c/b\\u003e \\u2013 7\\u003cul\\u003e\\u003cli\\u003eProduct Manager, MBA Intern, Home and Audio\\u003c/li\\u003e\\u003cli\\u003eProgram Manager: New Product Operations\\u003c/li\\u003e\\u003cli\\u003eSoftware Engineer in Research\\u003c/li\\u003e\\u003cli\\u003eProduct Manager MBA Intern, Subscription Commerce Product\\u003c/li\\u003e\\u003cli\\u003eProduct Manager, Siri Accuracy\\u003c/li\\u003e\\u003cli\\u003eAssociate Product Manager, Marketing Automation Technology \\u003c/li\\u003e\\u003cli\\u003eProduct Design Engineer\\u003c/li\\u003e\\u003c/ul\\u003e\"}, {\"color\": \"#01009a\", \"font\": {\"color\": \"black\"}, \"id\": \"Epic\", \"label\": \"Epic\", \"shape\": \"dot\", \"size\": 14, \"title\": \"\\u003cb\\u003eEpic\\u003c/b\\u003e \\u2013 7\\u003cul\\u003e\\u003cli\\u003eTechnical Services\\u003c/li\\u003e\\u003cli\\u003eTechnical Solutions Engineer\\u003c/li\\u003e\\u003cli\\u003eProject Manager\\u003c/li\\u003e\\u003cli\\u003eQuality Assurance Software Tester - Anesthesia Team\\u003c/li\\u003e\\u003c/ul\\u003e\"}, {\"color\": \"#01009a\", \"font\": {\"color\": \"black\"}, \"id\": \"JPMorgan Chase \\u0026 Co.\", \"label\": \"JPMorgan Chase \\u0026 Co.\", \"shape\": \"dot\", \"size\": 14, \"title\": \"\\u003cb\\u003eJPMorgan Chase \\u0026 Co.\\u003c/b\\u003e \\u2013 7\\u003cul\\u003e\\u003cli\\u003eCCBSI Financial Analyst\\u003c/li\\u003e\\u003cli\\u003eCommunity Manager\\u003c/li\\u003e\\u003cli\\u003eFinancial Analyst, Treasury \\u0026 Chief Investment Office\\u003c/li\\u003e\\u003cli\\u003eChase Leadership Development Program analyst\\u003c/li\\u003e\\u003cli\\u003eSoftware Engineer\\u003c/li\\u003e\\u003cli\\u003eAssociate Banker\\u003c/li\\u003e\\u003c/ul\\u003e\"}, {\"color\": \"#01009a\", \"font\": {\"color\": \"black\"}, \"id\": \"Massachusetts Institute of Technology\", \"label\": \"Massachusetts Institute of Technology\", \"shape\": \"dot\", \"size\": 12, \"title\": \"\\u003cb\\u003eMassachusetts Institute of Technology\\u003c/b\\u003e \\u2013 6\\u003cul\\u003e\\u003cli\\u003ePhD Student\\u003c/li\\u003e\\u003cli\\u003eAdministrative Assistant\\u003c/li\\u003e\\u003cli\\u003eTechnical Research Associate\\u003c/li\\u003e\\u003cli\\u003eResearcher\\u003c/li\\u003e\\u003cli\\u003eGraduate Research Assistant\\u003c/li\\u003e\\u003cli\\u003ePhD Candidate\\u003c/li\\u003e\\u003c/ul\\u003e\"}, {\"color\": \"#01009a\", \"font\": {\"color\": \"black\"}, \"id\": \"Case Western Reserve University School of Medicine\", \"label\": \"Case Western Reserve University School of Medicine\", \"shape\": \"dot\", \"size\": 12, \"title\": \"\\u003cb\\u003eCase Western Reserve University School of Medicine\\u003c/b\\u003e \\u2013 6\\u003cul\\u003e\\u003cli\\u003eGraduate Student Research Assistant\\u003c/li\\u003e\\u003cli\\u003eGraduate Student Researcher\\u003c/li\\u003e\\u003cli\\u003eResearch Assistant\\u003c/li\\u003e\\u003cli\\u003eUndergraduate Research Assistant\\u003c/li\\u003e\\u003cli\\u003eStudent Assistant\\u003c/li\\u003e\\u003c/ul\\u003e\"}, {\"color\": \"#01009a\", \"font\": {\"color\": \"black\"}, \"id\": \"INSIGHT2PROFIT\", \"label\": \"INSIGHT2PROFIT\", \"shape\": \"dot\", \"size\": 12, \"title\": \"\\u003cb\\u003eINSIGHT2PROFIT\\u003c/b\\u003e \\u2013 6\\u003cul\\u003e\\u003cli\\u003eSenior Manager\\u003c/li\\u003e\\u003cli\\u003eBusiness Analyst\\u003c/li\\u003e\\u003c/ul\\u003e\"}, {\"color\": \"#01009a\", \"font\": {\"color\": \"black\"}, \"id\": \"Meta\", \"label\": \"Meta\", \"shape\": \"dot\", \"size\": 12, \"title\": \"\\u003cb\\u003eMeta\\u003c/b\\u003e \\u2013 6\\u003cul\\u003e\\u003cli\\u003eMachine Learning Engineer \\u0026 Scientist\\u003c/li\\u003e\\u003cli\\u003ePhD Recruiter\\u003c/li\\u003e\\u003cli\\u003eRecruiting Coordinator\\u003c/li\\u003e\\u003cli\\u003eEnergy Program Manager\\u003c/li\\u003e\\u003cli\\u003eRotational Product Manager\\u003c/li\\u003e\\u003cli\\u003eProduct Design Engineer, Reality Labs\\u003c/li\\u003e\\u003c/ul\\u003e\"}, {\"color\": \"#01009a\", \"font\": {\"color\": \"black\"}, \"id\": \"TikTok\", \"label\": \"TikTok\", \"shape\": \"dot\", \"size\": 12, \"title\": \"\\u003cb\\u003eTikTok\\u003c/b\\u003e \\u2013 6\\u003cul\\u003e\\u003cli\\u003eTikTok LIVE Data Analyst\\u003c/li\\u003e\\u003cli\\u003eData Scientist, Privacy\\u003c/li\\u003e\\u003cli\\u003eData Scientist\\u003c/li\\u003e\\u003cli\\u003eMonetization Product Manager\\u003c/li\\u003e\\u003cli\\u003eTechnical Recruiter\\u003c/li\\u003e\\u003cli\\u003eMonetization Strategy \\u0026 Operations\\u003c/li\\u003e\\u003c/ul\\u003e\"}, {\"color\": \"#01009a\", \"font\": {\"color\": \"black\"}, \"id\": \"Self-employed\", \"label\": \"Self-employed\", \"shape\": \"dot\", \"size\": 10, \"title\": \"\\u003cb\\u003eSelf-employed\\u003c/b\\u003e \\u2013 5\\u003cul\\u003e\\u003cli\\u003ePrivate Tutor\\u003c/li\\u003e\\u003cli\\u003eStandardized Testing Tutor\\u003c/li\\u003e\\u003cli\\u003eDogPaws Project\\u003c/li\\u003e\\u003cli\\u003ePrivate IELTS Tutor\\u003c/li\\u003e\\u003c/ul\\u003e\"}, {\"color\": \"#01009a\", \"font\": {\"color\": \"black\"}, \"id\": \"Bain \\u0026 Company\", \"label\": \"Bain \\u0026 Company\", \"shape\": \"dot\", \"size\": 10, \"title\": \"\\u003cb\\u003eBain \\u0026 Company\\u003c/b\\u003e \\u2013 5\\u003cul\\u003e\\u003cli\\u003eSenior Manager\\u003c/li\\u003e\\u003cli\\u003eAssociate Consultant\\u003c/li\\u003e\\u003cli\\u003eConsultant\\u003c/li\\u003e\\u003cli\\u003eIncoming Associate Consultant\\u003c/li\\u003e\\u003c/ul\\u003e\"}, {\"color\": \"#01009a\", \"font\": {\"color\": \"black\"}, \"id\": \"ZS\", \"label\": \"ZS\", \"shape\": \"dot\", \"size\": 10, \"title\": \"\\u003cb\\u003eZS\\u003c/b\\u003e \\u2013 5\\u003cul\\u003e\\u003cli\\u003eStrategy Insights \\u0026 Planning Associate\\u003c/li\\u003e\\u003cli\\u003eStrategy Insights and Planning Associate - Strategy Consulting\\u003c/li\\u003e\\u003cli\\u003eAssociate Consultant\\u003c/li\\u003e\\u003cli\\u003eDecision Analytics Associate\\u003c/li\\u003e\\u003cli\\u003eStrategy Insights \\u0026 Planning Associate Consultant\\u003c/li\\u003e\\u003c/ul\\u003e\"}, {\"color\": \"#01009a\", \"font\": {\"color\": \"black\"}, \"id\": \"Goldman Sachs\", \"label\": \"Goldman Sachs\", \"shape\": \"dot\", \"size\": 10, \"title\": \"\\u003cb\\u003eGoldman Sachs\\u003c/b\\u003e \\u2013 5\\u003cul\\u003e\\u003cli\\u003eAnalyst\\u003c/li\\u003e\\u003cli\\u003eGlobal Markets Analyst\\u003c/li\\u003e\\u003cli\\u003eLeveraged Finance Sales Analyst\\u003c/li\\u003e\\u003cli\\u003eIncoming Software Engineering Intern\\u003c/li\\u003e\\u003cli\\u003eSenior Analyst\\u003c/li\\u003e\\u003c/ul\\u003e\"}, {\"color\": \"#01009a\", \"font\": {\"color\": \"black\"}, \"id\": \"Rockwell Automation\", \"label\": \"Rockwell Automation\", \"shape\": \"dot\", \"size\": 8, \"title\": \"\\u003cb\\u003eRockwell Automation\\u003c/b\\u003e \\u2013 4\\u003cul\\u003e\\u003cli\\u003eEmbedded Software Engineer Associate\\u003c/li\\u003e\\u003cli\\u003eInformation Technology Associate\\u003c/li\\u003e\\u003cli\\u003eProduct Manager\\u003c/li\\u003e\\u003cli\\u003eHardware Engineer\\u003c/li\\u003e\\u003c/ul\\u003e\"}, {\"color\": \"#01009a\", \"font\": {\"color\": \"black\"}, \"id\": \"Capital One\", \"label\": \"Capital One\", \"shape\": \"dot\", \"size\": 8, \"title\": \"\\u003cb\\u003eCapital One\\u003c/b\\u003e \\u2013 4\\u003cul\\u003e\\u003cli\\u003eCash Forecasting Analyst\\u003c/li\\u003e\\u003cli\\u003eSenior Business Analyst\\u003c/li\\u003e\\u003cli\\u003eSr. Business Analyst\\u003c/li\\u003e\\u003cli\\u003eProduct Manager, SWE, Machine Learning and Artificial Intelligence (Eno)\\u003c/li\\u003e\\u003c/ul\\u003e\"}, {\"color\": \"#01009a\", \"font\": {\"color\": \"black\"}, \"id\": \"Case School of Engineering at Case Western Reserve University\", \"label\": \"Case School of Engineering at Case Western Reserve University\", \"shape\": \"dot\", \"size\": 8, \"title\": \"\\u003cb\\u003eCase School of Engineering at Case Western Reserve University\\u003c/b\\u003e \\u2013 4\\u003cul\\u003e\\u003cli\\u003eTeaching Assistant\\u003c/li\\u003e\\u003cli\\u003eBiomedical Engineering Teaching Assistant\\u003c/li\\u003e\\u003cli\\u003ePhD Student, Sen Gupta Lab\\u003c/li\\u003e\\u003c/ul\\u003e\"}, {\"color\": \"#01009a\", \"font\": {\"color\": \"black\"}, \"id\": \"Wonsulting\", \"label\": \"Wonsulting\", \"shape\": \"dot\", \"size\": 8, \"title\": \"\\u003cb\\u003eWonsulting\\u003c/b\\u003e \\u2013 4\\u003cul\\u003e\\u003cli\\u003eCo-Founder, Chief Operating Officer\\u003c/li\\u003e\\u003cli\\u003eFrontend Developer\\u003c/li\\u003e\\u003cli\\u003eCEO/Founder (Full-Time)\\u003c/li\\u003e\\u003cli\\u003eExecutive Operations Intern\\u003c/li\\u003e\\u003c/ul\\u003e\"}, {\"color\": \"#01009a\", \"font\": {\"color\": \"black\"}, \"id\": \"Vietnam Tech Society\", \"label\": \"Vietnam Tech Society\", \"shape\": \"dot\", \"size\": 8, \"title\": \"\\u003cb\\u003eVietnam Tech Society\\u003c/b\\u003e \\u2013 4\\u003cul\\u003e\\u003cli\\u003eChief of Marketing\\u003c/li\\u003e\\u003cli\\u003eChief People Officer\\u003c/li\\u003e\\u003cli\\u003eMarketing Director\\u003c/li\\u003e\\u003cli\\u003eFounder\\u003c/li\\u003e\\u003c/ul\\u003e\"}, {\"color\": \"#01009a\", \"font\": {\"color\": \"black\"}, \"id\": \"Eaton\", \"label\": \"Eaton\", \"shape\": \"dot\", \"size\": 8, \"title\": \"\\u003cb\\u003eEaton\\u003c/b\\u003e \\u2013 4\\u003cul\\u003e\\u003cli\\u003eReliability Engineer\\u003c/li\\u003e\\u003cli\\u003eCloud Digital Platform Architect\\u003c/li\\u003e\\u003cli\\u003eTechnical Sales Leadership Development Program\\u003c/li\\u003e\\u003cli\\u003eSenior Manufacturing Engineer\\u003c/li\\u003e\\u003c/ul\\u003e\"}, {\"color\": \"#01009a\", \"font\": {\"color\": \"black\"}, \"id\": \"Procter \\u0026 Gamble\", \"label\": \"Procter \\u0026 Gamble\", \"shape\": \"dot\", \"size\": 8, \"title\": \"\\u003cb\\u003eProcter \\u0026 Gamble\\u003c/b\\u003e \\u2013 4\\u003cul\\u003e\\u003cli\\u003eProcess Engineer\\u003c/li\\u003e\\u003cli\\u003ePlant Finance \\u003c/li\\u003e\\u003cli\\u003eProcess Engineer, Associate Scientist | Skin Care Process R\\u0026D\\u003c/li\\u003e\\u003cli\\u003eTeam Manager\\u003c/li\\u003e\\u003c/ul\\u003e\"}, {\"color\": \"#01009a\", \"font\": {\"color\": \"black\"}, \"id\": \"Progressive Insurance\", \"label\": \"Progressive Insurance\", \"shape\": \"dot\", \"size\": 8, \"title\": \"\\u003cb\\u003eProgressive Insurance\\u003c/b\\u003e \\u2013 4\\u003cul\\u003e\\u003cli\\u003eProduct Owner, Mobile Native Applications\\u003c/li\\u003e\\u003cli\\u003eProduct Analyst II\\u003c/li\\u003e\\u003cli\\u003eData Analyst Intern\\u003c/li\\u003e\\u003cli\\u003eProduct Analyst III\\u003c/li\\u003e\\u003c/ul\\u003e\"}, {\"color\": \"#01009a\", \"font\": {\"color\": \"black\"}, \"id\": \"HSBC\", \"label\": \"HSBC\", \"shape\": \"dot\", \"size\": 8, \"title\": \"\\u003cb\\u003eHSBC\\u003c/b\\u003e \\u2013 4\\u003cul\\u003e\\u003cli\\u003eAssistant Manager\\u003c/li\\u003e\\u003cli\\u003eAnalyst - Global Banking \\u0026 Markets\\u003c/li\\u003e\\u003cli\\u003eSoftware Engineer\\u003c/li\\u003e\\u003cli\\u003eInvestment Banking Analyst\\u003c/li\\u003e\\u003c/ul\\u003e\"}, {\"color\": \"#01009a\", \"font\": {\"color\": \"black\"}, \"id\": \"Credit Suisse\", \"label\": \"Credit Suisse\", \"shape\": \"dot\", \"size\": 8, \"title\": \"\\u003cb\\u003eCredit Suisse\\u003c/b\\u003e \\u2013 4\\u003cul\\u003e\\u003cli\\u003eSummer Analyst\\u003c/li\\u003e\\u003cli\\u003eSecuritized Products Analyst\\u003c/li\\u003e\\u003cli\\u003eInvestment Banking Analyst\\u003c/li\\u003e\\u003c/ul\\u003e\"}, {\"color\": \"#01009a\", \"font\": {\"color\": \"black\"}, \"id\": \"MUM Industries\", \"label\": \"MUM Industries\", \"shape\": \"dot\", \"size\": 8, \"title\": \"\\u003cb\\u003eMUM Industries\\u003c/b\\u003e \\u2013 4\\u003cul\\u003e\\u003cli\\u003eSenior Customer Experience Manager\\u003c/li\\u003e\\u003cli\\u003eIT Administrator / Project Engineer\\u003c/li\\u003e\\u003cli\\u003eIT/IS Manager\\u003c/li\\u003e\\u003cli\\u003eMechanical Engineer\\u003c/li\\u003e\\u003c/ul\\u003e\"}, {\"color\": \"#01009a\", \"font\": {\"color\": \"black\"}, \"id\": \"Infosys\", \"label\": \"Infosys\", \"shape\": \"dot\", \"size\": 8, \"title\": \"\\u003cb\\u003eInfosys\\u003c/b\\u003e \\u2013 4\\u003cul\\u003e\\u003cli\\u003eFull Stack Developer\\u003c/li\\u003e\\u003cli\\u003eAssociate\\u003c/li\\u003e\\u003cli\\u003eAssociate Consultant\\u003c/li\\u003e\\u003cli\\u003eMBA Intern - InStep Global Internship Program\\u003c/li\\u003e\\u003c/ul\\u003e\"}, {\"color\": \"#01009a\", \"font\": {\"color\": \"black\"}, \"id\": \"Twitter\", \"label\": \"Twitter\", \"shape\": \"dot\", \"size\": 8, \"title\": \"\\u003cb\\u003eTwitter\\u003c/b\\u003e \\u2013 4\\u003cul\\u003e\\u003cli\\u003eTechnical Writer II\\u003c/li\\u003e\\u003cli\\u003eProduct Manager - Cortex Applied AI Research\\u003c/li\\u003e\\u003cli\\u003eSenior Product Manager - Applied ML\\u003c/li\\u003e\\u003cli\\u003eProduct Manager\\u003c/li\\u003e\\u003c/ul\\u003e\"}, {\"color\": \"#01009a\", \"font\": {\"color\": \"black\"}, \"id\": \"Invacare Corporation\", \"label\": \"Invacare Corporation\", \"shape\": \"dot\", \"size\": 6, \"title\": \"\\u003cb\\u003eInvacare Corporation\\u003c/b\\u003e \\u2013 3\\u003cul\\u003e\\u003cli\\u003eDevelopment Engineer\\u003c/li\\u003e\\u003cli\\u003eElectrical Engineering Intern\\u003c/li\\u003e\\u003cli\\u003eProject Management/Sustaining Engineering Co-op\\u003c/li\\u003e\\u003c/ul\\u003e\"}, {\"color\": \"#01009a\", \"font\": {\"color\": \"black\"}, \"id\": \"My Consulting Offer\", \"label\": \"My Consulting Offer\", \"shape\": \"dot\", \"size\": 6, \"title\": \"\\u003cb\\u003eMy Consulting Offer\\u003c/b\\u003e \\u2013 3\\u003cul\\u003e\\u003cli\\u003eFounder\\u003c/li\\u003e\\u003cli\\u003eEnrollment and Program Success Manager\\u003c/li\\u003e\\u003cli\\u003eRecruiting and Enrollment Specialist\\u003c/li\\u003e\\u003c/ul\\u003e\"}, {\"color\": \"#01009a\", \"font\": {\"color\": \"black\"}, \"id\": \"DiDi\", \"label\": \"DiDi\", \"shape\": \"dot\", \"size\": 6, \"title\": \"\\u003cb\\u003eDiDi\\u003c/b\\u003e \\u2013 3\\u003cul\\u003e\\u003cli\\u003eProduct Manager\\u003c/li\\u003e\\u003cli\\u003eData Analyst Intern\\u003c/li\\u003e\\u003cli\\u003eOperational Specialist\\u003c/li\\u003e\\u003c/ul\\u003e\"}, {\"color\": \"#01009a\", \"font\": {\"color\": \"black\"}, \"id\": \"Sherwin-Williams\", \"label\": \"Sherwin-Williams\", \"shape\": \"dot\", \"size\": 6, \"title\": \"\\u003cb\\u003eSherwin-Williams\\u003c/b\\u003e \\u2013 3\\u003cul\\u003e\\u003cli\\u003eJunior/Mid Web Developer\\u003c/li\\u003e\\u003cli\\u003eR\\u0026D Chemist Leadership Development Program\\u003c/li\\u003e\\u003cli\\u003eInclusion, Diversity \\u0026 Equity Program Manager\\u003c/li\\u003e\\u003c/ul\\u003e\"}, {\"color\": \"#01009a\", \"font\": {\"color\": \"black\"}, \"id\": \"Dell Technologies\", \"label\": \"Dell Technologies\", \"shape\": \"dot\", \"size\": 6, \"title\": \"\\u003cb\\u003eDell Technologies\\u003c/b\\u003e \\u2013 3\\u003cul\\u003e\\u003cli\\u003eElectrical Engineer II\\u003c/li\\u003e\\u003cli\\u003eSoftware Engineer\\u003c/li\\u003e\\u003cli\\u003eProduct Management MBA Intern\\u003c/li\\u003e\\u003c/ul\\u003e\"}, {\"color\": \"#01009a\", \"font\": {\"color\": \"black\"}, \"id\": \"OMD USA\", \"label\": \"OMD USA\", \"shape\": \"dot\", \"size\": 6, \"title\": \"\\u003cb\\u003eOMD USA\\u003c/b\\u003e \\u2013 3\\u003cul\\u003e\\u003cli\\u003eAssociate Manager, Marketing Science\\u003c/li\\u003e\\u003cli\\u003eAssociate Manager\\u003c/li\\u003e\\u003cli\\u003eAssociate Media Planner\\u003c/li\\u003e\\u003c/ul\\u003e\"}, {\"color\": \"#01009a\", \"font\": {\"color\": \"black\"}, \"id\": \"Stanford University School of Medicine\", \"label\": \"Stanford University School of Medicine\", \"shape\": \"dot\", \"size\": 6, \"title\": \"\\u003cb\\u003eStanford University School of Medicine\\u003c/b\\u003e \\u2013 3\\u003cul\\u003e\\u003cli\\u003eResearch Assistant\\u003c/li\\u003e\\u003cli\\u003eClinical Research Coordinator Associate\\u003c/li\\u003e\\u003cli\\u003eOrthopaedic Surgery Resident\\u003c/li\\u003e\\u003c/ul\\u003e\"}, {\"color\": \"#01009a\", \"font\": {\"color\": \"black\"}, \"id\": \"General Motors\", \"label\": \"General Motors\", \"shape\": \"dot\", \"size\": 6, \"title\": \"\\u003cb\\u003eGeneral Motors\\u003c/b\\u003e \\u2013 3\\u003cul\\u003e\\u003cli\\u003eProcess Engineer\\u003c/li\\u003e\\u003cli\\u003eBig Data Analyst - Electric Power Analytics\\u003c/li\\u003e\\u003cli\\u003ePrototyping Innovation Engineer (iHub)\\u003c/li\\u003e\\u003c/ul\\u003e\"}, {\"color\": \"#01009a\", \"font\": {\"color\": \"black\"}, \"id\": \"The Goodyear Tire \\u0026 Rubber Company\", \"label\": \"The Goodyear Tire \\u0026 Rubber Company\", \"shape\": \"dot\", \"size\": 6, \"title\": \"\\u003cb\\u003eThe Goodyear Tire \\u0026 Rubber Company\\u003c/b\\u003e \\u2013 3\\u003cul\\u003e\\u003cli\\u003eTechnology Engineer\\u003c/li\\u003e\\u003cli\\u003eAssociate Engineer - Light Tire Compound Development\\u003c/li\\u003e\\u003cli\\u003eGlobal Technology Engineer \\u003c/li\\u003e\\u003c/ul\\u003e\"}, {\"color\": \"#01009a\", \"font\": {\"color\": \"black\"}, \"id\": \"PNC\", \"label\": \"PNC\", \"shape\": \"dot\", \"size\": 6, \"title\": \"\\u003cb\\u003ePNC\\u003c/b\\u003e \\u2013 3\\u003cul\\u003e\\u003cli\\u003eJunior Software Developer\\u003c/li\\u003e\\u003cli\\u003eSoftware Developer\\u003c/li\\u003e\\u003cli\\u003eFixed Income Analyst\\u003c/li\\u003e\\u003c/ul\\u003e\"}, {\"color\": \"#01009a\", \"font\": {\"color\": \"black\"}, \"id\": \"MIM Software Inc.\", \"label\": \"MIM Software Inc.\", \"shape\": \"dot\", \"size\": 6, \"title\": \"\\u003cb\\u003eMIM Software Inc.\\u003c/b\\u003e \\u2013 3\\u003cul\\u003e\\u003cli\\u003eSite Development Manager\\u003c/li\\u003e\\u003cli\\u003eSoftware Engineer\\u003c/li\\u003e\\u003cli\\u003eSenior Software Engineer\\u003c/li\\u003e\\u003c/ul\\u003e\"}, {\"color\": \"#01009a\", \"font\": {\"color\": \"black\"}, \"id\": \"Booz Allen Hamilton\", \"label\": \"Booz Allen Hamilton\", \"shape\": \"dot\", \"size\": 6, \"title\": \"\\u003cb\\u003eBooz Allen Hamilton\\u003c/b\\u003e \\u2013 3\\u003cul\\u003e\\u003cli\\u003eSoftware Consulting Intern\\u003c/li\\u003e\\u003cli\\u003eSenior Consultant\\u003c/li\\u003e\\u003c/ul\\u003e\"}, {\"color\": \"#01009a\", \"font\": {\"color\": \"black\"}, \"id\": \"GE Healthcare\", \"label\": \"GE Healthcare\", \"shape\": \"dot\", \"size\": 6, \"title\": \"\\u003cb\\u003eGE Healthcare\\u003c/b\\u003e \\u2013 3\\u003cul\\u003e\\u003cli\\u003eImaging Account Manager\\u003c/li\\u003e\\u003cli\\u003eSenior Consultant, Analytics\\u003c/li\\u003e\\u003cli\\u003eEdison Engineer\\u003c/li\\u003e\\u003c/ul\\u003e\"}, {\"color\": \"#01009a\", \"font\": {\"color\": \"black\"}, \"id\": \"Tesla\", \"label\": \"Tesla\", \"shape\": \"dot\", \"size\": 6, \"title\": \"\\u003cb\\u003eTesla\\u003c/b\\u003e \\u2013 3\\u003cul\\u003e\\u003cli\\u003eAutopilot Data Analyst\\u003c/li\\u003e\\u003cli\\u003eQuality Engineer\\u003c/li\\u003e\\u003cli\\u003eTechnical Program Manager Intern\\u003c/li\\u003e\\u003c/ul\\u003e\"}, {\"color\": \"#01009a\", \"font\": {\"color\": \"black\"}, \"id\": \"KeyBank\", \"label\": \"KeyBank\", \"shape\": \"dot\", \"size\": 6, \"title\": \"\\u003cb\\u003eKeyBank\\u003c/b\\u003e \\u2013 3\\u003cul\\u003e\\u003cli\\u003eRotational Analyst\\u003c/li\\u003e\\u003cli\\u003eQuantitative Analytics Lead Associate\\u003c/li\\u003e\\u003cli\\u003eRisk Analyst\\u003c/li\\u003e\\u003c/ul\\u003e\"}, {\"color\": \"#01009a\", \"font\": {\"color\": \"black\"}, \"id\": \"IQVIA\", \"label\": \"IQVIA\", \"shape\": \"dot\", \"size\": 6, \"title\": \"\\u003cb\\u003eIQVIA\\u003c/b\\u003e \\u2013 3\\u003cul\\u003e\\u003cli\\u003eConsultant\\u003c/li\\u003e\\u003cli\\u003eManagement Consulting Intern\\u003c/li\\u003e\\u003cli\\u003eAssociate Consultant\\u003c/li\\u003e\\u003c/ul\\u003e\"}, {\"color\": \"#01009a\", \"font\": {\"color\": \"black\"}, \"id\": \"GE Aviation\", \"label\": \"GE Aviation\", \"shape\": \"dot\", \"size\": 6, \"title\": \"\\u003cb\\u003eGE Aviation\\u003c/b\\u003e \\u2013 3\\u003cul\\u003e\\u003cli\\u003eTechnical Intern\\u003c/li\\u003e\\u003cli\\u003eMission Analysis Engineer\\u003c/li\\u003e\\u003cli\\u003eInstrumentation Design Engineer\\u003c/li\\u003e\\u003c/ul\\u003e\"}]);\n",
              "        edges = new vis.DataSet([{\"color\": \"grey\", \"from\": \"Minh Pham\", \"to\": \"Amazon\", \"weight\": 1}, {\"color\": \"grey\", \"from\": \"Minh Pham\", \"to\": \"Duke University - The Fuqua School of Business\", \"weight\": 1}, {\"color\": \"grey\", \"from\": \"Minh Pham\", \"to\": \"Microsoft\", \"weight\": 1}, {\"color\": \"grey\", \"from\": \"Minh Pham\", \"to\": \"McKinsey \\u0026 Company\", \"weight\": 1}, {\"color\": \"grey\", \"from\": \"Minh Pham\", \"to\": \"Deloitte\", \"weight\": 1}, {\"color\": \"grey\", \"from\": \"Minh Pham\", \"to\": \"Cleveland Clinic\", \"weight\": 1}, {\"color\": \"grey\", \"from\": \"Minh Pham\", \"to\": \"Accenture\", \"weight\": 1}, {\"color\": \"grey\", \"from\": \"Minh Pham\", \"to\": \"Duke Interdisciplinary Social Innovators (DISI)\", \"weight\": 1}, {\"color\": \"grey\", \"from\": \"Minh Pham\", \"to\": \"EY\", \"weight\": 1}, {\"color\": \"grey\", \"from\": \"Minh Pham\", \"to\": \"Boston Consulting Group (BCG)\", \"weight\": 1}, {\"color\": \"grey\", \"from\": \"Minh Pham\", \"to\": \"Google\", \"weight\": 1}, {\"color\": \"grey\", \"from\": \"Minh Pham\", \"to\": \"Amazon Web Services (AWS)\", \"weight\": 1}, {\"color\": \"grey\", \"from\": \"Minh Pham\", \"to\": \"Deloitte Consulting\", \"weight\": 1}, {\"color\": \"grey\", \"from\": \"Minh Pham\", \"to\": \"PwC\", \"weight\": 1}, {\"color\": \"grey\", \"from\": \"Minh Pham\", \"to\": \"MUM Industries Inc.\", \"weight\": 1}, {\"color\": \"grey\", \"from\": \"Minh Pham\", \"to\": \"Duke University\", \"weight\": 1}, {\"color\": \"grey\", \"from\": \"Minh Pham\", \"to\": \"Uber\", \"weight\": 1}, {\"color\": \"grey\", \"from\": \"Minh Pham\", \"to\": \"Salesforce\", \"weight\": 1}, {\"color\": \"grey\", \"from\": \"Minh Pham\", \"to\": \"Apple\", \"weight\": 1}, {\"color\": \"grey\", \"from\": \"Minh Pham\", \"to\": \"Epic\", \"weight\": 1}, {\"color\": \"grey\", \"from\": \"Minh Pham\", \"to\": \"JPMorgan Chase \\u0026 Co.\", \"weight\": 1}, {\"color\": \"grey\", \"from\": \"Minh Pham\", \"to\": \"Massachusetts Institute of Technology\", \"weight\": 1}, {\"color\": \"grey\", \"from\": \"Minh Pham\", \"to\": \"Case Western Reserve University School of Medicine\", \"weight\": 1}, {\"color\": \"grey\", \"from\": \"Minh Pham\", \"to\": \"INSIGHT2PROFIT\", \"weight\": 1}, {\"color\": \"grey\", \"from\": \"Minh Pham\", \"to\": \"Meta\", \"weight\": 1}, {\"color\": \"grey\", \"from\": \"Minh Pham\", \"to\": \"TikTok\", \"weight\": 1}, {\"color\": \"grey\", \"from\": \"Minh Pham\", \"to\": \"Self-employed\", \"weight\": 1}, {\"color\": \"grey\", \"from\": \"Minh Pham\", \"to\": \"Bain \\u0026 Company\", \"weight\": 1}, {\"color\": \"grey\", \"from\": \"Minh Pham\", \"to\": \"ZS\", \"weight\": 1}, {\"color\": \"grey\", \"from\": \"Minh Pham\", \"to\": \"Goldman Sachs\", \"weight\": 1}, {\"color\": \"grey\", \"from\": \"Minh Pham\", \"to\": \"Rockwell Automation\", \"weight\": 1}, {\"color\": \"grey\", \"from\": \"Minh Pham\", \"to\": \"Capital One\", \"weight\": 1}, {\"color\": \"grey\", \"from\": \"Minh Pham\", \"to\": \"Case School of Engineering at Case Western Reserve University\", \"weight\": 1}, {\"color\": \"grey\", \"from\": \"Minh Pham\", \"to\": \"Wonsulting\", \"weight\": 1}, {\"color\": \"grey\", \"from\": \"Minh Pham\", \"to\": \"Vietnam Tech Society\", \"weight\": 1}, {\"color\": \"grey\", \"from\": \"Minh Pham\", \"to\": \"Eaton\", \"weight\": 1}, {\"color\": \"grey\", \"from\": \"Minh Pham\", \"to\": \"Procter \\u0026 Gamble\", \"weight\": 1}, {\"color\": \"grey\", \"from\": \"Minh Pham\", \"to\": \"Progressive Insurance\", \"weight\": 1}, {\"color\": \"grey\", \"from\": \"Minh Pham\", \"to\": \"HSBC\", \"weight\": 1}, {\"color\": \"grey\", \"from\": \"Minh Pham\", \"to\": \"Credit Suisse\", \"weight\": 1}, {\"color\": \"grey\", \"from\": \"Minh Pham\", \"to\": \"MUM Industries\", \"weight\": 1}, {\"color\": \"grey\", \"from\": \"Minh Pham\", \"to\": \"Infosys\", \"weight\": 1}, {\"color\": \"grey\", \"from\": \"Minh Pham\", \"to\": \"Twitter\", \"weight\": 1}, {\"color\": \"grey\", \"from\": \"Minh Pham\", \"to\": \"Invacare Corporation\", \"weight\": 1}, {\"color\": \"grey\", \"from\": \"Minh Pham\", \"to\": \"My Consulting Offer\", \"weight\": 1}, {\"color\": \"grey\", \"from\": \"Minh Pham\", \"to\": \"DiDi\", \"weight\": 1}, {\"color\": \"grey\", \"from\": \"Minh Pham\", \"to\": \"Sherwin-Williams\", \"weight\": 1}, {\"color\": \"grey\", \"from\": \"Minh Pham\", \"to\": \"Dell Technologies\", \"weight\": 1}, {\"color\": \"grey\", \"from\": \"Minh Pham\", \"to\": \"OMD USA\", \"weight\": 1}, {\"color\": \"grey\", \"from\": \"Minh Pham\", \"to\": \"Stanford University School of Medicine\", \"weight\": 1}, {\"color\": \"grey\", \"from\": \"Minh Pham\", \"to\": \"General Motors\", \"weight\": 1}, {\"color\": \"grey\", \"from\": \"Minh Pham\", \"to\": \"The Goodyear Tire \\u0026 Rubber Company\", \"weight\": 1}, {\"color\": \"grey\", \"from\": \"Minh Pham\", \"to\": \"PNC\", \"weight\": 1}, {\"color\": \"grey\", \"from\": \"Minh Pham\", \"to\": \"MIM Software Inc.\", \"weight\": 1}, {\"color\": \"grey\", \"from\": \"Minh Pham\", \"to\": \"Booz Allen Hamilton\", \"weight\": 1}, {\"color\": \"grey\", \"from\": \"Minh Pham\", \"to\": \"GE Healthcare\", \"weight\": 1}, {\"color\": \"grey\", \"from\": \"Minh Pham\", \"to\": \"Tesla\", \"weight\": 1}, {\"color\": \"grey\", \"from\": \"Minh Pham\", \"to\": \"KeyBank\", \"weight\": 1}, {\"color\": \"grey\", \"from\": \"Minh Pham\", \"to\": \"IQVIA\", \"weight\": 1}, {\"color\": \"grey\", \"from\": \"Minh Pham\", \"to\": \"GE Aviation\", \"weight\": 1}]);\n",
              "\n",
              "        // adding nodes and edges to the graph\n",
              "        data = {nodes: nodes, edges: edges};\n",
              "\n",
              "        var options = {\n",
              "    \"configure\": {\n",
              "        \"enabled\": false\n",
              "    },\n",
              "    \"edges\": {\n",
              "        \"color\": {\n",
              "            \"inherit\": true\n",
              "        },\n",
              "        \"smooth\": {\n",
              "            \"enabled\": false,\n",
              "            \"type\": \"continuous\"\n",
              "        }\n",
              "    },\n",
              "    \"interaction\": {\n",
              "        \"dragNodes\": true,\n",
              "        \"hideEdgesOnDrag\": false,\n",
              "        \"hideNodesOnDrag\": false\n",
              "    },\n",
              "    \"physics\": {\n",
              "        \"enabled\": true,\n",
              "        \"hierarchicalRepulsion\": {\n",
              "            \"centralGravity\": 0.0,\n",
              "            \"damping\": 0.09,\n",
              "            \"nodeDistance\": 120,\n",
              "            \"springConstant\": 0.01,\n",
              "            \"springLength\": 100\n",
              "        },\n",
              "        \"solver\": \"hierarchicalRepulsion\",\n",
              "        \"stabilization\": {\n",
              "            \"enabled\": true,\n",
              "            \"fit\": true,\n",
              "            \"iterations\": 1000,\n",
              "            \"onlyDynamicEdges\": false,\n",
              "            \"updateInterval\": 50\n",
              "        }\n",
              "    }\n",
              "};\n",
              "        \n",
              "        \n",
              "\n",
              "        \n",
              "\n",
              "        network = new vis.Network(container, data, options);\n",
              "\t \n",
              "        \n",
              "\n",
              "\n",
              "        \n",
              "\n",
              "        return network;\n",
              "\n",
              "    }\n",
              "\n",
              "    drawGraph();\n",
              "\n",
              "</script>\n",
              "</body>\n",
              "</html>"
            ],
            "text/plain": [
              "<IPython.core.display.HTML object>"
            ]
          },
          "metadata": {}
        }
      ]
    },
    {
      "cell_type": "markdown",
      "metadata": {
        "id": "NE6gdaceY6CE"
      },
      "source": [
        "##### **Visualize Job Title Network**"
      ]
    },
    {
      "cell_type": "code",
      "metadata": {
        "colab": {
          "base_uri": "https://localhost:8080/",
          "height": 738
        },
        "id": "u_qFrY3jY-iN",
        "outputId": "d7691ee2-2e94-4421-ce50-a8419fa2253e"
      },
      "source": [
        "g = nx.Graph()\n",
        "g.add_node('Minh Pham')\n",
        "\n",
        "for _, row in position_viz.iterrows():\n",
        "\n",
        "  count = f\"{row['count']}\"\n",
        "  position= row['position']\n",
        "\n",
        "  title = f\"<b>{position}</b> – {count}\"\n",
        "\n",
        "  companies = set([x for x in network[position == network['Position']]['Company']])\n",
        "  companies = ''.join('<li>{}</li>'.format(x) for x in companies)\n",
        "  company_list = f\"<ul>{companies}</ul>\"\n",
        "\n",
        "  hover_info = title + company_list\n",
        "\n",
        "  g.add_node(position, size=count, color='#01009a', title = hover_info) # Duke Blue color!\n",
        "  g.add_edge('Minh Pham', position, color='grey')\n",
        "\n",
        "position_network = net.Network(height='700px', width='1000px', bgcolor=\"white\", font_color='black')\n",
        "position_network.from_nx(g)\n",
        "position_network.hrepulsion()\n",
        "position_network.show('position_graph.html')\n",
        "display(HTML('position_graph.html'))"
      ],
      "execution_count": null,
      "outputs": [
        {
          "output_type": "display_data",
          "data": {
            "text/html": [
              "<html>\n",
              "<head>\n",
              "<link rel=\"stylesheet\" href=\"https://cdnjs.cloudflare.com/ajax/libs/vis/4.16.1/vis.css\" type=\"text/css\" />\n",
              "<script type=\"text/javascript\" src=\"https://cdnjs.cloudflare.com/ajax/libs/vis/4.16.1/vis-network.min.js\"> </script>\n",
              "<center>\n",
              "<h1></h1>\n",
              "</center>\n",
              "\n",
              "<!-- <link rel=\"stylesheet\" href=\"../node_modules/vis/dist/vis.min.css\" type=\"text/css\" />\n",
              "<script type=\"text/javascript\" src=\"../node_modules/vis/dist/vis.js\"> </script>-->\n",
              "\n",
              "<style type=\"text/css\">\n",
              "\n",
              "        #mynetwork {\n",
              "            width: 1000px;\n",
              "            height: 700px;\n",
              "            background-color: white;\n",
              "            border: 1px solid lightgray;\n",
              "            position: relative;\n",
              "            float: left;\n",
              "        }\n",
              "\n",
              "        \n",
              "\n",
              "        \n",
              "\n",
              "        \n",
              "</style>\n",
              "\n",
              "</head>\n",
              "\n",
              "<body>\n",
              "<div id = \"mynetwork\"></div>\n",
              "\n",
              "\n",
              "<script type=\"text/javascript\">\n",
              "\n",
              "    // initialize global variables.\n",
              "    var edges;\n",
              "    var nodes;\n",
              "    var network; \n",
              "    var container;\n",
              "    var options, data;\n",
              "\n",
              "    \n",
              "    // This method is responsible for drawing the graph, returns the drawn network\n",
              "    function drawGraph() {\n",
              "        var container = document.getElementById('mynetwork');\n",
              "        \n",
              "        \n",
              "\n",
              "        // parsing and collecting nodes and edges from the python\n",
              "        nodes = new vis.DataSet([{\"font\": {\"color\": \"black\"}, \"id\": \"Minh Pham\", \"label\": \"Minh Pham\", \"shape\": \"dot\", \"size\": 10}, {\"color\": \"#01009a\", \"font\": {\"color\": \"black\"}, \"id\": \"Software Engineer\", \"label\": \"Software Engineer\", \"shape\": \"dot\", \"size\": 42, \"title\": \"\\u003cb\\u003eSoftware Engineer\\u003c/b\\u003e \\u2013 42\\u003cul\\u003e\\u003cli\\u003eMcKinsey \\u0026 Company\\u003c/li\\u003e\\u003cli\\u003eHSBC\\u003c/li\\u003e\\u003cli\\u003eLINE Plus Corp\\u003c/li\\u003e\\u003cli\\u003eSalesforce\\u003c/li\\u003e\\u003cli\\u003eJPMorgan Chase \\u0026 Co.\\u003c/li\\u003e\\u003cli\\u003eAmazon Web Services (AWS)\\u003c/li\\u003e\\u003cli\\u003eIBM\\u003c/li\\u003e\\u003cli\\u003eTradeWing\\u003c/li\\u003e\\u003cli\\u003eBloomberg LP\\u003c/li\\u003e\\u003cli\\u003eMIM Software Inc.\\u003c/li\\u003e\\u003cli\\u003eGoogle\\u003c/li\\u003e\\u003cli\\u003eHubSpot\\u003c/li\\u003e\\u003cli\\u003eByteDance\\u003c/li\\u003e\\u003cli\\u003eDell Technologies\\u003c/li\\u003e\\u003cli\\u003eTatari\\u003c/li\\u003e\\u003cli\\u003eSnap Inc.\\u003c/li\\u003e\\u003cli\\u003eMicrosoft\\u003c/li\\u003e\\u003cli\\u003eCode.org\\u003c/li\\u003e\\u003cli\\u003eDiscovery Inc\\u003c/li\\u003e\\u003cli\\u003eAsana\\u003c/li\\u003e\\u003cli\\u003eCharles Schwab\\u003c/li\\u003e\\u003cli\\u003eAmazon\\u003c/li\\u003e\\u003cli\\u003eWortharead\\u003c/li\\u003e\\u003cli\\u003eLTI - Larsen \\u0026 Toubro Infotech\\u003c/li\\u003e\\u003cli\\u003eNotarize\\u003c/li\\u003e\\u003cli\\u003eF5\\u003c/li\\u003e\\u003cli\\u003eLowe\\u0027s Companies, Inc.\\u003c/li\\u003e\\u003cli\\u003eEdVisorly\\u003c/li\\u003e\\u003c/ul\\u003e\"}, {\"color\": \"#01009a\", \"font\": {\"color\": \"black\"}, \"id\": \"Research Assistant\", \"label\": \"Research Assistant\", \"shape\": \"dot\", \"size\": 41, \"title\": \"\\u003cb\\u003eResearch Assistant\\u003c/b\\u003e \\u2013 41\\u003cul\\u003e\\u003cli\\u003eUniversity of Georgia - Department of Geology\\u003c/li\\u003e\\u003cli\\u003eSpeech and Auditory Research Lab\\u003c/li\\u003e\\u003cli\\u003eUniversity of Notre Dame - Mendoza College of Business\\u003c/li\\u003e\\u003cli\\u003eCase Western Reserve University\\u003c/li\\u003e\\u003cli\\u003eTufts University\\u003c/li\\u003e\\u003cli\\u003eBiochemistry Department at Case Western Reserve University\\u003c/li\\u003e\\u003cli\\u003eIvey Business School at Western University\\u003c/li\\u003e\\u003cli\\u003eCase Western Reserve University School of Dental Medicine\\u003c/li\\u003e\\u003cli\\u003eNeighborhood Family Practice\\u003c/li\\u003e\\u003cli\\u003eInstitut Curie - Research Centre\\u003c/li\\u003e\\u003cli\\u003eUniversity of Pennsylvania - The Lauder Institute\\u003c/li\\u003e\\u003cli\\u003eDuke University - The Fuqua School of Business\\u003c/li\\u003e\\u003cli\\u003eDr. Jeffrey Capadona\\u0027s Lab: Bio-Inspired Materials for Neural Interfacing\\u003c/li\\u003e\\u003cli\\u003eUniversity of Cambridge\\u003c/li\\u003e\\u003cli\\u003eUBC Sauder School of Business\\u003c/li\\u003e\\u003cli\\u003eUniversity of Wisconsin-Madison\\u003c/li\\u003e\\u003cli\\u003eVietnam National University, HCMC\\u003c/li\\u003e\\u003cli\\u003eCleveland Clinic\\u003c/li\\u003e\\u003cli\\u003eCenter for Computational Imaging and Personalized Diagnostics (CCIPD) at CWRU\\u003c/li\\u003e\\u003cli\\u003eCase Western Reserve University School of Medicine\\u003c/li\\u003e\\u003cli\\u003eGreat Lake Energy Institute, Case Western Reserve University\\u003c/li\\u003e\\u003cli\\u003eChinese Center for Disease Control and Prevention\\u003c/li\\u003e\\u003cli\\u003eMarket Observatory\\u003c/li\\u003e\\u003cli\\u003eNorthwestern University - The Feinberg School of Medicine\\u003c/li\\u003e\\u003cli\\u003eGies College of Business - University of Illinois Urbana-Champaign\\u003c/li\\u003e\\u003cli\\u003eSouthern Methodist University\\u003c/li\\u003e\\u003cli\\u003eCleveland Clinic Akron General\\u003c/li\\u003e\\u003cli\\u003eStanford University School of Medicine\\u003c/li\\u003e\\u003cli\\u003e Case Western Reserve University, Macromolecular Science and Engineering Department\\u003c/li\\u003e\\u003cli\\u003eDuke University : Market Observatory\\u003c/li\\u003e\\u003cli\\u003eCincinnati Children\\u0027s Hospital Medical Center\\u003c/li\\u003e\\u003c/ul\\u003e\"}, {\"color\": \"#01009a\", \"font\": {\"color\": \"black\"}, \"id\": \"Business Analyst\", \"label\": \"Business Analyst\", \"shape\": \"dot\", \"size\": 18, \"title\": \"\\u003cb\\u003eBusiness Analyst\\u003c/b\\u003e \\u2013 18\\u003cul\\u003e\\u003cli\\u003eMcKinsey \\u0026 Company\\u003c/li\\u003e\\u003cli\\u003eXogene Services LLC\\u003c/li\\u003e\\u003cli\\u003eWorld Fuel Services\\u003c/li\\u003e\\u003cli\\u003ePlecosystems Inc.\\u003c/li\\u003e\\u003cli\\u003eAmazon\\u003c/li\\u003e\\u003cli\\u003eKearney\\u003c/li\\u003e\\u003cli\\u003ePok\\u00e9mon: CS Auction Hideout\\u003c/li\\u003e\\u003cli\\u003eDigital Yalo\\u003c/li\\u003e\\u003cli\\u003eCallisto Media\\u003c/li\\u003e\\u003cli\\u003eDeloitte Consulting\\u003c/li\\u003e\\u003cli\\u003eINSIGHT2PROFIT\\u003c/li\\u003e\\u003cli\\u003eShoe Palace\\u003c/li\\u003e\\u003cli\\u003eBoston Consulting Group (BCG)\\u003c/li\\u003e\\u003c/ul\\u003e\"}, {\"color\": \"#01009a\", \"font\": {\"color\": \"black\"}, \"id\": \"Founder\", \"label\": \"Founder\", \"shape\": \"dot\", \"size\": 18, \"title\": \"\\u003cb\\u003eFounder\\u003c/b\\u003e \\u2013 18\\u003cul\\u003e\\u003cli\\u003eInsider Automated Stock Trading Algorithm             \\u003c/li\\u003e\\u003cli\\u003eLlamoza \\u0026 Company LLC\\u003c/li\\u003e\\u003cli\\u003ewiseful\\u003c/li\\u003e\\u003cli\\u003eVietnam Tech Society\\u003c/li\\u003e\\u003cli\\u003eBroda Coaching\\u003c/li\\u003e\\u003cli\\u003eDeclassified Media\\u003c/li\\u003e\\u003cli\\u003eNeighborhood Forest\\u003c/li\\u003e\\u003cli\\u003eC99 Security Lab\\u003c/li\\u003e\\u003cli\\u003eNoob Fly Business Consulting Inc\\u003c/li\\u003e\\u003cli\\u003eAshmika\\u003c/li\\u003e\\u003cli\\u003eWall Street Mastermind\\u003c/li\\u003e\\u003cli\\u003eNunchuk\\u003c/li\\u003e\\u003cli\\u003eProduct Manager Accelerator\\u003c/li\\u003e\\u003cli\\u003eMy Consulting Offer\\u003c/li\\u003e\\u003cli\\u003eVG Enterprise\\u003c/li\\u003e\\u003cli\\u003eAnja\\u003c/li\\u003e\\u003cli\\u003eFORCE365\\u003c/li\\u003e\\u003cli\\u003eRocketBlocks\\u003c/li\\u003e\\u003c/ul\\u003e\"}, {\"color\": \"#01009a\", \"font\": {\"color\": \"black\"}, \"id\": \"Graduate Research Assistant\", \"label\": \"Graduate Research Assistant\", \"shape\": \"dot\", \"size\": 16, \"title\": \"\\u003cb\\u003eGraduate Research Assistant\\u003c/b\\u003e \\u2013 16\\u003cul\\u003e\\u003cli\\u003eUniversity of Michigan - Rackham Graduate School\\u003c/li\\u003e\\u003cli\\u003eColumbia high-Speed and Millimeter-wave IC Lab\\u003c/li\\u003e\\u003cli\\u003eMassachusetts Institute of Technology\\u003c/li\\u003e\\u003cli\\u003eAerospace Systems Design Laboratory (ASDL)\\u003c/li\\u003e\\u003cli\\u003eThe Johns Hopkins University School of Medicine\\u003c/li\\u003e\\u003cli\\u003eCase Western Reserve University\\u003c/li\\u003e\\u003cli\\u003eUniversity of North Carolina at Chapel Hill\\u003c/li\\u003e\\u003cli\\u003eUniversity of Illinois Urbana-Champaign\\u003c/li\\u003e\\u003cli\\u003eYale University\\u003c/li\\u003e\\u003cli\\u003eWashington University in St. Louis\\u003c/li\\u003e\\u003cli\\u003eCaltech\\u003c/li\\u003e\\u003cli\\u003eThe University of Kansas\\u003c/li\\u003e\\u003cli\\u003eUniversity of Washington\\u003c/li\\u003e\\u003cli\\u003eCenter for Flow Physics and Control (CeFPaC)\\u003c/li\\u003e\\u003c/ul\\u003e\"}, {\"color\": \"#01009a\", \"font\": {\"color\": \"black\"}, \"id\": \"Product Manager\", \"label\": \"Product Manager\", \"shape\": \"dot\", \"size\": 16, \"title\": \"\\u003cb\\u003eProduct Manager\\u003c/b\\u003e \\u2013 16\\u003cul\\u003e\\u003cli\\u003eDiDi\\u003c/li\\u003e\\u003cli\\u003eShopee\\u003c/li\\u003e\\u003cli\\u003eAmazon\\u003c/li\\u003e\\u003cli\\u003eSoftcom Limited\\u003c/li\\u003e\\u003cli\\u003eRYINFOTECH, Inc.\\u003c/li\\u003e\\u003cli\\u003eMicrosoft\\u003c/li\\u003e\\u003cli\\u003eIntuit\\u003c/li\\u003e\\u003cli\\u003eAnnSIGHT\\u003c/li\\u003e\\u003cli\\u003eMorningstar Corporation\\u003c/li\\u003e\\u003cli\\u003eRockwell Automation\\u003c/li\\u003e\\u003cli\\u003eTwitter\\u003c/li\\u003e\\u003cli\\u003eTencent\\u003c/li\\u003e\\u003cli\\u003eGoogle\\u003c/li\\u003e\\u003c/ul\\u003e\"}, {\"color\": \"#01009a\", \"font\": {\"color\": \"black\"}, \"id\": \"Consultant\", \"label\": \"Consultant\", \"shape\": \"dot\", \"size\": 16, \"title\": \"\\u003cb\\u003eConsultant\\u003c/b\\u003e \\u2013 16\\u003cul\\u003e\\u003cli\\u003eKotter\\u003c/li\\u003e\\u003cli\\u003eSHRUYANSH HOLDING COMPANY\\u003c/li\\u003e\\u003cli\\u003eGraduate Consulting Club\\u003c/li\\u003e\\u003cli\\u003eDeloitte\\u003c/li\\u003e\\u003cli\\u003eIQVIA\\u003c/li\\u003e\\u003cli\\u003eBayer\\u003c/li\\u003e\\u003cli\\u003eEXL\\u003c/li\\u003e\\u003cli\\u003eDeloitte Consulting\\u003c/li\\u003e\\u003cli\\u003eBain \\u0026 Company\\u003c/li\\u003e\\u003cli\\u003e180 Degrees Consulting JMC\\u003c/li\\u003e\\u003cli\\u003eDeloitte Digital\\u003c/li\\u003e\\u003cli\\u003eBoston Consulting Group (BCG)\\u003c/li\\u003e\\u003c/ul\\u003e\"}, {\"color\": \"#01009a\", \"font\": {\"color\": \"black\"}, \"id\": \"Associate\", \"label\": \"Associate\", \"shape\": \"dot\", \"size\": 14, \"title\": \"\\u003cb\\u003eAssociate\\u003c/b\\u003e \\u2013 14\\u003cul\\u003e\\u003cli\\u003eMcKinsey \\u0026 Company\\u003c/li\\u003e\\u003cli\\u003eInfosys\\u003c/li\\u003e\\u003cli\\u003eDuke Angel Network\\u003c/li\\u003e\\u003cli\\u003ePwC\\u003c/li\\u003e\\u003cli\\u003eState Street\\u003c/li\\u003e\\u003cli\\u003eThe D. E. Shaw Group\\u003c/li\\u003e\\u003cli\\u003eAVALT\\u003c/li\\u003e\\u003cli\\u003eDeutsche Bank\\u003c/li\\u003e\\u003cli\\u003eCapco\\u003c/li\\u003e\\u003cli\\u003eBoston Consulting Group (BCG)\\u003c/li\\u003e\\u003cli\\u003eIonetix Corporation\\u003c/li\\u003e\\u003c/ul\\u003e\"}, {\"color\": \"#01009a\", \"font\": {\"color\": \"black\"}, \"id\": \"MBA Candidate\", \"label\": \"MBA Candidate\", \"shape\": \"dot\", \"size\": 13, \"title\": \"\\u003cb\\u003eMBA Candidate\\u003c/b\\u003e \\u2013 13\\u003cul\\u003e\\u003cli\\u003eDuke University\\u003c/li\\u003e\\u003cli\\u003eFuqua\\u003c/li\\u003e\\u003cli\\u003eINSEAD\\u003c/li\\u003e\\u003cli\\u003eDuke University - The Fuqua School of Business\\u003c/li\\u003e\\u003c/ul\\u003e\"}, {\"color\": \"#01009a\", \"font\": {\"color\": \"black\"}, \"id\": \"Project Manager\", \"label\": \"Project Manager\", \"shape\": \"dot\", \"size\": 13, \"title\": \"\\u003cb\\u003eProject Manager\\u003c/b\\u003e \\u2013 13\\u003cul\\u003e\\u003cli\\u003eGuidepoint\\u003c/li\\u003e\\u003cli\\u003eDermBiont, Inc.\\u003c/li\\u003e\\u003cli\\u003eDuke Interdisciplinary Social Innovators (DISI)\\u003c/li\\u003e\\u003cli\\u003eGolden Eagle International LLC\\u003c/li\\u003e\\u003cli\\u003eAir Force Space Command\\u003c/li\\u003e\\u003cli\\u003eLoop Health\\u003c/li\\u003e\\u003cli\\u003eEpic\\u003c/li\\u003e\\u003cli\\u003eDC Medical\\u003c/li\\u003e\\u003cli\\u003eZulily\\u003c/li\\u003e\\u003c/ul\\u003e\"}, {\"color\": \"#01009a\", \"font\": {\"color\": \"black\"}, \"id\": \"Software Engineer Intern\", \"label\": \"Software Engineer Intern\", \"shape\": \"dot\", \"size\": 13, \"title\": \"\\u003cb\\u003eSoftware Engineer Intern\\u003c/b\\u003e \\u2013 13\\u003cul\\u003e\\u003cli\\u003eFPT-USA Corporation\\u003c/li\\u003e\\u003cli\\u003eNuna Inc.\\u003c/li\\u003e\\u003cli\\u003eNam Gourmet\\u003c/li\\u003e\\u003cli\\u003eCoupang\\u003c/li\\u003e\\u003cli\\u003eVNPAY\\u003c/li\\u003e\\u003cli\\u003eAmazon Web Services (AWS)\\u003c/li\\u003e\\u003cli\\u003eKie.IO\\u003c/li\\u003e\\u003cli\\u003eSAP Concur\\u003c/li\\u003e\\u003cli\\u003eTableau Software\\u003c/li\\u003e\\u003cli\\u003eDimensional Fund Advisors\\u003c/li\\u003e\\u003cli\\u003eSensata Technologies\\u003c/li\\u003e\\u003cli\\u003ePallet\\u003c/li\\u003e\\u003cli\\u003eServiceNow\\u003c/li\\u003e\\u003c/ul\\u003e\"}, {\"color\": \"#01009a\", \"font\": {\"color\": \"black\"}, \"id\": \"Teaching Assistant\", \"label\": \"Teaching Assistant\", \"shape\": \"dot\", \"size\": 12, \"title\": \"\\u003cb\\u003eTeaching Assistant\\u003c/b\\u003e \\u2013 12\\u003cul\\u003e\\u003cli\\u003eCornell SC Johnson College of Business\\u003c/li\\u003e\\u003cli\\u003eCase Western Reserve University\\u003c/li\\u003e\\u003cli\\u003eRhodes College\\u003c/li\\u003e\\u003cli\\u003eDuke University\\u003c/li\\u003e\\u003cli\\u003eBoston College Carroll School of Management\\u003c/li\\u003e\\u003cli\\u003eCase School of Engineering at Case Western Reserve University\\u003c/li\\u003e\\u003cli\\u003eGies College of Business - University of Illinois Urbana-Champaign\\u003c/li\\u003e\\u003c/ul\\u003e\"}, {\"color\": \"#01009a\", \"font\": {\"color\": \"black\"}, \"id\": \"Co-Founder\", \"label\": \"Co-Founder\", \"shape\": \"dot\", \"size\": 10, \"title\": \"\\u003cb\\u003eCo-Founder\\u003c/b\\u003e \\u2013 10\\u003cul\\u003e\\u003cli\\u003eNxtgenz\\u003c/li\\u003e\\u003cli\\u003eDutycast Vietnam\\u003c/li\\u003e\\u003cli\\u003eBlackOak Collective\\u003c/li\\u003e\\u003cli\\u003eClassever\\u003c/li\\u003e\\u003cli\\u003eFactored Quality\\u003c/li\\u003e\\u003cli\\u003eSJW SmarTech Consulting, LLC\\u003c/li\\u003e\\u003cli\\u003eUNIT\\u003c/li\\u003e\\u003cli\\u003eAlphastart \\u003c/li\\u003e\\u003cli\\u003eBlockchain Student Society\\u003c/li\\u003e\\u003cli\\u003ePostlytics\\u003c/li\\u003e\\u003c/ul\\u003e\"}, {\"color\": \"#01009a\", \"font\": {\"color\": \"black\"}, \"id\": \"Analyst\", \"label\": \"Analyst\", \"shape\": \"dot\", \"size\": 10, \"title\": \"\\u003cb\\u003eAnalyst\\u003c/b\\u003e \\u2013 10\\u003cul\\u003e\\u003cli\\u003eMcKinsey \\u0026 Company\\u003c/li\\u003e\\u003cli\\u003eLead Angels\\u003c/li\\u003e\\u003cli\\u003eHete \\u003c/li\\u003e\\u003cli\\u003eGoldman Sachs\\u003c/li\\u003e\\u003cli\\u003eAccenture\\u003c/li\\u003e\\u003cli\\u003eClearwater Analytics\\u003c/li\\u003e\\u003cli\\u003eGuosen Securities\\u003c/li\\u003e\\u003cli\\u003eDeloitte Consulting\\u003c/li\\u003e\\u003cli\\u003eDeloitte\\u003c/li\\u003e\\u003cli\\u003eEY\\u003c/li\\u003e\\u003c/ul\\u003e\"}, {\"color\": \"#01009a\", \"font\": {\"color\": \"black\"}, \"id\": \"Data Analyst\", \"label\": \"Data Analyst\", \"shape\": \"dot\", \"size\": 9, \"title\": \"\\u003cb\\u003eData Analyst\\u003c/b\\u003e \\u2013 9\\u003cul\\u003e\\u003cli\\u003eClearTax\\u003c/li\\u003e\\u003cli\\u003eWestern Alliance Bank\\u003c/li\\u003e\\u003cli\\u003ePwC\\u003c/li\\u003e\\u003cli\\u003eRADaR Analytics\\u003c/li\\u003e\\u003cli\\u003eAlphaRoute\\u003c/li\\u003e\\u003cli\\u003eBloomberg LP\\u003c/li\\u003e\\u003cli\\u003e\\u4e2a\\u63a8\\u003c/li\\u003e\\u003cli\\u003eDBS Bank\\u003c/li\\u003e\\u003cli\\u003ePX\\u003c/li\\u003e\\u003c/ul\\u003e\"}, {\"color\": \"#01009a\", \"font\": {\"color\": \"black\"}, \"id\": \"Associate Product Manager\", \"label\": \"Associate Product Manager\", \"shape\": \"dot\", \"size\": 9, \"title\": \"\\u003cb\\u003eAssociate Product Manager\\u003c/b\\u003e \\u2013 9\\u003cul\\u003e\\u003cli\\u003eMedline Industries, Inc.\\u003c/li\\u003e\\u003cli\\u003eCoinbase\\u003c/li\\u003e\\u003cli\\u003eUber\\u003c/li\\u003e\\u003cli\\u003eLinkedIn\\u003c/li\\u003e\\u003c/ul\\u003e\"}, {\"color\": \"#01009a\", \"font\": {\"color\": \"black\"}, \"id\": \"Mechanical Engineer\", \"label\": \"Mechanical Engineer\", \"shape\": \"dot\", \"size\": 8, \"title\": \"\\u003cb\\u003eMechanical Engineer\\u003c/b\\u003e \\u2013 8\\u003cul\\u003e\\u003cli\\u003eMinistry of Energy and Mineral Resources\\u003c/li\\u003e\\u003cli\\u003eW.S. Tyler\\u003c/li\\u003e\\u003cli\\u003eStudioRed\\u003c/li\\u003e\\u003cli\\u003eMUM Industries Inc.\\u003c/li\\u003e\\u003cli\\u003eInBios International, Inc.\\u003c/li\\u003e\\u003cli\\u003eLincoln Electric\\u003c/li\\u003e\\u003cli\\u003eMUM Industries\\u003c/li\\u003e\\u003c/ul\\u003e\"}, {\"color\": \"#01009a\", \"font\": {\"color\": \"black\"}, \"id\": \"Investment Banking Analyst\", \"label\": \"Investment Banking Analyst\", \"shape\": \"dot\", \"size\": 8, \"title\": \"\\u003cb\\u003eInvestment Banking Analyst\\u003c/b\\u003e \\u2013 8\\u003cul\\u003e\\u003cli\\u003eHSBC\\u003c/li\\u003e\\u003cli\\u003eCITIC Securities Company Limited\\u003c/li\\u003e\\u003cli\\u003eWilliam Blair\\u003c/li\\u003e\\u003cli\\u003eCredit Suisse\\u003c/li\\u003e\\u003cli\\u003eGuggenheim Partners\\u003c/li\\u003e\\u003cli\\u003eAxcelus Finserv Private Limited\\u003c/li\\u003e\\u003cli\\u003eCain Brothers\\u003c/li\\u003e\\u003cli\\u003eOaklins HFG China\\u003c/li\\u003e\\u003c/ul\\u003e\"}, {\"color\": \"#01009a\", \"font\": {\"color\": \"black\"}, \"id\": \"Senior Product Manager\", \"label\": \"Senior Product Manager\", \"shape\": \"dot\", \"size\": 8, \"title\": \"\\u003cb\\u003eSenior Product Manager\\u003c/b\\u003e \\u2013 8\\u003cul\\u003e\\u003cli\\u003eMcKinsey \\u0026 Company\\u003c/li\\u003e\\u003cli\\u003eZaloPay\\u003c/li\\u003e\\u003cli\\u003eAmazon\\u003c/li\\u003e\\u003cli\\u003eCitrix\\u003c/li\\u003e\\u003cli\\u003eMicrosoft\\u003c/li\\u003e\\u003cli\\u003eUber\\u003c/li\\u003e\\u003cli\\u003eByteDance\\u003c/li\\u003e\\u003c/ul\\u003e\"}, {\"color\": \"#01009a\", \"font\": {\"color\": \"black\"}, \"id\": \"Financial Analyst\", \"label\": \"Financial Analyst\", \"shape\": \"dot\", \"size\": 7, \"title\": \"\\u003cb\\u003eFinancial Analyst\\u003c/b\\u003e \\u2013 7\\u003cul\\u003e\\u003cli\\u003eAmazon\\u003c/li\\u003e\\u003cli\\u003eCisco\\u003c/li\\u003e\\u003cli\\u003eCommoc Group\\u003c/li\\u003e\\u003cli\\u003eCelanese\\u003c/li\\u003e\\u003cli\\u003eData Marshall\\u003c/li\\u003e\\u003cli\\u003eHoulihan Lokey\\u003c/li\\u003e\\u003c/ul\\u003e\"}, {\"color\": \"#01009a\", \"font\": {\"color\": \"black\"}, \"id\": \"Summer Intern\", \"label\": \"Summer Intern\", \"shape\": \"dot\", \"size\": 7, \"title\": \"\\u003cb\\u003eSummer Intern\\u003c/b\\u003e \\u2013 7\\u003cul\\u003e\\u003cli\\u003eBowden Manufacturing\\u003c/li\\u003e\\u003cli\\u003eViolent Gentlemen Hockey Club \\u003c/li\\u003e\\u003cli\\u003ekeyTango\\u003c/li\\u003e\\u003cli\\u003eRBC Global Asset Management\\u003c/li\\u003e\\u003cli\\u003eQuinlan \\u0026 Associates\\u003c/li\\u003e\\u003cli\\u003eCtrip.com\\u003c/li\\u003e\\u003cli\\u003eMagneti Marelli\\u003c/li\\u003e\\u003c/ul\\u003e\"}, {\"color\": \"#01009a\", \"font\": {\"color\": \"black\"}, \"id\": \"Software Developer\", \"label\": \"Software Developer\", \"shape\": \"dot\", \"size\": 7, \"title\": \"\\u003cb\\u003eSoftware Developer\\u003c/b\\u003e \\u2013 7\\u003cul\\u003e\\u003cli\\u003eAxio\\u003c/li\\u003e\\u003cli\\u003eDaVita\\u003c/li\\u003e\\u003cli\\u003eOctal IT Solution (CMMI Level 3 Appraised)\\u003c/li\\u003e\\u003cli\\u003eInnovative Systems, Inc.\\u003c/li\\u003e\\u003cli\\u003eRodan Energy Solutions Inc.\\u003c/li\\u003e\\u003cli\\u003eepic\\u003c/li\\u003e\\u003cli\\u003ePNC\\u003c/li\\u003e\\u003c/ul\\u003e\"}, {\"color\": \"#01009a\", \"font\": {\"color\": \"black\"}, \"id\": \"Admissions Ambassador\", \"label\": \"Admissions Ambassador\", \"shape\": \"dot\", \"size\": 7, \"title\": \"\\u003cb\\u003eAdmissions Ambassador\\u003c/b\\u003e \\u2013 7\\u003cul\\u003e\\u003cli\\u003eDuke University - The Fuqua School of Business\\u003c/li\\u003e\\u003c/ul\\u003e\"}, {\"color\": \"#01009a\", \"font\": {\"color\": \"black\"}, \"id\": \"Program Manager\", \"label\": \"Program Manager\", \"shape\": \"dot\", \"size\": 6, \"title\": \"\\u003cb\\u003eProgram Manager\\u003c/b\\u003e \\u2013 6\\u003cul\\u003e\\u003cli\\u003eWaymo\\u003c/li\\u003e\\u003cli\\u003eHouse of Habib\\u003c/li\\u003e\\u003cli\\u003eMicrosoft\\u003c/li\\u003e\\u003c/ul\\u003e\"}, {\"color\": \"#01009a\", \"font\": {\"color\": \"black\"}, \"id\": \"Undergraduate Research Assistant\", \"label\": \"Undergraduate Research Assistant\", \"shape\": \"dot\", \"size\": 6, \"title\": \"\\u003cb\\u003eUndergraduate Research Assistant\\u003c/b\\u003e \\u2013 6\\u003cul\\u003e\\u003cli\\u003eCase Western Reserve University\\u003c/li\\u003e\\u003cli\\u003eThe Laboratory for Cancer Nanotechnology\\u003c/li\\u003e\\u003cli\\u003eEmory University\\u003c/li\\u003e\\u003cli\\u003eThe Johns Hopkins University\\u003c/li\\u003e\\u003cli\\u003eCase Western Reserve University School of Medicine\\u003c/li\\u003e\\u003c/ul\\u003e\"}, {\"color\": \"#01009a\", \"font\": {\"color\": \"black\"}, \"id\": \"Software Development Engineer\", \"label\": \"Software Development Engineer\", \"shape\": \"dot\", \"size\": 6, \"title\": \"\\u003cb\\u003eSoftware Development Engineer\\u003c/b\\u003e \\u2013 6\\u003cul\\u003e\\u003cli\\u003ePhilips Healthcare\\u003c/li\\u003e\\u003cli\\u003eAmazon Web Services (AWS)\\u003c/li\\u003e\\u003cli\\u003eAmazon\\u003c/li\\u003e\\u003c/ul\\u003e\"}, {\"color\": \"#01009a\", \"font\": {\"color\": \"black\"}, \"id\": \"Graduate Student\", \"label\": \"Graduate Student\", \"shape\": \"dot\", \"size\": 6, \"title\": \"\\u003cb\\u003eGraduate Student\\u003c/b\\u003e \\u2013 6\\u003cul\\u003e\\u003cli\\u003eDuke University - The Fuqua School of Business\\u003c/li\\u003e\\u003cli\\u003eColumbia University in the City of New York\\u003c/li\\u003e\\u003cli\\u003eCarnegie Mellon University\\u003c/li\\u003e\\u003cli\\u003eDuke University\\u003c/li\\u003e\\u003cli\\u003ePlasma Science and Fusion Center at MIT\\u003c/li\\u003e\\u003c/ul\\u003e\"}, {\"color\": \"#01009a\", \"font\": {\"color\": \"black\"}, \"id\": \"Graduate Teaching Assistant\", \"label\": \"Graduate Teaching Assistant\", \"shape\": \"dot\", \"size\": 5, \"title\": \"\\u003cb\\u003eGraduate Teaching Assistant\\u003c/b\\u003e \\u2013 5\\u003cul\\u003e\\u003cli\\u003eThe University of Alabama\\u003c/li\\u003e\\u003cli\\u003eUniversity of Calgary\\u003c/li\\u003e\\u003cli\\u003eQuinnipiac University\\u003c/li\\u003e\\u003cli\\u003eCase Western Reserve University\\u003c/li\\u003e\\u003cli\\u003eDalhousie University\\u003c/li\\u003e\\u003c/ul\\u003e\"}, {\"color\": \"#01009a\", \"font\": {\"color\": \"black\"}, \"id\": \"Associate Consultant\", \"label\": \"Associate Consultant\", \"shape\": \"dot\", \"size\": 5, \"title\": \"\\u003cb\\u003eAssociate Consultant\\u003c/b\\u003e \\u2013 5\\u003cul\\u003e\\u003cli\\u003eInfosys\\u003c/li\\u003e\\u003cli\\u003eZS\\u003c/li\\u003e\\u003cli\\u003eIQVIA\\u003c/li\\u003e\\u003cli\\u003eBain \\u0026 Company\\u003c/li\\u003e\\u003cli\\u003eEY-Parthenon\\u003c/li\\u003e\\u003c/ul\\u003e\"}, {\"color\": \"#01009a\", \"font\": {\"color\": \"black\"}, \"id\": \"Strategy Consultant\", \"label\": \"Strategy Consultant\", \"shape\": \"dot\", \"size\": 5, \"title\": \"\\u003cb\\u003eStrategy Consultant\\u003c/b\\u003e \\u2013 5\\u003cul\\u003e\\u003cli\\u003eMcKinsey \\u0026 Company\\u003c/li\\u003e\\u003cli\\u003eBoston Analytics\\u003c/li\\u003e\\u003cli\\u003eAccenture\\u003c/li\\u003e\\u003cli\\u003eFPT Software\\u003c/li\\u003e\\u003cli\\u003eDeloitte Consulting\\u003c/li\\u003e\\u003c/ul\\u003e\"}, {\"color\": \"#01009a\", \"font\": {\"color\": \"black\"}, \"id\": \"Data Analyst Intern\", \"label\": \"Data Analyst Intern\", \"shape\": \"dot\", \"size\": 5, \"title\": \"\\u003cb\\u003eData Analyst Intern\\u003c/b\\u003e \\u2013 5\\u003cul\\u003e\\u003cli\\u003eDiDi\\u003c/li\\u003e\\u003cli\\u003eProgressive Insurance\\u003c/li\\u003e\\u003cli\\u003eVisual Risk IQ\\u003c/li\\u003e\\u003cli\\u003eHellobike\\u003c/li\\u003e\\u003cli\\u003eHuafeng Xiangji Meteorological Technology Co., Ltd (\\u534e\\u98ce\\u8c61\\u8f91\\u6c14\\u8c61\\u79d1\\u6280\\u6709\\u9650\\u516c\\u53f8)\\u003c/li\\u003e\\u003c/ul\\u003e\"}, {\"color\": \"#01009a\", \"font\": {\"color\": \"black\"}, \"id\": \"Senior Consultant\", \"label\": \"Senior Consultant\", \"shape\": \"dot\", \"size\": 5, \"title\": \"\\u003cb\\u003eSenior Consultant\\u003c/b\\u003e \\u2013 5\\u003cul\\u003e\\u003cli\\u003eBoost Healthcare\\u003c/li\\u003e\\u003cli\\u003eBooz Allen Hamilton\\u003c/li\\u003e\\u003cli\\u003eEY\\u003c/li\\u003e\\u003cli\\u003eDeloitte\\u003c/li\\u003e\\u003c/ul\\u003e\"}, {\"color\": \"#01009a\", \"font\": {\"color\": \"black\"}, \"id\": \"Student\", \"label\": \"Student\", \"shape\": \"dot\", \"size\": 5, \"title\": \"\\u003cb\\u003eStudent\\u003c/b\\u003e \\u2013 5\\u003cul\\u003e\\u003cli\\u003eDuke University Pratt School of Engineering\\u003c/li\\u003e\\u003cli\\u003eCase Western Reserve University\\u003c/li\\u003e\\u003c/ul\\u003e\"}, {\"color\": \"#01009a\", \"font\": {\"color\": \"black\"}, \"id\": \"Data Scientist\", \"label\": \"Data Scientist\", \"shape\": \"dot\", \"size\": 5, \"title\": \"\\u003cb\\u003eData Scientist\\u003c/b\\u003e \\u2013 5\\u003cul\\u003e\\u003cli\\u003eTikTok\\u003c/li\\u003e\\u003cli\\u003eKin + Carta\\u003c/li\\u003e\\u003cli\\u003eMidtronics\\u003c/li\\u003e\\u003cli\\u003eProper\\u003c/li\\u003e\\u003cli\\u003eAetna, a CVS Health Company\\u003c/li\\u003e\\u003c/ul\\u003e\"}, {\"color\": \"#01009a\", \"font\": {\"color\": \"black\"}, \"id\": \"Project Innovator\", \"label\": \"Project Innovator\", \"shape\": \"dot\", \"size\": 4, \"title\": \"\\u003cb\\u003eProject Innovator\\u003c/b\\u003e \\u2013 4\\u003cul\\u003e\\u003cli\\u003eDuke Interdisciplinary Social Innovators (DISI)\\u003c/li\\u003e\\u003c/ul\\u003e\"}, {\"color\": \"#01009a\", \"font\": {\"color\": \"black\"}, \"id\": \"Research Associate\", \"label\": \"Research Associate\", \"shape\": \"dot\", \"size\": 4, \"title\": \"\\u003cb\\u003eResearch Associate\\u003c/b\\u003e \\u2013 4\\u003cul\\u003e\\u003cli\\u003eDuke University\\u003c/li\\u003e\\u003cli\\u003eHarvard Medical School\\u003c/li\\u003e\\u003cli\\u003eCase Western Reserve University\\u003c/li\\u003e\\u003cli\\u003eMaru/Matchbox\\u003c/li\\u003e\\u003c/ul\\u003e\"}, {\"color\": \"#01009a\", \"font\": {\"color\": \"black\"}, \"id\": \"Intern\", \"label\": \"Intern\", \"shape\": \"dot\", \"size\": 4, \"title\": \"\\u003cb\\u003eIntern\\u003c/b\\u003e \\u2013 4\\u003cul\\u003e\\u003cli\\u003eTata Motors\\u003c/li\\u003e\\u003cli\\u003e\\u53f0\\u65b0\\u91d1\\u63a7\\u003c/li\\u003e\\u003cli\\u003eUnited States Senate\\u003c/li\\u003e\\u003cli\\u003eAECOM\\u003c/li\\u003e\\u003c/ul\\u003e\"}, {\"color\": \"#01009a\", \"font\": {\"color\": \"black\"}, \"id\": \"Undergraduate Researcher\", \"label\": \"Undergraduate Researcher\", \"shape\": \"dot\", \"size\": 4, \"title\": \"\\u003cb\\u003eUndergraduate Researcher\\u003c/b\\u003e \\u2013 4\\u003cul\\u003e\\u003cli\\u003eCase Western Reserve University\\u003c/li\\u003e\\u003cli\\u003eHaima Therapeutics\\u003c/li\\u003e\\u003cli\\u003eThe Center of Computational Imaging and Personalized Diagnostics at CWRU\\u003c/li\\u003e\\u003c/ul\\u003e\"}, {\"color\": \"#01009a\", \"font\": {\"color\": \"black\"}, \"id\": \"Founder \\u0026 CEO\", \"label\": \"Founder \\u0026 CEO\", \"shape\": \"dot\", \"size\": 4, \"title\": \"\\u003cb\\u003eFounder \\u0026 CEO\\u003c/b\\u003e \\u2013 4\\u003cul\\u003e\\u003cli\\u003eNoDegree.com\\u003c/li\\u003e\\u003cli\\u003eRex Friends\\u003c/li\\u003e\\u003cli\\u003eNeutrify\\u003c/li\\u003e\\u003cli\\u003eAll Approach\\u003c/li\\u003e\\u003c/ul\\u003e\"}, {\"color\": \"#01009a\", \"font\": {\"color\": \"black\"}, \"id\": \"Registered Nurse\", \"label\": \"Registered Nurse\", \"shape\": \"dot\", \"size\": 4, \"title\": \"\\u003cb\\u003eRegistered Nurse\\u003c/b\\u003e \\u2013 4\\u003cul\\u003e\\u003cli\\u003eU.S. Department of Veterans Affairs\\u003c/li\\u003e\\u003cli\\u003eThe George Washington University Hospital\\u003c/li\\u003e\\u003cli\\u003eCleveland Clinic\\u003c/li\\u003e\\u003cli\\u003eChildren\\u0027s Hospital of Philadelphia\\u003c/li\\u003e\\u003c/ul\\u003e\"}, {\"color\": \"#01009a\", \"font\": {\"color\": \"black\"}, \"id\": \"Project Leader\", \"label\": \"Project Leader\", \"shape\": \"dot\", \"size\": 4, \"title\": \"\\u003cb\\u003eProject Leader\\u003c/b\\u003e \\u2013 4\\u003cul\\u003e\\u003cli\\u003eBoston Consulting Group (BCG)\\u003c/li\\u003e\\u003c/ul\\u003e\"}, {\"color\": \"#01009a\", \"font\": {\"color\": \"black\"}, \"id\": \"Graduate Student Researcher\", \"label\": \"Graduate Student Researcher\", \"shape\": \"dot\", \"size\": 4, \"title\": \"\\u003cb\\u003eGraduate Student Researcher\\u003c/b\\u003e \\u2013 4\\u003cul\\u003e\\u003cli\\u003eUniversity of Pittsburgh\\u003c/li\\u003e\\u003cli\\u003eMassachusetts General Hospital\\u003c/li\\u003e\\u003cli\\u003eCase Western Reserve University\\u003c/li\\u003e\\u003cli\\u003eCase Western Reserve University School of Medicine\\u003c/li\\u003e\\u003c/ul\\u003e\"}, {\"color\": \"#01009a\", \"font\": {\"color\": \"black\"}, \"id\": \"Executive Assistant\", \"label\": \"Executive Assistant\", \"shape\": \"dot\", \"size\": 4, \"title\": \"\\u003cb\\u003eExecutive Assistant\\u003c/b\\u003e \\u2013 4\\u003cul\\u003e\\u003cli\\u003eBeverly Hills Advanced Pain And Spine\\u003c/li\\u003e\\u003cli\\u003eRachel Zoe, Inc.\\u003c/li\\u003e\\u003cli\\u003eNxtgenz\\u003c/li\\u003e\\u003cli\\u003eTellurian Inc.\\u003c/li\\u003e\\u003c/ul\\u003e\"}, {\"color\": \"#01009a\", \"font\": {\"color\": \"black\"}, \"id\": \"Resident Assistant\", \"label\": \"Resident Assistant\", \"shape\": \"dot\", \"size\": 4, \"title\": \"\\u003cb\\u003eResident Assistant\\u003c/b\\u003e \\u2013 4\\u003cul\\u003e\\u003cli\\u003eCase Western Reserve University\\u003c/li\\u003e\\u003c/ul\\u003e\"}, {\"color\": \"#01009a\", \"font\": {\"color\": \"black\"}, \"id\": \"Process Engineer\", \"label\": \"Process Engineer\", \"shape\": \"dot\", \"size\": 4, \"title\": \"\\u003cb\\u003eProcess Engineer\\u003c/b\\u003e \\u2013 4\\u003cul\\u003e\\u003cli\\u003eProcter \\u0026 Gamble\\u003c/li\\u003e\\u003cli\\u003eTSMC\\u003c/li\\u003e\\u003cli\\u003eBarry Callebaut Group\\u003c/li\\u003e\\u003cli\\u003eGeneral Motors\\u003c/li\\u003e\\u003c/ul\\u003e\"}, {\"color\": \"#01009a\", \"font\": {\"color\": \"black\"}, \"id\": \"Clinical Research Coordinator\", \"label\": \"Clinical Research Coordinator\", \"shape\": \"dot\", \"size\": 4, \"title\": \"\\u003cb\\u003eClinical Research Coordinator\\u003c/b\\u003e \\u2013 4\\u003cul\\u003e\\u003cli\\u003eUW School of Medicine and Public Health\\u003c/li\\u003e\\u003cli\\u003eUniversity of California, San Francisco\\u003c/li\\u003e\\u003cli\\u003eUW Carbone Cancer Center\\u003c/li\\u003e\\u003cli\\u003eCleveland Clinic\\u003c/li\\u003e\\u003c/ul\\u003e\"}, {\"color\": \"#01009a\", \"font\": {\"color\": \"black\"}, \"id\": \"Researcher\", \"label\": \"Researcher\", \"shape\": \"dot\", \"size\": 4, \"title\": \"\\u003cb\\u003eResearcher\\u003c/b\\u003e \\u2013 4\\u003cul\\u003e\\u003cli\\u003eBoston University\\u003c/li\\u003e\\u003cli\\u003eMassachusetts Institute of Technology\\u003c/li\\u003e\\u003cli\\u003eHasso Plattner Institute\\u003c/li\\u003e\\u003cli\\u003eClinical SCORE\\u003c/li\\u003e\\u003c/ul\\u003e\"}, {\"color\": \"#01009a\", \"font\": {\"color\": \"black\"}, \"id\": \"Technology Consultant\", \"label\": \"Technology Consultant\", \"shape\": \"dot\", \"size\": 3, \"title\": \"\\u003cb\\u003eTechnology Consultant\\u003c/b\\u003e \\u2013 3\\u003cul\\u003e\\u003cli\\u003eRoots and Journeys\\u003c/li\\u003e\\u003cli\\u003ePwC India\\u003c/li\\u003e\\u003cli\\u003eEY\\u003c/li\\u003e\\u003c/ul\\u003e\"}, {\"color\": \"#01009a\", \"font\": {\"color\": \"black\"}, \"id\": \"Private Equity Intern\", \"label\": \"Private Equity Intern\", \"shape\": \"dot\", \"size\": 3, \"title\": \"\\u003cb\\u003ePrivate Equity Intern\\u003c/b\\u003e \\u2013 3\\u003cul\\u003e\\u003cli\\u003eTeak Partners SF LLC\\u003c/li\\u003e\\u003cli\\u003eFosun Capital\\u003c/li\\u003e\\u003cli\\u003eGarden City Companies\\u003c/li\\u003e\\u003c/ul\\u003e\"}, {\"color\": \"#01009a\", \"font\": {\"color\": \"black\"}, \"id\": \"Senior Software Engineer\", \"label\": \"Senior Software Engineer\", \"shape\": \"dot\", \"size\": 3, \"title\": \"\\u003cb\\u003eSenior Software Engineer\\u003c/b\\u003e \\u2013 3\\u003cul\\u003e\\u003cli\\u003eAmazon Web Services (AWS)\\u003c/li\\u003e\\u003cli\\u003eMIM Software Inc.\\u003c/li\\u003e\\u003cli\\u003eGoogle\\u003c/li\\u003e\\u003c/ul\\u003e\"}, {\"color\": \"#01009a\", \"font\": {\"color\": \"black\"}, \"id\": \"Marketing Intern\", \"label\": \"Marketing Intern\", \"shape\": \"dot\", \"size\": 3, \"title\": \"\\u003cb\\u003eMarketing Intern\\u003c/b\\u003e \\u2013 3\\u003cul\\u003e\\u003cli\\u003eArkose Labs\\u003c/li\\u003e\\u003cli\\u003eChowbus\\u003c/li\\u003e\\u003cli\\u003eL\\u0027Or\\u00e9al\\u003c/li\\u003e\\u003c/ul\\u003e\"}, {\"color\": \"#01009a\", \"font\": {\"color\": \"black\"}, \"id\": \"Doctoral Student\", \"label\": \"Doctoral Student\", \"shape\": \"dot\", \"size\": 3, \"title\": \"\\u003cb\\u003eDoctoral Student\\u003c/b\\u003e \\u2013 3\\u003cul\\u003e\\u003cli\\u003eThe Chinese University of Hong Kong\\u003c/li\\u003e\\u003cli\\u003eUniversity of Michigan\\u003c/li\\u003e\\u003cli\\u003eDuke University School of Medicine\\u003c/li\\u003e\\u003c/ul\\u003e\"}, {\"color\": \"#01009a\", \"font\": {\"color\": \"black\"}, \"id\": \"Senior Associate\", \"label\": \"Senior Associate\", \"shape\": \"dot\", \"size\": 3, \"title\": \"\\u003cb\\u003eSenior Associate\\u003c/b\\u003e \\u2013 3\\u003cul\\u003e\\u003cli\\u003eStrategy\\u0026\\u003c/li\\u003e\\u003cli\\u003eRed Ventures\\u003c/li\\u003e\\u003c/ul\\u003e\"}, {\"color\": \"#01009a\", \"font\": {\"color\": \"black\"}, \"id\": \"Business Development Representative\", \"label\": \"Business Development Representative\", \"shape\": \"dot\", \"size\": 3, \"title\": \"\\u003cb\\u003eBusiness Development Representative\\u003c/b\\u003e \\u2013 3\\u003cul\\u003e\\u003cli\\u003eCloudflare, Inc.\\u003c/li\\u003e\\u003cli\\u003eRippleMatch\\u003c/li\\u003e\\u003cli\\u003eNetSuite\\u003c/li\\u003e\\u003c/ul\\u003e\"}, {\"color\": \"#01009a\", \"font\": {\"color\": \"black\"}, \"id\": \"Research Intern\", \"label\": \"Research Intern\", \"shape\": \"dot\", \"size\": 3, \"title\": \"\\u003cb\\u003eResearch Intern\\u003c/b\\u003e \\u2013 3\\u003cul\\u003e\\u003cli\\u003eCarnegie Mellon University\\u003c/li\\u003e\\u003cli\\u003eFilene Research Institute\\u003c/li\\u003e\\u003cli\\u003eVinaCapital Fund Management JSC\\u003c/li\\u003e\\u003c/ul\\u003e\"}, {\"color\": \"#01009a\", \"font\": {\"color\": \"black\"}, \"id\": \"Principal\", \"label\": \"Principal\", \"shape\": \"dot\", \"size\": 3, \"title\": \"\\u003cb\\u003ePrincipal\\u003c/b\\u003e \\u2013 3\\u003cul\\u003e\\u003cli\\u003eTRIPLE S VENTURES\\u003c/li\\u003e\\u003cli\\u003eBoston Consulting Group (BCG)\\u003c/li\\u003e\\u003cli\\u003eTouchstone Partners\\u003c/li\\u003e\\u003c/ul\\u003e\"}, {\"color\": \"#01009a\", \"font\": {\"color\": \"black\"}, \"id\": \"Community Manager\", \"label\": \"Community Manager\", \"shape\": \"dot\", \"size\": 3, \"title\": \"\\u003cb\\u003eCommunity Manager\\u003c/b\\u003e \\u2013 3\\u003cul\\u003e\\u003cli\\u003eThe Olive Grove - Beirut\\u003c/li\\u003e\\u003cli\\u003eJPMorgan Chase \\u0026 Co.\\u003c/li\\u003e\\u003cli\\u003eBlockchain Projects\\u003c/li\\u003e\\u003c/ul\\u003e\"}, {\"color\": \"#01009a\", \"font\": {\"color\": \"black\"}, \"id\": \"Senior Manager\", \"label\": \"Senior Manager\", \"shape\": \"dot\", \"size\": 3, \"title\": \"\\u003cb\\u003eSenior Manager\\u003c/b\\u003e \\u2013 3\\u003cul\\u003e\\u003cli\\u003eINSIGHT2PROFIT\\u003c/li\\u003e\\u003cli\\u003eIllinois Business Consulting\\u003c/li\\u003e\\u003cli\\u003eBain \\u0026 Company\\u003c/li\\u003e\\u003c/ul\\u003e\"}, {\"color\": \"#01009a\", \"font\": {\"color\": \"black\"}, \"id\": \"Peer Tutor\", \"label\": \"Peer Tutor\", \"shape\": \"dot\", \"size\": 3, \"title\": \"\\u003cb\\u003ePeer Tutor\\u003c/b\\u003e \\u2013 3\\u003cul\\u003e\\u003cli\\u003eCase Western Reserve University\\u003c/li\\u003e\\u003cli\\u003eUniversity at Buffalo\\u003c/li\\u003e\\u003c/ul\\u003e\"}, {\"color\": \"#01009a\", \"font\": {\"color\": \"black\"}, \"id\": \"Chief Executive Officer\", \"label\": \"Chief Executive Officer\", \"shape\": \"dot\", \"size\": 3, \"title\": \"\\u003cb\\u003eChief Executive Officer\\u003c/b\\u003e \\u2013 3\\u003cul\\u003e\\u003cli\\u003eBrixton Stratford\\u003c/li\\u003e\\u003cli\\u003e11:11 Investment Group, LLC\\u003c/li\\u003e\\u003cli\\u003eAH Global Enterprises LLC\\u003c/li\\u003e\\u003c/ul\\u003e\"}, {\"color\": \"#01009a\", \"font\": {\"color\": \"black\"}, \"id\": \"Designer\", \"label\": \"Designer\", \"shape\": \"dot\", \"size\": 3, \"title\": \"\\u003cb\\u003eDesigner\\u003c/b\\u003e \\u2013 3\\u003cul\\u003e\\u003cli\\u003eProSomnus\\u00ae Sleep Technologies\\u003c/li\\u003e\\u003cli\\u003eModjeska Playhouse\\u003c/li\\u003e\\u003cli\\u003eElectronic Arts (EA)\\u003c/li\\u003e\\u003c/ul\\u003e\"}, {\"color\": \"#01009a\", \"font\": {\"color\": \"black\"}, \"id\": \"Business Development Intern\", \"label\": \"Business Development Intern\", \"shape\": \"dot\", \"size\": 3, \"title\": \"\\u003cb\\u003eBusiness Development Intern\\u003c/b\\u003e \\u2013 3\\u003cul\\u003e\\u003cli\\u003eJD.COM\\u003c/li\\u003e\\u003cli\\u003eChina Telecom Americas\\u003c/li\\u003e\\u003cli\\u003eManpowerGroup\\u003c/li\\u003e\\u003c/ul\\u003e\"}, {\"color\": \"#01009a\", \"font\": {\"color\": \"black\"}, \"id\": \"Project Engineer\", \"label\": \"Project Engineer\", \"shape\": \"dot\", \"size\": 3, \"title\": \"\\u003cb\\u003eProject Engineer\\u003c/b\\u003e \\u2013 3\\u003cul\\u003e\\u003cli\\u003eBay Cities Paving \\u0026 Grading\\u003c/li\\u003e\\u003cli\\u003eTrillium Flow Technologies\\u003c/li\\u003e\\u003cli\\u003eThe Ruhlin Company\\u003c/li\\u003e\\u003c/ul\\u003e\"}, {\"color\": \"#01009a\", \"font\": {\"color\": \"black\"}, \"id\": \"Summer Analyst\", \"label\": \"Summer Analyst\", \"shape\": \"dot\", \"size\": 3, \"title\": \"\\u003cb\\u003eSummer Analyst\\u003c/b\\u003e \\u2013 3\\u003cul\\u003e\\u003cli\\u003eCredit Suisse\\u003c/li\\u003e\\u003cli\\u003eAltman Solon\\u003c/li\\u003e\\u003c/ul\\u003e\"}, {\"color\": \"#01009a\", \"font\": {\"color\": \"black\"}, \"id\": \"Senior Analyst\", \"label\": \"Senior Analyst\", \"shape\": \"dot\", \"size\": 3, \"title\": \"\\u003cb\\u003eSenior Analyst\\u003c/b\\u003e \\u2013 3\\u003cul\\u003e\\u003cli\\u003eMcKinsey \\u0026 Company\\u003c/li\\u003e\\u003cli\\u003eWayfair\\u003c/li\\u003e\\u003cli\\u003eGoldman Sachs\\u003c/li\\u003e\\u003c/ul\\u003e\"}, {\"color\": \"#01009a\", \"font\": {\"color\": \"black\"}, \"id\": \"President\", \"label\": \"President\", \"shape\": \"dot\", \"size\": 3, \"title\": \"\\u003cb\\u003ePresident\\u003c/b\\u003e \\u2013 3\\u003cul\\u003e\\u003cli\\u003eDuke MEM Product Management Club\\u003c/li\\u003e\\u003cli\\u003eSHPE CWRU\\u003c/li\\u003e\\u003cli\\u003eArnoff and Associates Inc.\\u003c/li\\u003e\\u003c/ul\\u003e\"}, {\"color\": \"#01009a\", \"font\": {\"color\": \"black\"}, \"id\": \"Associate Partner\", \"label\": \"Associate Partner\", \"shape\": \"dot\", \"size\": 3, \"title\": \"\\u003cb\\u003eAssociate Partner\\u003c/b\\u003e \\u2013 3\\u003cul\\u003e\\u003cli\\u003eMcKinsey \\u0026 Company\\u003c/li\\u003e\\u003c/ul\\u003e\"}, {\"color\": \"#01009a\", \"font\": {\"color\": \"black\"}, \"id\": \"Mechanical Engineering Intern\", \"label\": \"Mechanical Engineering Intern\", \"shape\": \"dot\", \"size\": 3, \"title\": \"\\u003cb\\u003eMechanical Engineering Intern\\u003c/b\\u003e \\u2013 3\\u003cul\\u003e\\u003cli\\u003eTTM Technologies\\u003c/li\\u003e\\u003cli\\u003eFormlabs\\u003c/li\\u003e\\u003cli\\u003eSafran\\u003c/li\\u003e\\u003c/ul\\u003e\"}, {\"color\": \"#01009a\", \"font\": {\"color\": \"black\"}, \"id\": \"Co-Founder \\u0026 CEO\", \"label\": \"Co-Founder \\u0026 CEO\", \"shape\": \"dot\", \"size\": 3, \"title\": \"\\u003cb\\u003eCo-Founder \\u0026 CEO\\u003c/b\\u003e \\u2013 3\\u003cul\\u003e\\u003cli\\u003eGoldstar Publishing LLC\\u003c/li\\u003e\\u003cli\\u003eFunding U\\u003c/li\\u003e\\u003cli\\u003eWholeMark\\u003c/li\\u003e\\u003c/ul\\u003e\"}, {\"color\": \"#01009a\", \"font\": {\"color\": \"black\"}, \"id\": \"Supply Chain Intern\", \"label\": \"Supply Chain Intern\", \"shape\": \"dot\", \"size\": 3, \"title\": \"\\u003cb\\u003eSupply Chain Intern\\u003c/b\\u003e \\u2013 3\\u003cul\\u003e\\u003cli\\u003eShanxi Jincheng Anthracite Mining Group Co. Ltd.\\u003c/li\\u003e\\u003cli\\u003eFortune Brands Global Plumbing Group\\u003c/li\\u003e\\u003cli\\u003eDealer Tire\\u003c/li\\u003e\\u003c/ul\\u003e\"}, {\"color\": \"#01009a\", \"font\": {\"color\": \"black\"}, \"id\": \"Private Equity Analyst\", \"label\": \"Private Equity Analyst\", \"shape\": \"dot\", \"size\": 3, \"title\": \"\\u003cb\\u003ePrivate Equity Analyst\\u003c/b\\u003e \\u2013 3\\u003cul\\u003e\\u003cli\\u003eCoStone Capital \\u57fa\\u77f3\\u8d44\\u672c\\u003c/li\\u003e\\u003cli\\u003eSearch Fund Accelerator\\u003c/li\\u003e\\u003cli\\u003eCAPCELLENCE Mittelstandspartner GmbH\\u003c/li\\u003e\\u003c/ul\\u003e\"}, {\"color\": \"#01009a\", \"font\": {\"color\": \"black\"}, \"id\": \"Full Stack Developer\", \"label\": \"Full Stack Developer\", \"shape\": \"dot\", \"size\": 3, \"title\": \"\\u003cb\\u003eFull Stack Developer\\u003c/b\\u003e \\u2013 3\\u003cul\\u003e\\u003cli\\u003e7-Eleven\\u003c/li\\u003e\\u003cli\\u003eInfosys\\u003c/li\\u003e\\u003cli\\u003eTechEquipt Pty Ltd\\u003c/li\\u003e\\u003c/ul\\u003e\"}, {\"color\": \"#01009a\", \"font\": {\"color\": \"black\"}, \"id\": \"Technical Solutions Engineer\", \"label\": \"Technical Solutions Engineer\", \"shape\": \"dot\", \"size\": 3, \"title\": \"\\u003cb\\u003eTechnical Solutions Engineer\\u003c/b\\u003e \\u2013 3\\u003cul\\u003e\\u003cli\\u003eEpic\\u003c/li\\u003e\\u003c/ul\\u003e\"}, {\"color\": \"#01009a\", \"font\": {\"color\": \"black\"}, \"id\": \"Business Consultant\", \"label\": \"Business Consultant\", \"shape\": \"dot\", \"size\": 3, \"title\": \"\\u003cb\\u003eBusiness Consultant\\u003c/b\\u003e \\u2013 3\\u003cul\\u003e\\u003cli\\u003eKPMG India\\u003c/li\\u003e\\u003cli\\u003eEY\\u003c/li\\u003e\\u003c/ul\\u003e\"}, {\"color\": \"#01009a\", \"font\": {\"color\": \"black\"}, \"id\": \"Business Technology Analyst\", \"label\": \"Business Technology Analyst\", \"shape\": \"dot\", \"size\": 3, \"title\": \"\\u003cb\\u003eBusiness Technology Analyst\\u003c/b\\u003e \\u2013 3\\u003cul\\u003e\\u003cli\\u003eDeloitte Consulting\\u003c/li\\u003e\\u003c/ul\\u003e\"}, {\"color\": \"#01009a\", \"font\": {\"color\": \"black\"}, \"id\": \"Assistant Manager\", \"label\": \"Assistant Manager\", \"shape\": \"dot\", \"size\": 3, \"title\": \"\\u003cb\\u003eAssistant Manager\\u003c/b\\u003e \\u2013 3\\u003cul\\u003e\\u003cli\\u003eHSBC\\u003c/li\\u003e\\u003cli\\u003eHotel Gallery\\u003c/li\\u003e\\u003cli\\u003eKPMG\\u003c/li\\u003e\\u003c/ul\\u003e\"}, {\"color\": \"#01009a\", \"font\": {\"color\": \"black\"}, \"id\": \"Undergraduate Teaching Assistant\", \"label\": \"Undergraduate Teaching Assistant\", \"shape\": \"dot\", \"size\": 3, \"title\": \"\\u003cb\\u003eUndergraduate Teaching Assistant\\u003c/b\\u003e \\u2013 3\\u003cul\\u003e\\u003cli\\u003eCase Western Reserve University\\u003c/li\\u003e\\u003c/ul\\u003e\"}]);\n",
              "        edges = new vis.DataSet([{\"color\": \"grey\", \"from\": \"Minh Pham\", \"to\": \"Software Engineer\", \"weight\": 1}, {\"color\": \"grey\", \"from\": \"Minh Pham\", \"to\": \"Research Assistant\", \"weight\": 1}, {\"color\": \"grey\", \"from\": \"Minh Pham\", \"to\": \"Business Analyst\", \"weight\": 1}, {\"color\": \"grey\", \"from\": \"Minh Pham\", \"to\": \"Founder\", \"weight\": 1}, {\"color\": \"grey\", \"from\": \"Minh Pham\", \"to\": \"Graduate Research Assistant\", \"weight\": 1}, {\"color\": \"grey\", \"from\": \"Minh Pham\", \"to\": \"Product Manager\", \"weight\": 1}, {\"color\": \"grey\", \"from\": \"Minh Pham\", \"to\": \"Consultant\", \"weight\": 1}, {\"color\": \"grey\", \"from\": \"Minh Pham\", \"to\": \"Associate\", \"weight\": 1}, {\"color\": \"grey\", \"from\": \"Minh Pham\", \"to\": \"MBA Candidate\", \"weight\": 1}, {\"color\": \"grey\", \"from\": \"Minh Pham\", \"to\": \"Project Manager\", \"weight\": 1}, {\"color\": \"grey\", \"from\": \"Minh Pham\", \"to\": \"Software Engineer Intern\", \"weight\": 1}, {\"color\": \"grey\", \"from\": \"Minh Pham\", \"to\": \"Teaching Assistant\", \"weight\": 1}, {\"color\": \"grey\", \"from\": \"Minh Pham\", \"to\": \"Co-Founder\", \"weight\": 1}, {\"color\": \"grey\", \"from\": \"Minh Pham\", \"to\": \"Analyst\", \"weight\": 1}, {\"color\": \"grey\", \"from\": \"Minh Pham\", \"to\": \"Data Analyst\", \"weight\": 1}, {\"color\": \"grey\", \"from\": \"Minh Pham\", \"to\": \"Associate Product Manager\", \"weight\": 1}, {\"color\": \"grey\", \"from\": \"Minh Pham\", \"to\": \"Mechanical Engineer\", \"weight\": 1}, {\"color\": \"grey\", \"from\": \"Minh Pham\", \"to\": \"Investment Banking Analyst\", \"weight\": 1}, {\"color\": \"grey\", \"from\": \"Minh Pham\", \"to\": \"Senior Product Manager\", \"weight\": 1}, {\"color\": \"grey\", \"from\": \"Minh Pham\", \"to\": \"Financial Analyst\", \"weight\": 1}, {\"color\": \"grey\", \"from\": \"Minh Pham\", \"to\": \"Summer Intern\", \"weight\": 1}, {\"color\": \"grey\", \"from\": \"Minh Pham\", \"to\": \"Software Developer\", \"weight\": 1}, {\"color\": \"grey\", \"from\": \"Minh Pham\", \"to\": \"Admissions Ambassador\", \"weight\": 1}, {\"color\": \"grey\", \"from\": \"Minh Pham\", \"to\": \"Program Manager\", \"weight\": 1}, {\"color\": \"grey\", \"from\": \"Minh Pham\", \"to\": \"Undergraduate Research Assistant\", \"weight\": 1}, {\"color\": \"grey\", \"from\": \"Minh Pham\", \"to\": \"Software Development Engineer\", \"weight\": 1}, {\"color\": \"grey\", \"from\": \"Minh Pham\", \"to\": \"Graduate Student\", \"weight\": 1}, {\"color\": \"grey\", \"from\": \"Minh Pham\", \"to\": \"Graduate Teaching Assistant\", \"weight\": 1}, {\"color\": \"grey\", \"from\": \"Minh Pham\", \"to\": \"Associate Consultant\", \"weight\": 1}, {\"color\": \"grey\", \"from\": \"Minh Pham\", \"to\": \"Strategy Consultant\", \"weight\": 1}, {\"color\": \"grey\", \"from\": \"Minh Pham\", \"to\": \"Data Analyst Intern\", \"weight\": 1}, {\"color\": \"grey\", \"from\": \"Minh Pham\", \"to\": \"Senior Consultant\", \"weight\": 1}, {\"color\": \"grey\", \"from\": \"Minh Pham\", \"to\": \"Student\", \"weight\": 1}, {\"color\": \"grey\", \"from\": \"Minh Pham\", \"to\": \"Data Scientist\", \"weight\": 1}, {\"color\": \"grey\", \"from\": \"Minh Pham\", \"to\": \"Project Innovator\", \"weight\": 1}, {\"color\": \"grey\", \"from\": \"Minh Pham\", \"to\": \"Research Associate\", \"weight\": 1}, {\"color\": \"grey\", \"from\": \"Minh Pham\", \"to\": \"Intern\", \"weight\": 1}, {\"color\": \"grey\", \"from\": \"Minh Pham\", \"to\": \"Undergraduate Researcher\", \"weight\": 1}, {\"color\": \"grey\", \"from\": \"Minh Pham\", \"to\": \"Founder \\u0026 CEO\", \"weight\": 1}, {\"color\": \"grey\", \"from\": \"Minh Pham\", \"to\": \"Registered Nurse\", \"weight\": 1}, {\"color\": \"grey\", \"from\": \"Minh Pham\", \"to\": \"Project Leader\", \"weight\": 1}, {\"color\": \"grey\", \"from\": \"Minh Pham\", \"to\": \"Graduate Student Researcher\", \"weight\": 1}, {\"color\": \"grey\", \"from\": \"Minh Pham\", \"to\": \"Executive Assistant\", \"weight\": 1}, {\"color\": \"grey\", \"from\": \"Minh Pham\", \"to\": \"Resident Assistant\", \"weight\": 1}, {\"color\": \"grey\", \"from\": \"Minh Pham\", \"to\": \"Process Engineer\", \"weight\": 1}, {\"color\": \"grey\", \"from\": \"Minh Pham\", \"to\": \"Clinical Research Coordinator\", \"weight\": 1}, {\"color\": \"grey\", \"from\": \"Minh Pham\", \"to\": \"Researcher\", \"weight\": 1}, {\"color\": \"grey\", \"from\": \"Minh Pham\", \"to\": \"Technology Consultant\", \"weight\": 1}, {\"color\": \"grey\", \"from\": \"Minh Pham\", \"to\": \"Private Equity Intern\", \"weight\": 1}, {\"color\": \"grey\", \"from\": \"Minh Pham\", \"to\": \"Senior Software Engineer\", \"weight\": 1}, {\"color\": \"grey\", \"from\": \"Minh Pham\", \"to\": \"Marketing Intern\", \"weight\": 1}, {\"color\": \"grey\", \"from\": \"Minh Pham\", \"to\": \"Doctoral Student\", \"weight\": 1}, {\"color\": \"grey\", \"from\": \"Minh Pham\", \"to\": \"Senior Associate\", \"weight\": 1}, {\"color\": \"grey\", \"from\": \"Minh Pham\", \"to\": \"Business Development Representative\", \"weight\": 1}, {\"color\": \"grey\", \"from\": \"Minh Pham\", \"to\": \"Research Intern\", \"weight\": 1}, {\"color\": \"grey\", \"from\": \"Minh Pham\", \"to\": \"Principal\", \"weight\": 1}, {\"color\": \"grey\", \"from\": \"Minh Pham\", \"to\": \"Community Manager\", \"weight\": 1}, {\"color\": \"grey\", \"from\": \"Minh Pham\", \"to\": \"Senior Manager\", \"weight\": 1}, {\"color\": \"grey\", \"from\": \"Minh Pham\", \"to\": \"Peer Tutor\", \"weight\": 1}, {\"color\": \"grey\", \"from\": \"Minh Pham\", \"to\": \"Chief Executive Officer\", \"weight\": 1}, {\"color\": \"grey\", \"from\": \"Minh Pham\", \"to\": \"Designer\", \"weight\": 1}, {\"color\": \"grey\", \"from\": \"Minh Pham\", \"to\": \"Business Development Intern\", \"weight\": 1}, {\"color\": \"grey\", \"from\": \"Minh Pham\", \"to\": \"Project Engineer\", \"weight\": 1}, {\"color\": \"grey\", \"from\": \"Minh Pham\", \"to\": \"Summer Analyst\", \"weight\": 1}, {\"color\": \"grey\", \"from\": \"Minh Pham\", \"to\": \"Senior Analyst\", \"weight\": 1}, {\"color\": \"grey\", \"from\": \"Minh Pham\", \"to\": \"President\", \"weight\": 1}, {\"color\": \"grey\", \"from\": \"Minh Pham\", \"to\": \"Associate Partner\", \"weight\": 1}, {\"color\": \"grey\", \"from\": \"Minh Pham\", \"to\": \"Mechanical Engineering Intern\", \"weight\": 1}, {\"color\": \"grey\", \"from\": \"Minh Pham\", \"to\": \"Co-Founder \\u0026 CEO\", \"weight\": 1}, {\"color\": \"grey\", \"from\": \"Minh Pham\", \"to\": \"Supply Chain Intern\", \"weight\": 1}, {\"color\": \"grey\", \"from\": \"Minh Pham\", \"to\": \"Private Equity Analyst\", \"weight\": 1}, {\"color\": \"grey\", \"from\": \"Minh Pham\", \"to\": \"Full Stack Developer\", \"weight\": 1}, {\"color\": \"grey\", \"from\": \"Minh Pham\", \"to\": \"Technical Solutions Engineer\", \"weight\": 1}, {\"color\": \"grey\", \"from\": \"Minh Pham\", \"to\": \"Business Consultant\", \"weight\": 1}, {\"color\": \"grey\", \"from\": \"Minh Pham\", \"to\": \"Business Technology Analyst\", \"weight\": 1}, {\"color\": \"grey\", \"from\": \"Minh Pham\", \"to\": \"Assistant Manager\", \"weight\": 1}, {\"color\": \"grey\", \"from\": \"Minh Pham\", \"to\": \"Undergraduate Teaching Assistant\", \"weight\": 1}]);\n",
              "\n",
              "        // adding nodes and edges to the graph\n",
              "        data = {nodes: nodes, edges: edges};\n",
              "\n",
              "        var options = {\n",
              "    \"configure\": {\n",
              "        \"enabled\": false\n",
              "    },\n",
              "    \"edges\": {\n",
              "        \"color\": {\n",
              "            \"inherit\": true\n",
              "        },\n",
              "        \"smooth\": {\n",
              "            \"enabled\": false,\n",
              "            \"type\": \"continuous\"\n",
              "        }\n",
              "    },\n",
              "    \"interaction\": {\n",
              "        \"dragNodes\": true,\n",
              "        \"hideEdgesOnDrag\": false,\n",
              "        \"hideNodesOnDrag\": false\n",
              "    },\n",
              "    \"physics\": {\n",
              "        \"enabled\": true,\n",
              "        \"hierarchicalRepulsion\": {\n",
              "            \"centralGravity\": 0.0,\n",
              "            \"damping\": 0.09,\n",
              "            \"nodeDistance\": 120,\n",
              "            \"springConstant\": 0.01,\n",
              "            \"springLength\": 100\n",
              "        },\n",
              "        \"solver\": \"hierarchicalRepulsion\",\n",
              "        \"stabilization\": {\n",
              "            \"enabled\": true,\n",
              "            \"fit\": true,\n",
              "            \"iterations\": 1000,\n",
              "            \"onlyDynamicEdges\": false,\n",
              "            \"updateInterval\": 50\n",
              "        }\n",
              "    }\n",
              "};\n",
              "        \n",
              "        \n",
              "\n",
              "        \n",
              "\n",
              "        network = new vis.Network(container, data, options);\n",
              "\t \n",
              "        \n",
              "\n",
              "\n",
              "        \n",
              "\n",
              "        return network;\n",
              "\n",
              "    }\n",
              "\n",
              "    drawGraph();\n",
              "\n",
              "</script>\n",
              "</body>\n",
              "</html>"
            ],
            "text/plain": [
              "<IPython.core.display.HTML object>"
            ]
          },
          "metadata": {}
        }
      ]
    },
    {
      "cell_type": "markdown",
      "metadata": {
        "id": "1ZVBxjgAdsXQ"
      },
      "source": [
        "##### **Use Datapane to publish visualization**"
      ]
    },
    {
      "cell_type": "code",
      "metadata": {
        "colab": {
          "base_uri": "https://localhost:8080/"
        },
        "id": "XNn-630_dx1E",
        "outputId": "1848f050-de3a-40b2-e6ce-5737131b9639"
      },
      "source": [
        "!datapane login --server=https://datapane.com/ --token=''"
      ],
      "execution_count": null,
      "outputs": [
        {
          "output_type": "stream",
          "name": "stdout",
          "text": [
            "\u001b[32mConnected successfully to https://datapane.com as minhtpham\u001b[0m\n"
          ]
        }
      ]
    },
    {
      "cell_type": "code",
      "metadata": {
        "id": "Tatmt4DJhAtv"
      },
      "source": [
        "def read_html(name: str):\n",
        "    import codecs\n",
        "    f = codecs.open(name, 'r')\n",
        "    return f.read()"
      ],
      "execution_count": null,
      "outputs": []
    },
    {
      "cell_type": "code",
      "metadata": {
        "colab": {
          "base_uri": "https://localhost:8080/"
        },
        "id": "ucrIMgWAfrkF",
        "outputId": "48755e89-c924-4ad1-9b8b-1b8715da1168"
      },
      "source": [
        "viz1 = dp.Report(dp.HTML(read_html('company_graph.html')))\n",
        "viz1.upload(name = 'linkedin_company_network')\n",
        "\n",
        "viz2 = dp.Report(dp.HTML(read_html('position_graph.html')))\n",
        "viz1.upload(name = 'linkedin_position_network')"
      ],
      "execution_count": null,
      "outputs": [
        {
          "output_type": "stream",
          "name": "stdout",
          "text": [
            "Uploading report and associated data - *please wait...*\n",
            "Your report only contains a single element - did you know you can include additional plots, tables and text in a single report? Check out https://docs.datapane.com/reports/blocks/layout-pages-and-selects for more info\n",
            "Report successfully uploaded at https://datapane.com/u/minhtpham/reports/J35lgLA/linkedin-company-network/, follow the link to view and share your report.\n",
            "Uploading report and associated data - *please wait...*\n",
            "Your report only contains a single element - did you know you can include additional plots, tables and text in a single report? Check out https://docs.datapane.com/reports/blocks/layout-pages-and-selects for more info\n",
            "Report successfully uploaded at https://datapane.com/u/minhtpham/reports/j3LQNQ7/linkedin-position-network/, follow the link to view and share your report.\n"
          ]
        }
      ]
    }
  ]
}